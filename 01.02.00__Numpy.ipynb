{
 "cells": [
  {
   "cell_type": "markdown",
   "metadata": {},
   "source": [
    "# Numpy\n",
    "\n",
    "Numpy è un modulo che gestisce e manipola array di numeri.\n",
    "\n",
    "Permette di svolgere operazioni tra tutti gli elementi con una sola istruzione facendo risparmiare molte linee di codice. In questo modo lo stile del codice eviterà diversi *loop* uno dentro l'altro favorendo una scrittura più lineare ed in genere fornisce implementazioni più veloci.\n",
    "\n",
    "A differenze delle liste python, **il tipo di dati è fisso** in numpy perché usa aree di memoria contigue. Questo rende l'implementazione più rapida delle liste usuali. \n",
    "\n",
    "* <a href=\"https://numpy.org/\">documentazione</a>\n",
    "* <a href=\"https://youtu.be/GB9ByFAIAH4\">tutorial online</a>"
   ]
  },
  {
   "cell_type": "code",
   "execution_count": 3,
   "metadata": {},
   "outputs": [],
   "source": [
    "import numpy as np\n",
    "import math\n",
    "import time"
   ]
  },
  {
   "cell_type": "code",
   "execution_count": 4,
   "metadata": {},
   "outputs": [
    {
     "data": {
      "text/plain": [
       "[2, 5, 6, 3, 7, 8, 10]"
      ]
     },
     "execution_count": 4,
     "metadata": {},
     "output_type": "execute_result"
    }
   ],
   "source": [
    "x = [2, 5, 6]\n",
    "y = [3, 7, 8, 10]\n",
    "xy = x + y\n",
    "xy"
   ]
  },
  {
   "cell_type": "code",
   "execution_count": 5,
   "metadata": {},
   "outputs": [
    {
     "name": "stdout",
     "output_type": "stream",
     "text": [
      "[ 5 12 14]\n"
     ]
    }
   ],
   "source": [
    "x = np.array([2, 5, 6])\n",
    "y = np.array([3, 7, 8])\n",
    "xy = x + y\n",
    "print(xy)"
   ]
  },
  {
   "cell_type": "markdown",
   "metadata": {},
   "source": [
    "Definiamo una matrice di rotazione di un angolo $\\theta = \\pi/3$:"
   ]
  },
  {
   "cell_type": "code",
   "execution_count": 7,
   "metadata": {},
   "outputs": [
    {
     "name": "stdout",
     "output_type": "stream",
     "text": [
      "[[ 0.5        0.8660254]\n",
      " [-0.8660254  0.5      ]]\n",
      "dimensions:  2\n",
      "rows, cols:  (2, 2)\n",
      "data type:  float64\n"
     ]
    }
   ],
   "source": [
    "theta = math.pi/3\n",
    "st = math.sin(theta); ct = math.cos(theta)\n",
    "rot = np.array(((ct, st),\n",
    "                (-st, ct)))\n",
    "print(rot)\n",
    "print(\"dimensions: \", rot.ndim)\n",
    "print(\"rows, cols: \", rot.shape)\n",
    "print(\"data type: \", rot.dtype)"
   ]
  },
  {
   "cell_type": "code",
   "execution_count": 9,
   "metadata": {},
   "outputs": [
    {
     "name": "stdout",
     "output_type": "stream",
     "text": [
      "0.5000000000000001 0.8660254037844386\n",
      "-0.8660254037844386 0.5000000000000001\n"
     ]
    }
   ],
   "source": [
    "rot11 = rot[0, 0]; rot12 = rot[0, 1]\n",
    "rot21 = rot[1, 0]; rot22 = rot[1, 1]\n",
    "print(rot11, rot12)\n",
    "print(rot21, rot22)"
   ]
  },
  {
   "cell_type": "markdown",
   "metadata": {},
   "source": [
    "Il tipo dei dati può essere specificato come parametro al momento della creazione dell'array."
   ]
  },
  {
   "cell_type": "code",
   "execution_count": 10,
   "metadata": {},
   "outputs": [
    {
     "name": "stdout",
     "output_type": "stream",
     "text": [
      "[2 5 6]\n"
     ]
    }
   ],
   "source": [
    "x = np.array([2, 5, 6], np.int32)\n",
    "print(x)"
   ]
  },
  {
   "cell_type": "code",
   "execution_count": 11,
   "metadata": {},
   "outputs": [
    {
     "name": "stdout",
     "output_type": "stream",
     "text": [
      "[2. 5. 6.]\n"
     ]
    }
   ],
   "source": [
    "x = np.array([2, 5, 6], np.float16)\n",
    "print(x)"
   ]
  },
  {
   "cell_type": "markdown",
   "metadata": {},
   "source": [
    "Accesso alle specifiche righe:"
   ]
  },
  {
   "cell_type": "code",
   "execution_count": 12,
   "metadata": {},
   "outputs": [
    {
     "name": "stdout",
     "output_type": "stream",
     "text": [
      "[0.5       0.8660254]\n",
      "[-0.8660254  0.5      ]\n",
      "[0.5       0.8660254]\n",
      "[-0.8660254  0.5      ]\n"
     ]
    }
   ],
   "source": [
    "print(rot[0])\n",
    "print(rot[1])\n",
    "print(rot[0, :])\n",
    "print(rot[1, :])"
   ]
  },
  {
   "cell_type": "markdown",
   "metadata": {},
   "source": [
    "Accesso alle specifiche colonne:"
   ]
  },
  {
   "cell_type": "code",
   "execution_count": 13,
   "metadata": {},
   "outputs": [
    {
     "name": "stdout",
     "output_type": "stream",
     "text": [
      "[ 0.5       -0.8660254]\n",
      "[0.8660254 0.5      ]\n"
     ]
    }
   ],
   "source": [
    "print(rot[:, 0])\n",
    "print(rot[:, 1])"
   ]
  },
  {
   "cell_type": "markdown",
   "metadata": {},
   "source": [
    "Accesso a sottoinsiemi della matrice (ossia al *minore* della matrice).\n",
    "Notare: l'ultimo indice in ```1:3``` non è incluso!"
   ]
  },
  {
   "cell_type": "code",
   "execution_count": 14,
   "metadata": {},
   "outputs": [
    {
     "name": "stdout",
     "output_type": "stream",
     "text": [
      "[[ 1  2  3  4]\n",
      " [ 5  6  7  8]\n",
      " [ 9 10 11 12]]\n",
      "[[ 6  7]\n",
      " [10 11]]\n"
     ]
    }
   ],
   "source": [
    "m = np.array([[1, 2, 3, 4],\n",
    "              [5, 6, 7, 8],\n",
    "              [9, 10 , 11, 12]])\n",
    "print(m)\n",
    "m1 = m[1:3, 1:3]\n",
    "print(m1)"
   ]
  },
  {
   "cell_type": "markdown",
   "metadata": {},
   "source": [
    "Accesso agli elementi saltandone un certo numero"
   ]
  },
  {
   "cell_type": "code",
   "execution_count": 15,
   "metadata": {},
   "outputs": [
    {
     "name": "stdout",
     "output_type": "stream",
     "text": [
      "[[ 1  2  3  4  5  6  7  8]\n",
      " [ 9 10 11 12 13 14 15 16]]\n",
      "[[ 1  3  5  7]\n",
      " [ 9 11 13 15]]\n",
      "[[ 2  4  6  8]\n",
      " [10 12 14 16]]\n"
     ]
    }
   ],
   "source": [
    "m = np.array([[1, 2, 3, 4, 5, 6, 7, 8],\n",
    "              [9, 10 , 11, 12, 13, 14, 15, 16]])\n",
    "print(m)\n",
    "# skip even or odd columns \n",
    "me = m[:, 0:8:2]\n",
    "mo = m[:, 1:8:2]\n",
    "print(me)\n",
    "print(mo)"
   ]
  },
  {
   "cell_type": "markdown",
   "metadata": {},
   "source": [
    "Accesso ad elementi dato un insieme di indici"
   ]
  },
  {
   "cell_type": "code",
   "execution_count": 36,
   "metadata": {},
   "outputs": [
    {
     "name": "stdout",
     "output_type": "stream",
     "text": [
      "[10 40 50 70]\n"
     ]
    }
   ],
   "source": [
    "v = np.array([10, 20, 30, 40, 50, 60, 70, 80])\n",
    "x = v[[0, 3, 4, 6]]\n",
    "print(x)"
   ]
  },
  {
   "cell_type": "markdown",
   "metadata": {},
   "source": [
    "Accesso a sottoinsiemi in scrittura:"
   ]
  },
  {
   "cell_type": "code",
   "execution_count": 22,
   "metadata": {},
   "outputs": [
    {
     "name": "stdout",
     "output_type": "stream",
     "text": [
      "[0. 0. 0. 0. 0. 0. 0. 0. 0. 0.]\n"
     ]
    }
   ],
   "source": [
    "x = np.zeros(10)\n",
    "print(x)"
   ]
  },
  {
   "cell_type": "code",
   "execution_count": 23,
   "metadata": {},
   "outputs": [
    {
     "name": "stdout",
     "output_type": "stream",
     "text": [
      "[0. 0. 2. 2. 2. 0. 0. 0. 0. 0.]\n"
     ]
    }
   ],
   "source": [
    "x[2:5] = 2\n",
    "print(x)"
   ]
  },
  {
   "cell_type": "code",
   "execution_count": 24,
   "metadata": {},
   "outputs": [
    {
     "name": "stdout",
     "output_type": "stream",
     "text": [
      "[0. 0. 1. 2. 3. 0. 0. 0. 0. 0.]\n"
     ]
    }
   ],
   "source": [
    "x[2:5] = [1, 2, 3]\n",
    "print(x)"
   ]
  },
  {
   "cell_type": "markdown",
   "metadata": {},
   "source": [
    "Inizializzazione: tutti zeri o uno, o non inizializzati"
   ]
  },
  {
   "cell_type": "code",
   "execution_count": 25,
   "metadata": {},
   "outputs": [
    {
     "name": "stdout",
     "output_type": "stream",
     "text": [
      "[[1. 1.]\n",
      " [1. 1.]\n",
      " [1. 1.]]\n"
     ]
    }
   ],
   "source": [
    "x = np.ones((3,2))\n",
    "print(x)"
   ]
  },
  {
   "cell_type": "code",
   "execution_count": 26,
   "metadata": {},
   "outputs": [
    {
     "name": "stdout",
     "output_type": "stream",
     "text": [
      "[[0. 0.]\n",
      " [0. 0.]\n",
      " [0. 0.]]\n"
     ]
    }
   ],
   "source": [
    "x = np.zeros((3,2))\n",
    "print(x)"
   ]
  },
  {
   "cell_type": "code",
   "execution_count": 27,
   "metadata": {},
   "outputs": [
    {
     "name": "stdout",
     "output_type": "stream",
     "text": [
      "[[ 8.91670162e-317  0.00000000e+000  2.57410944e+151  8.32678152e+151\n",
      "   2.18226637e+243 -2.12368099e+127  5.30581644e+180  3.99909652e+252]\n",
      " [ 8.79503545e-313  5.37608664e+241  2.41440681e-310  1.14157059e+243\n",
      "   5.58587014e+228  7.69843824e+218  9.92168240e+247  4.76490683e+180]\n",
      " [ 2.37181201e+213  8.19763873e-019  6.86918836e-008  4.37025033e-310\n",
      "  -3.20207125e+231  2.58933871e-106  1.55887147e-207 -3.05585097e-115]\n",
      " [-1.20734556e+112  1.16061390e+044  3.59801731e-221  3.31505440e-294\n",
      "  -7.05002670e+231  2.58933871e-106  1.01623409e-259  4.53954386e+223]\n",
      " [ 8.78499051e+223 -4.12044749e+127  5.30581644e+180  3.14539978e+161\n",
      "   4.92039623e+223  3.30276079e-261  4.91459053e+252  3.67147300e+228]\n",
      " [ 1.07840839e+198  2.58634340e+161  1.14295469e+243  5.61858310e+175\n",
      "  -5.25191376e+127  4.91369566e+252  4.26137353e+257  1.32794759e-310]]\n"
     ]
    }
   ],
   "source": [
    "x = np.empty((6,8))\n",
    "print(x)"
   ]
  },
  {
   "cell_type": "markdown",
   "metadata": {},
   "source": [
    "Inizializzazione: tutti valori uguali"
   ]
  },
  {
   "cell_type": "code",
   "execution_count": 28,
   "metadata": {},
   "outputs": [
    {
     "name": "stdout",
     "output_type": "stream",
     "text": [
      "[[3.14 3.14 3.14]\n",
      " [3.14 3.14 3.14]]\n"
     ]
    }
   ],
   "source": [
    "x = np.full((2,3),3.14)\n",
    "print(x)"
   ]
  },
  {
   "cell_type": "markdown",
   "metadata": {},
   "source": [
    "Inizializzazione: casuale"
   ]
  },
  {
   "cell_type": "code",
   "execution_count": 29,
   "metadata": {},
   "outputs": [
    {
     "name": "stdout",
     "output_type": "stream",
     "text": [
      "[[0.71315482 0.11377126 0.82666598]\n",
      " [0.72847528 0.45753036 0.77556211]\n",
      " [0.07963491 0.25794017 0.67628368]]\n"
     ]
    }
   ],
   "source": [
    "r = np.random.rand(3,3)\n",
    "print(r)"
   ]
  },
  {
   "cell_type": "markdown",
   "metadata": {},
   "source": [
    "Matrice identità"
   ]
  },
  {
   "cell_type": "code",
   "execution_count": 30,
   "metadata": {},
   "outputs": [
    {
     "name": "stdout",
     "output_type": "stream",
     "text": [
      "[[1. 0. 0. 0.]\n",
      " [0. 1. 0. 0.]\n",
      " [0. 0. 1. 0.]\n",
      " [0. 0. 0. 1.]]\n"
     ]
    }
   ],
   "source": [
    "i = np.identity(4)\n",
    "print(i)"
   ]
  },
  {
   "cell_type": "markdown",
   "metadata": {},
   "source": [
    "Accesso a blocchi in scrittura"
   ]
  },
  {
   "cell_type": "code",
   "execution_count": 31,
   "metadata": {},
   "outputs": [
    {
     "name": "stdout",
     "output_type": "stream",
     "text": [
      "[[ 1.         0.         0.         0.       ]\n",
      " [ 0.         1.         0.         0.       ]\n",
      " [ 0.5        0.8660254  1.         0.       ]\n",
      " [-0.8660254  0.5        0.         1.       ]]\n"
     ]
    }
   ],
   "source": [
    "i[2:4,0:2] = rot\n",
    "print(i)"
   ]
  },
  {
   "cell_type": "code",
   "execution_count": 32,
   "metadata": {},
   "outputs": [
    {
     "name": "stdout",
     "output_type": "stream",
     "text": [
      "[[ 1.         0.         0.5        0.8660254]\n",
      " [ 0.         1.        -0.8660254  0.5      ]\n",
      " [ 0.5        0.8660254  1.         0.       ]\n",
      " [-0.8660254  0.5        0.         1.       ]]\n"
     ]
    }
   ],
   "source": [
    "i[0:2,2:4] = rot\n",
    "print(i)"
   ]
  },
  {
   "cell_type": "code",
   "execution_count": 24,
   "metadata": {},
   "outputs": [
    {
     "data": {
      "text/plain": [
       "array([20, 30, 50])"
      ]
     },
     "execution_count": 24,
     "metadata": {},
     "output_type": "execute_result"
    }
   ],
   "source": [
    "x = np.array([[0, 10, 20, 30, 40, 50, 60]])\n",
    "np.take(x, [2, 3, 5])"
   ]
  },
  {
   "cell_type": "code",
   "execution_count": 25,
   "metadata": {},
   "outputs": [
    {
     "name": "stdout",
     "output_type": "stream",
     "text": [
      "[[1 0 0 0]\n",
      " [0 2 0 0]\n",
      " [0 0 3 0]\n",
      " [0 0 0 4]]\n"
     ]
    }
   ],
   "source": [
    "m = np.array([[1, 0, 0, 0],\n",
    "              [0, 2, 0, 0],\n",
    "              [0, 0, 3, 0],\n",
    "              [0, 0, 0, 4]])\n",
    "print(m)"
   ]
  },
  {
   "cell_type": "code",
   "execution_count": 26,
   "metadata": {},
   "outputs": [
    {
     "name": "stdout",
     "output_type": "stream",
     "text": [
      "[1 2 3 4]\n"
     ]
    }
   ],
   "source": [
    "diag = m[[0, 1, 2, 3], [0, 1, 2, 3]]\n",
    "print(diag)"
   ]
  },
  {
   "cell_type": "markdown",
   "metadata": {},
   "source": [
    "# Copie: shallow vs deep\n",
    "La copia di default è *shallow*, ossia viene assegnato un puntatore all'oggetto originale. Per avere una copia diversa dall'ogetto originale bisogna usare il metodo ```copy()```."
   ]
  },
  {
   "cell_type": "code",
   "execution_count": 27,
   "metadata": {},
   "outputs": [
    {
     "name": "stdout",
     "output_type": "stream",
     "text": [
      "[0. 0. 0. 0. 0.] [0. 0. 0. 0. 0.]\n"
     ]
    }
   ],
   "source": [
    "a = np.zeros(5)\n",
    "b = a\n",
    "print(a, b)"
   ]
  },
  {
   "cell_type": "code",
   "execution_count": 28,
   "metadata": {},
   "outputs": [
    {
     "name": "stdout",
     "output_type": "stream",
     "text": [
      "[0. 0. 9. 2. 0.] [0. 0. 9. 2. 0.]\n"
     ]
    }
   ],
   "source": [
    "a[2] = 9\n",
    "b[3] = 2\n",
    "print(a,b)"
   ]
  },
  {
   "cell_type": "code",
   "execution_count": 29,
   "metadata": {},
   "outputs": [
    {
     "name": "stdout",
     "output_type": "stream",
     "text": [
      "[0. 0. 0. 0. 0.] [0. 0. 0. 0. 0.]\n",
      "[0. 0. 9. 0. 0.] [0. 0. 0. 2. 0.]\n"
     ]
    }
   ],
   "source": [
    "a = np.zeros(5)\n",
    "b = a.copy()\n",
    "print(a, b)\n",
    "a[2] = 9\n",
    "b[3] = 2\n",
    "print(a,b)"
   ]
  },
  {
   "cell_type": "markdown",
   "metadata": {},
   "source": [
    "# Manipolazione con operazioni matematiche\n",
    "\n",
    "In sostanza, tutte le operazioni vengono svolte elemento per elemento.\n",
    "\n",
    "Attenzione! La moltiplicazione tra matrici su puà fare come ```np.matmul(a, b)```, **non** come ```a*b```."
   ]
  },
  {
   "cell_type": "code",
   "execution_count": 30,
   "metadata": {},
   "outputs": [
    {
     "name": "stdout",
     "output_type": "stream",
     "text": [
      "[1 2 3] [2 4 6]\n"
     ]
    }
   ],
   "source": [
    "a = np.array([1, 2, 3])\n",
    "b = a*2\n",
    "print(a, b)"
   ]
  },
  {
   "cell_type": "markdown",
   "metadata": {},
   "source": [
    "Moltiplicazione elemento per elento"
   ]
  },
  {
   "cell_type": "code",
   "execution_count": 31,
   "metadata": {},
   "outputs": [
    {
     "name": "stdout",
     "output_type": "stream",
     "text": [
      "[1 2 3 4] [3 4 5 6] [ 3  8 15 24]\n"
     ]
    }
   ],
   "source": [
    "a = np.array([1, 2, 3, 4]); b = np.array([3, 4, 5, 6])\n",
    "ab = a*b\n",
    "print(a, b, ab)"
   ]
  },
  {
   "cell_type": "code",
   "execution_count": 32,
   "metadata": {},
   "outputs": [
    {
     "name": "stdout",
     "output_type": "stream",
     "text": [
      "[1 2 3 4] [   1   64  729 4096]\n"
     ]
    }
   ],
   "source": [
    "a6 = a**6\n",
    "print(a, a6)"
   ]
  },
  {
   "cell_type": "markdown",
   "metadata": {},
   "source": [
    "Sequenza equispaziata tra un valore minimo ed un valore massimo"
   ]
  },
  {
   "cell_type": "code",
   "execution_count": 33,
   "metadata": {},
   "outputs": [
    {
     "name": "stdout",
     "output_type": "stream",
     "text": [
      "[0.         0.34906585 0.6981317  1.04719755 1.3962634  1.74532925\n",
      " 2.0943951  2.44346095 2.7925268  3.14159265]\n"
     ]
    }
   ],
   "source": [
    "bins = 10\n",
    "theta = np.linspace(0, math.pi, bins)\n",
    "print(theta)"
   ]
  },
  {
   "cell_type": "code",
   "execution_count": 34,
   "metadata": {},
   "outputs": [
    {
     "name": "stdout",
     "output_type": "stream",
     "text": [
      "[0.         0.28559933 0.57119866 0.856798   1.14239733 1.42799666\n",
      " 1.71359599 1.99919533 2.28479466 2.57039399 2.85599332 3.14159265]\n"
     ]
    }
   ],
   "source": [
    "theta = np.linspace(0, math.pi, 12)\n",
    "print(theta)"
   ]
  },
  {
   "cell_type": "markdown",
   "metadata": {},
   "source": [
    "Possiamo calcolare i valori di una funzione corrispondenti agli elementi che passiamo.\n",
    "\n",
    "Questa funzione è estremamente utile per fare grafici di una funzione, che di fatto sono curve che passano per una serie di punti forniti dall'utente."
   ]
  },
  {
   "cell_type": "code",
   "execution_count": 35,
   "metadata": {},
   "outputs": [
    {
     "name": "stdout",
     "output_type": "stream",
     "text": [
      "[ 1.      0.9595  0.8413  0.6549  0.4154  0.1423 -0.1423 -0.4154 -0.6549\n",
      " -0.8413 -0.9595 -1.    ]\n",
      "[0.     0.2817 0.5406 0.7557 0.9096 0.9898 0.9898 0.9096 0.7557 0.5406\n",
      " 0.2817 0.    ]\n"
     ]
    }
   ],
   "source": [
    "ct = np.cos(theta)\n",
    "st = np.sin(theta)\n",
    "np.set_printoptions(precision=4, suppress=True)\n",
    "print(ct)\n",
    "print(st)"
   ]
  },
  {
   "cell_type": "markdown",
   "metadata": {},
   "source": [
    "Applicare ripetutamente una funzione. Questa possibilità sfrutta il fatto che python è un interprete. Purché sia definito l'operatore ```**``` (```x**2```), la funzione ```fun``` può essere eseguita."
   ]
  },
  {
   "cell_type": "code",
   "execution_count": 36,
   "metadata": {},
   "outputs": [
    {
     "name": "stdout",
     "output_type": "stream",
     "text": [
      "[ 0  3  8 15 24]\n"
     ]
    }
   ],
   "source": [
    "v = np.array([1, 2, 3, 4, 5])\n",
    "fun = lambda x: x**2 - 1\n",
    "#def fun(x): return x**2 -1\n",
    "f = fun(v)\n",
    "print(f)"
   ]
  },
  {
   "cell_type": "markdown",
   "metadata": {},
   "source": [
    "Si può definire una funzione che prende come argomento un ```np.array``` e applica ripetutamente un'altra funzione data a ciascun elemento."
   ]
  },
  {
   "cell_type": "code",
   "execution_count": 63,
   "metadata": {},
   "outputs": [],
   "source": [
    "def sinus(x):\n",
    "    return math.sin(x)+math.cos(x)"
   ]
  },
  {
   "cell_type": "code",
   "execution_count": 64,
   "metadata": {},
   "outputs": [
    {
     "name": "stderr",
     "output_type": "stream",
     "text": [
      "Traceback (most recent call last):\n",
      "  File \"<stdin>\", line 2, in <module>\n",
      "NameError: name 'sinus' is not defined\n"
     ]
    }
   ],
   "source": [
    "%%script python --no-raise-error\n",
    "# l'istruzione che segue dà un errore\n",
    "sinus_theta = sinus(theta)"
   ]
  },
  {
   "cell_type": "code",
   "execution_count": 65,
   "metadata": {},
   "outputs": [
    {
     "name": "stdout",
     "output_type": "stream",
     "text": [
      "[ 1.      1.2412  1.3819  1.4106  1.325   1.1321  0.8475  0.4942  0.1009\n",
      " -0.3006 -0.6778 -1.    ]\n",
      "time:  0.0007028579711914062\n"
     ]
    }
   ],
   "source": [
    "t0 = time.time()\n",
    "vfunc = np.vectorize(sinus)\n",
    "sinus_theta = vfunc(theta)\n",
    "print(sinus_theta)\n",
    "print(\"time: \", time.time()-t0)"
   ]
  },
  {
   "cell_type": "code",
   "execution_count": 40,
   "metadata": {},
   "outputs": [
    {
     "name": "stdout",
     "output_type": "stream",
     "text": [
      "[ 1.      1.2412  1.3819  1.4106  1.325   1.1321  0.8475  0.4942  0.1009\n",
      " -0.3006 -0.6778 -1.    ]\n",
      "time:  0.0006334781646728516\n"
     ]
    }
   ],
   "source": [
    "def vsinus(x):\n",
    "    return np.sin(x)+np.cos(x)\n",
    "t0 = time.time()\n",
    "sinus_theta = vsinus(theta)\n",
    "print(sinus_theta)\n",
    "print(\"time: \", time.time()-t0)"
   ]
  },
  {
   "cell_type": "code",
   "execution_count": 41,
   "metadata": {},
   "outputs": [
    {
     "name": "stdout",
     "output_type": "stream",
     "text": [
      "[1.     0.9983 0.9933 0.9851]\n"
     ]
    }
   ],
   "source": [
    "v = np.array([0.0, 0.1, 0.2, 0.3])\n",
    "fun = lambda x: 1.0 if x==0 else math.sin(x)/x\n",
    "f = np.vectorize(fun)(v)\n",
    "print(f)"
   ]
  },
  {
   "cell_type": "markdown",
   "metadata": {},
   "source": [
    "# Algebra lineare"
   ]
  },
  {
   "cell_type": "markdown",
   "metadata": {},
   "source": [
    "Prodotto tra matrici"
   ]
  },
  {
   "cell_type": "code",
   "execution_count": 42,
   "metadata": {},
   "outputs": [
    {
     "name": "stdout",
     "output_type": "stream",
     "text": [
      "[[22 28]\n",
      " [49 64]]\n"
     ]
    }
   ],
   "source": [
    "a = np.array([[1, 2, 3],\n",
    "              [4, 5, 6]], np.int16)\n",
    "b = np.array([[1, 2],\n",
    "              [3, 4],\n",
    "              [5,6]], np.int16)\n",
    "ab = np.matmul(a, b)\n",
    "print(ab)"
   ]
  },
  {
   "cell_type": "markdown",
   "metadata": {},
   "source": [
    "Determinante.\n",
    "**Attenzione! Utilizza solo il formato floating point.**"
   ]
  },
  {
   "cell_type": "code",
   "execution_count": 43,
   "metadata": {},
   "outputs": [
    {
     "name": "stdout",
     "output_type": "stream",
     "text": [
      "35.99999999999982\n",
      "36\n"
     ]
    }
   ],
   "source": [
    "det = np.linalg.det(ab)\n",
    "print(det)\n",
    "print(22*64 - 28*49)"
   ]
  },
  {
   "cell_type": "markdown",
   "metadata": {},
   "source": [
    "Matrice inversa"
   ]
  },
  {
   "cell_type": "code",
   "execution_count": 44,
   "metadata": {},
   "outputs": [
    {
     "name": "stdout",
     "output_type": "stream",
     "text": [
      "[[ 1.7778 -0.7778]\n",
      " [-1.3611  0.6111]]\n"
     ]
    }
   ],
   "source": [
    "inv = np.linalg.inv(ab)\n",
    "print(inv)"
   ]
  },
  {
   "cell_type": "markdown",
   "metadata": {},
   "source": [
    "Calcolo degli autovalori ed autovettori"
   ]
  },
  {
   "cell_type": "code",
   "execution_count": 45,
   "metadata": {},
   "outputs": [
    {
     "name": "stdout",
     "output_type": "stream",
     "text": [
      "[[1 2 0 0]\n",
      " [2 1 0 0]\n",
      " [0 0 2 3]\n",
      " [0 0 3 2]]\n"
     ]
    }
   ],
   "source": [
    "a = np.array([[1, 2, 0, 0],\n",
    "              [2, 1, 0, 0],\n",
    "              [0, 0, 2, 3],\n",
    "              [0, 0, 3, 2]])\n",
    "print(a)"
   ]
  },
  {
   "cell_type": "code",
   "execution_count": 46,
   "metadata": {},
   "outputs": [
    {
     "name": "stdout",
     "output_type": "stream",
     "text": [
      "[ 3. -1.  5. -1.]\n",
      "[[ 0.7071 -0.7071  0.      0.    ]\n",
      " [ 0.7071  0.7071  0.      0.    ]\n",
      " [ 0.      0.      0.7071 -0.7071]\n",
      " [ 0.      0.      0.7071  0.7071]]\n"
     ]
    }
   ],
   "source": [
    "w, v = np.linalg.eig(a)\n",
    "print(w)\n",
    "print(v)"
   ]
  },
  {
   "cell_type": "markdown",
   "metadata": {},
   "source": [
    "# Principali indicatori statistici\n",
    "\n",
    "In seguito daremo una più precisa definizione degli indicatori statistici. Quella che segue è solo un'anteprima."
   ]
  },
  {
   "cell_type": "code",
   "execution_count": 47,
   "metadata": {},
   "outputs": [
    {
     "name": "stdout",
     "output_type": "stream",
     "text": [
      "[0.6003 0.9649 0.1722 0.1554 0.6712 0.9848 0.2894 0.2627 0.0304 0.675 ]\n",
      "0.03039553749159629 0.9848367483221856\n",
      "sum:  4.806374497725242\n",
      "mean:  0.4806374497725242\n",
      "mean:  0.4806374497725242\n",
      "mean sq:  0.3375028588728517\n",
      "variance:  0.10649050074901598\n",
      "variance:  0.10649050074901593\n",
      "std. dev:  0.32632882304359195\n",
      "std. dev:  0.32632882304359195\n"
     ]
    }
   ],
   "source": [
    "x = np.random.rand(10)\n",
    "print(x)\n",
    "print(x.min(),x.max())\n",
    "print(\"sum: \", x.sum())\n",
    "print(\"mean: \", x.sum()/x.shape[0])\n",
    "print(\"mean: \", x.mean())\n",
    "print(\"mean sq: \", (x**2).mean())\n",
    "print(\"variance: \", (x**2).mean()-x.mean()**2)\n",
    "print(\"variance: \", x.var())\n",
    "print(\"std. dev: \", math.sqrt(x.var()))\n",
    "print(\"std. dev: \", x.std())"
   ]
  },
  {
   "cell_type": "code",
   "execution_count": 48,
   "metadata": {},
   "outputs": [
    {
     "name": "stdout",
     "output_type": "stream",
     "text": [
      "[[0.0122 0.2111 0.2722 0.8043]\n",
      " [0.4895 0.3468 0.2012 0.6737]\n",
      " [0.3124 0.5751 0.3453 0.5095]\n",
      " [0.1547 0.0975 0.8035 0.1885]\n",
      " [0.3485 0.6396 0.6692 0.9182]\n",
      " [0.6962 0.4221 0.5327 0.6764]]\n",
      "sum:  10.900373718554372\n",
      "sum cols:  [2.0135 2.2922 2.8241 3.7705]\n",
      "sum rows:  [1.2998 1.7112 1.7423 1.2441 2.5755 2.3274]\n"
     ]
    }
   ],
   "source": [
    "m = np.random.rand(6, 4)\n",
    "print(m)\n",
    "print(\"sum: \", m.sum())\n",
    "print(\"sum cols: \", m.sum(axis = 0))\n",
    "print(\"sum rows: \", m.sum(axis = 1))"
   ]
  },
  {
   "cell_type": "markdown",
   "metadata": {},
   "source": [
    "# Altre manipolazioni"
   ]
  },
  {
   "cell_type": "code",
   "execution_count": 49,
   "metadata": {},
   "outputs": [
    {
     "name": "stdout",
     "output_type": "stream",
     "text": [
      "[[1 2 3 4]\n",
      " [5 6 7 8]]\n"
     ]
    }
   ],
   "source": [
    "v1 = np.array([1, 2, 3, 4])\n",
    "v2 = np.array([5, 6, 7, 8])\n",
    "v = np.vstack([v1,v2])\n",
    "print(v)"
   ]
  },
  {
   "cell_type": "code",
   "execution_count": 50,
   "metadata": {},
   "outputs": [
    {
     "name": "stdout",
     "output_type": "stream",
     "text": [
      "[[ 1  2  5  6  7]\n",
      " [ 3  4  8  9 10]]\n"
     ]
    }
   ],
   "source": [
    "h1 = np.array([[1, 2], [3, 4]])\n",
    "h2 = np.array([[5, 6, 7], [8, 9, 10]])\n",
    "h = np.hstack([h1, h2])\n",
    "print(h)"
   ]
  },
  {
   "cell_type": "markdown",
   "metadata": {},
   "source": [
    "Non è una funzione ```numpy```, ma è un modo comodo per iterare contemporaneamente su due o più array:"
   ]
  },
  {
   "cell_type": "code",
   "execution_count": 51,
   "metadata": {},
   "outputs": [
    {
     "name": "stdout",
     "output_type": "stream",
     "text": [
      "<zip object at 0x7f31197b8680>\n",
      "1 5\n",
      "2 6\n",
      "3 7\n",
      "4 8\n"
     ]
    }
   ],
   "source": [
    "v = zip(v1, v2)\n",
    "print(v)\n",
    "for a, b in zip(v1, v2):\n",
    "    print(a, b)"
   ]
  },
  {
   "cell_type": "markdown",
   "metadata": {},
   "source": [
    "Alternativa in programmazione più \"classica\":"
   ]
  },
  {
   "cell_type": "code",
   "execution_count": 52,
   "metadata": {},
   "outputs": [
    {
     "name": "stdout",
     "output_type": "stream",
     "text": [
      "1 5\n",
      "2 6\n",
      "3 7\n",
      "4 8\n"
     ]
    }
   ],
   "source": [
    "for i in range(len(v1)):\n",
    "    print(v1[i], v2[i])"
   ]
  },
  {
   "cell_type": "markdown",
   "metadata": {},
   "source": [
    "# Input da file\n",
    "I numeri sono di default interpretati come float"
   ]
  },
  {
   "cell_type": "code",
   "execution_count": 53,
   "metadata": {},
   "outputs": [
    {
     "name": "stdout",
     "output_type": "stream",
     "text": [
      "[[1. 2.]\n",
      " [3. 4.]\n",
      " [5. 6.]\n",
      " [7. 8.]]\n"
     ]
    }
   ],
   "source": [
    "m = np.genfromtxt('data/np-data.txt', delimiter=',')\n",
    "print(m)"
   ]
  },
  {
   "cell_type": "code",
   "execution_count": 54,
   "metadata": {},
   "outputs": [
    {
     "name": "stdout",
     "output_type": "stream",
     "text": [
      "[[1 2]\n",
      " [3 4]\n",
      " [5 6]\n",
      " [7 8]]\n"
     ]
    }
   ],
   "source": [
    "m = m.astype('int32')\n",
    "print(m)"
   ]
  },
  {
   "cell_type": "code",
   "execution_count": 55,
   "metadata": {},
   "outputs": [
    {
     "name": "stdout",
     "output_type": "stream",
     "text": [
      "[[1 2]\n",
      " [3 4]\n",
      " [5 6]\n",
      " [7 8]]\n"
     ]
    }
   ],
   "source": [
    "m = np.genfromtxt('data/np-data.txt', delimiter=',', dtype=np.int8)\n",
    "print(m)"
   ]
  },
  {
   "cell_type": "markdown",
   "metadata": {},
   "source": [
    "# Condizioni booleane"
   ]
  },
  {
   "cell_type": "code",
   "execution_count": 56,
   "metadata": {},
   "outputs": [
    {
     "data": {
      "text/plain": [
       "array([[False, False],\n",
       "       [False,  True],\n",
       "       [ True,  True],\n",
       "       [ True,  True]])"
      ]
     },
     "execution_count": 56,
     "metadata": {},
     "output_type": "execute_result"
    }
   ],
   "source": [
    "m > 3"
   ]
  },
  {
   "cell_type": "code",
   "execution_count": 57,
   "metadata": {},
   "outputs": [
    {
     "data": {
      "text/plain": [
       "array([[ True,  True],\n",
       "       [ True,  True],\n",
       "       [ True,  True],\n",
       "       [False, False]])"
      ]
     },
     "execution_count": 57,
     "metadata": {},
     "output_type": "execute_result"
    }
   ],
   "source": [
    "m < 7"
   ]
  },
  {
   "cell_type": "code",
   "execution_count": 58,
   "metadata": {},
   "outputs": [
    {
     "data": {
      "text/plain": [
       "array([[False, False],\n",
       "       [False,  True],\n",
       "       [ True,  True],\n",
       "       [False, False]])"
      ]
     },
     "execution_count": 58,
     "metadata": {},
     "output_type": "execute_result"
    }
   ],
   "source": [
    "(m > 3) & (m < 7)"
   ]
  },
  {
   "cell_type": "markdown",
   "metadata": {},
   "source": [
    "Selezione degli elementi secondo una condizione"
   ]
  },
  {
   "cell_type": "code",
   "execution_count": 59,
   "metadata": {},
   "outputs": [
    {
     "name": "stdout",
     "output_type": "stream",
     "text": [
      "[0.3013 0.9338 0.145  0.6759 0.6232 0.1121 0.8426 0.0521 0.4377 0.2592]\n"
     ]
    }
   ],
   "source": [
    "x = np.random.rand(10)\n",
    "print(x)"
   ]
  },
  {
   "cell_type": "code",
   "execution_count": 60,
   "metadata": {},
   "outputs": [
    {
     "name": "stdout",
     "output_type": "stream",
     "text": [
      "[False  True False  True  True False  True False False False]\n"
     ]
    }
   ],
   "source": [
    "print(x > 0.5)"
   ]
  },
  {
   "cell_type": "code",
   "execution_count": 61,
   "metadata": {},
   "outputs": [
    {
     "name": "stdout",
     "output_type": "stream",
     "text": [
      "[0.9338 0.6759 0.6232 0.8426]\n"
     ]
    }
   ],
   "source": [
    "x1 = x[x > 0.5]\n",
    "print(x1)"
   ]
  },
  {
   "cell_type": "code",
   "execution_count": 62,
   "metadata": {},
   "outputs": [
    {
     "name": "stdout",
     "output_type": "stream",
     "text": [
      "[False  True False  True  True False  True False False False]\n",
      "[0.9338 0.6759 0.6232 0.8426]\n"
     ]
    }
   ],
   "source": [
    "# lento: ~ fa il loop su tutti gli elementi\n",
    "sel = ~(x > 0.5)\n",
    "# più veloce: non fa il loop\n",
    "sel = (x >= 0.5)\n",
    "print(sel)\n",
    "x1 = x[sel]\n",
    "print(x1)"
   ]
  }
 ],
 "metadata": {
  "kernelspec": {
   "display_name": "Python 3 (ipykernel)",
   "language": "python",
   "name": "python3"
  },
  "language_info": {
   "codemirror_mode": {
    "name": "ipython",
    "version": 3
   },
   "file_extension": ".py",
   "mimetype": "text/x-python",
   "name": "python",
   "nbconvert_exporter": "python",
   "pygments_lexer": "ipython3",
   "version": "3.11.6"
  }
 },
 "nbformat": 4,
 "nbformat_minor": 4
}
