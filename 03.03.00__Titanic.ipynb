{
 "cells": [
  {
   "cell_type": "markdown",
   "metadata": {},
   "source": [
    "# Il naufragio del RMS Titanic e la probabilità secondo Kolmogorov\n",
    "\n",
    "La lista dei passegeri è pubblica con una serie di informazioni interessanti, compreso l'esito del viaggio."
   ]
  },
  {
   "cell_type": "code",
   "execution_count": 86,
   "metadata": {},
   "outputs": [],
   "source": [
    "import pandas as pd\n",
    "import matplotlib.pyplot as plt\n",
    "import numpy as np\n",
    "import wget"
   ]
  },
  {
   "cell_type": "markdown",
   "metadata": {},
   "source": [
    "Diversi dati sui passeggeri del Titanic sono dispoibili online. Sorgente: https://github.com/tpradeep8/tableau-data-visualization\n",
    "\n",
    "La descrizione dei campi si trova [qui](https://rstudio-pubs-static.s3.amazonaws.com/370028_029c1fc5d91f4d37a55b1f0b4e8d779f.html) insieme ad alcuni grafici.\n",
    "\n",
    "Per comodità, possiamo scaricare direttamente il file in un'area locale con ```wget```.\n",
    "\n",
    "Consideriamo anche che in futuro quei dati potrebbero non essere più disponibili in rete!"
   ]
  },
  {
   "cell_type": "code",
   "execution_count": 87,
   "metadata": {},
   "outputs": [
    {
     "data": {
      "text/plain": [
       "'data/titanic passenger list (1).csv'"
      ]
     },
     "execution_count": 87,
     "metadata": {},
     "output_type": "execute_result"
    }
   ],
   "source": [
    "wget.download('https://raw.githubusercontent.com/tpradeep8/tableau-data-visualization/master/titanic passenger list.csv', out='data')"
   ]
  },
  {
   "cell_type": "markdown",
   "metadata": {},
   "source": [
    "Il file con i dati può essere anche caricato direttamente dal repository remoto:\n",
    "\n",
    "```\n",
    "df = pd.read_csv('https://github.com/tpradeep8/tableau-data-visualization/raw/master/titanic%20passenger%20list.csv')\n",
    "```\n",
    "\n",
    "Per motivi di rapidità e per avere una soluzione in caso di problemi di rete, è conveniente avere i dati in locale:"
   ]
  },
  {
   "cell_type": "code",
   "execution_count": 88,
   "metadata": {},
   "outputs": [],
   "source": [
    "df = pd.read_csv('data/titanic passenger list.csv')"
   ]
  },
  {
   "cell_type": "markdown",
   "metadata": {},
   "source": [
    "# Visualizzazione\n",
    "I dati si possono visualizzare in forma di tabella"
   ]
  },
  {
   "cell_type": "code",
   "execution_count": 89,
   "metadata": {},
   "outputs": [
    {
     "data": {
      "text/html": [
       "<div>\n",
       "<style scoped>\n",
       "    .dataframe tbody tr th:only-of-type {\n",
       "        vertical-align: middle;\n",
       "    }\n",
       "\n",
       "    .dataframe tbody tr th {\n",
       "        vertical-align: top;\n",
       "    }\n",
       "\n",
       "    .dataframe thead th {\n",
       "        text-align: right;\n",
       "    }\n",
       "</style>\n",
       "<table border=\"1\" class=\"dataframe\">\n",
       "  <thead>\n",
       "    <tr style=\"text-align: right;\">\n",
       "      <th></th>\n",
       "      <th>pclass</th>\n",
       "      <th>survived</th>\n",
       "      <th>name</th>\n",
       "      <th>sex</th>\n",
       "      <th>age</th>\n",
       "      <th>sibsp</th>\n",
       "      <th>parch</th>\n",
       "      <th>ticket</th>\n",
       "      <th>fare</th>\n",
       "      <th>cabin</th>\n",
       "      <th>embarked</th>\n",
       "      <th>boat</th>\n",
       "      <th>body</th>\n",
       "      <th>home.dest</th>\n",
       "    </tr>\n",
       "  </thead>\n",
       "  <tbody>\n",
       "    <tr>\n",
       "      <th>0</th>\n",
       "      <td>1</td>\n",
       "      <td>1</td>\n",
       "      <td>Allen, Miss. Elisabeth Walton</td>\n",
       "      <td>female</td>\n",
       "      <td>29.00</td>\n",
       "      <td>0</td>\n",
       "      <td>0</td>\n",
       "      <td>24160</td>\n",
       "      <td>211.3375</td>\n",
       "      <td>B5</td>\n",
       "      <td>S</td>\n",
       "      <td>2</td>\n",
       "      <td>NaN</td>\n",
       "      <td>St Louis, MO</td>\n",
       "    </tr>\n",
       "    <tr>\n",
       "      <th>1</th>\n",
       "      <td>1</td>\n",
       "      <td>1</td>\n",
       "      <td>Allison, Master. Hudson Trevor</td>\n",
       "      <td>male</td>\n",
       "      <td>0.92</td>\n",
       "      <td>1</td>\n",
       "      <td>2</td>\n",
       "      <td>113781</td>\n",
       "      <td>151.5500</td>\n",
       "      <td>C22 C26</td>\n",
       "      <td>S</td>\n",
       "      <td>11</td>\n",
       "      <td>NaN</td>\n",
       "      <td>Montreal, PQ / Chesterville, ON</td>\n",
       "    </tr>\n",
       "    <tr>\n",
       "      <th>2</th>\n",
       "      <td>1</td>\n",
       "      <td>0</td>\n",
       "      <td>Allison, Miss. Helen Loraine</td>\n",
       "      <td>female</td>\n",
       "      <td>2.00</td>\n",
       "      <td>1</td>\n",
       "      <td>2</td>\n",
       "      <td>113781</td>\n",
       "      <td>151.5500</td>\n",
       "      <td>C22 C26</td>\n",
       "      <td>S</td>\n",
       "      <td>NaN</td>\n",
       "      <td>NaN</td>\n",
       "      <td>Montreal, PQ / Chesterville, ON</td>\n",
       "    </tr>\n",
       "    <tr>\n",
       "      <th>3</th>\n",
       "      <td>1</td>\n",
       "      <td>0</td>\n",
       "      <td>Allison, Mr. Hudson Joshua Creighton</td>\n",
       "      <td>male</td>\n",
       "      <td>30.00</td>\n",
       "      <td>1</td>\n",
       "      <td>2</td>\n",
       "      <td>113781</td>\n",
       "      <td>151.5500</td>\n",
       "      <td>C22 C26</td>\n",
       "      <td>S</td>\n",
       "      <td>NaN</td>\n",
       "      <td>135.0</td>\n",
       "      <td>Montreal, PQ / Chesterville, ON</td>\n",
       "    </tr>\n",
       "    <tr>\n",
       "      <th>4</th>\n",
       "      <td>1</td>\n",
       "      <td>0</td>\n",
       "      <td>Allison, Mrs. Hudson J C (Bessie Waldo Daniels)</td>\n",
       "      <td>female</td>\n",
       "      <td>25.00</td>\n",
       "      <td>1</td>\n",
       "      <td>2</td>\n",
       "      <td>113781</td>\n",
       "      <td>151.5500</td>\n",
       "      <td>C22 C26</td>\n",
       "      <td>S</td>\n",
       "      <td>NaN</td>\n",
       "      <td>NaN</td>\n",
       "      <td>Montreal, PQ / Chesterville, ON</td>\n",
       "    </tr>\n",
       "    <tr>\n",
       "      <th>...</th>\n",
       "      <td>...</td>\n",
       "      <td>...</td>\n",
       "      <td>...</td>\n",
       "      <td>...</td>\n",
       "      <td>...</td>\n",
       "      <td>...</td>\n",
       "      <td>...</td>\n",
       "      <td>...</td>\n",
       "      <td>...</td>\n",
       "      <td>...</td>\n",
       "      <td>...</td>\n",
       "      <td>...</td>\n",
       "      <td>...</td>\n",
       "      <td>...</td>\n",
       "    </tr>\n",
       "    <tr>\n",
       "      <th>1304</th>\n",
       "      <td>3</td>\n",
       "      <td>0</td>\n",
       "      <td>Zabour, Miss. Hileni</td>\n",
       "      <td>female</td>\n",
       "      <td>14.50</td>\n",
       "      <td>1</td>\n",
       "      <td>0</td>\n",
       "      <td>2665</td>\n",
       "      <td>14.4542</td>\n",
       "      <td>NaN</td>\n",
       "      <td>C</td>\n",
       "      <td>NaN</td>\n",
       "      <td>328.0</td>\n",
       "      <td>NaN</td>\n",
       "    </tr>\n",
       "    <tr>\n",
       "      <th>1305</th>\n",
       "      <td>3</td>\n",
       "      <td>0</td>\n",
       "      <td>Zabour, Miss. Thamine</td>\n",
       "      <td>female</td>\n",
       "      <td>NaN</td>\n",
       "      <td>1</td>\n",
       "      <td>0</td>\n",
       "      <td>2665</td>\n",
       "      <td>14.4542</td>\n",
       "      <td>NaN</td>\n",
       "      <td>C</td>\n",
       "      <td>NaN</td>\n",
       "      <td>NaN</td>\n",
       "      <td>NaN</td>\n",
       "    </tr>\n",
       "    <tr>\n",
       "      <th>1306</th>\n",
       "      <td>3</td>\n",
       "      <td>0</td>\n",
       "      <td>Zakarian, Mr. Mapriededer</td>\n",
       "      <td>male</td>\n",
       "      <td>26.50</td>\n",
       "      <td>0</td>\n",
       "      <td>0</td>\n",
       "      <td>2656</td>\n",
       "      <td>7.2250</td>\n",
       "      <td>NaN</td>\n",
       "      <td>C</td>\n",
       "      <td>NaN</td>\n",
       "      <td>304.0</td>\n",
       "      <td>NaN</td>\n",
       "    </tr>\n",
       "    <tr>\n",
       "      <th>1307</th>\n",
       "      <td>3</td>\n",
       "      <td>0</td>\n",
       "      <td>Zakarian, Mr. Ortin</td>\n",
       "      <td>male</td>\n",
       "      <td>27.00</td>\n",
       "      <td>0</td>\n",
       "      <td>0</td>\n",
       "      <td>2670</td>\n",
       "      <td>7.2250</td>\n",
       "      <td>NaN</td>\n",
       "      <td>C</td>\n",
       "      <td>NaN</td>\n",
       "      <td>NaN</td>\n",
       "      <td>NaN</td>\n",
       "    </tr>\n",
       "    <tr>\n",
       "      <th>1308</th>\n",
       "      <td>3</td>\n",
       "      <td>0</td>\n",
       "      <td>Zimmerman, Mr. Leo</td>\n",
       "      <td>male</td>\n",
       "      <td>29.00</td>\n",
       "      <td>0</td>\n",
       "      <td>0</td>\n",
       "      <td>315082</td>\n",
       "      <td>7.8750</td>\n",
       "      <td>NaN</td>\n",
       "      <td>S</td>\n",
       "      <td>NaN</td>\n",
       "      <td>NaN</td>\n",
       "      <td>NaN</td>\n",
       "    </tr>\n",
       "  </tbody>\n",
       "</table>\n",
       "<p>1309 rows × 14 columns</p>\n",
       "</div>"
      ],
      "text/plain": [
       "      pclass  survived                                             name  \\\n",
       "0          1         1                    Allen, Miss. Elisabeth Walton   \n",
       "1          1         1                   Allison, Master. Hudson Trevor   \n",
       "2          1         0                     Allison, Miss. Helen Loraine   \n",
       "3          1         0             Allison, Mr. Hudson Joshua Creighton   \n",
       "4          1         0  Allison, Mrs. Hudson J C (Bessie Waldo Daniels)   \n",
       "...      ...       ...                                              ...   \n",
       "1304       3         0                             Zabour, Miss. Hileni   \n",
       "1305       3         0                            Zabour, Miss. Thamine   \n",
       "1306       3         0                        Zakarian, Mr. Mapriededer   \n",
       "1307       3         0                              Zakarian, Mr. Ortin   \n",
       "1308       3         0                               Zimmerman, Mr. Leo   \n",
       "\n",
       "         sex    age  sibsp  parch  ticket      fare    cabin embarked boat  \\\n",
       "0     female  29.00      0      0   24160  211.3375       B5        S    2   \n",
       "1       male   0.92      1      2  113781  151.5500  C22 C26        S   11   \n",
       "2     female   2.00      1      2  113781  151.5500  C22 C26        S  NaN   \n",
       "3       male  30.00      1      2  113781  151.5500  C22 C26        S  NaN   \n",
       "4     female  25.00      1      2  113781  151.5500  C22 C26        S  NaN   \n",
       "...      ...    ...    ...    ...     ...       ...      ...      ...  ...   \n",
       "1304  female  14.50      1      0    2665   14.4542      NaN        C  NaN   \n",
       "1305  female    NaN      1      0    2665   14.4542      NaN        C  NaN   \n",
       "1306    male  26.50      0      0    2656    7.2250      NaN        C  NaN   \n",
       "1307    male  27.00      0      0    2670    7.2250      NaN        C  NaN   \n",
       "1308    male  29.00      0      0  315082    7.8750      NaN        S  NaN   \n",
       "\n",
       "       body                        home.dest  \n",
       "0       NaN                     St Louis, MO  \n",
       "1       NaN  Montreal, PQ / Chesterville, ON  \n",
       "2       NaN  Montreal, PQ / Chesterville, ON  \n",
       "3     135.0  Montreal, PQ / Chesterville, ON  \n",
       "4       NaN  Montreal, PQ / Chesterville, ON  \n",
       "...     ...                              ...  \n",
       "1304  328.0                              NaN  \n",
       "1305    NaN                              NaN  \n",
       "1306  304.0                              NaN  \n",
       "1307    NaN                              NaN  \n",
       "1308    NaN                              NaN  \n",
       "\n",
       "[1309 rows x 14 columns]"
      ]
     },
     "execution_count": 89,
     "metadata": {},
     "output_type": "execute_result"
    }
   ],
   "source": [
    "df"
   ]
  },
  {
   "cell_type": "code",
   "execution_count": 90,
   "metadata": {
    "scrolled": true
   },
   "outputs": [
    {
     "data": {
      "text/plain": [
       "array(['St Louis, MO', 'Montreal, PQ / Chesterville, ON', 'New York, NY',\n",
       "       'Hudson, NY', 'Belfast, NI', 'Bayside, Queens, NY',\n",
       "       'Montevideo, Uruguay', 'Paris, France', nan, 'Hessle, Yorks',\n",
       "       'Montreal, PQ', 'Winnipeg, MN', 'San Francisco, CA',\n",
       "       'Dowagiac, MI', 'Stockholm, Sweden / Washington, DC',\n",
       "       'Trenton, NJ', 'Glen Ridge, NJ', 'Youngstown, OH',\n",
       "       'Birkdale, England Cleveland, Ohio', 'London / Winnipeg, MB',\n",
       "       'Cooperstown, NY', 'St Leonards-on-Sea, England Ohio',\n",
       "       'Los Angeles, CA', 'Pomeroy, WA', 'Omaha, NE', 'Philadelphia, PA',\n",
       "       'Denver, CO', 'Belmont, MA', 'Washington, DC',\n",
       "       'Austria-Hungary / Germantown, Philadelphia, PA',\n",
       "       'Germantown, Philadelphia, PA', 'Bryn Mawr, PA',\n",
       "       'Ascot, Berkshire / Rochester, NY', 'Little Onn Hall, Staffs',\n",
       "       'Amenia, ND', 'New York, NY / Ithaca, NY', 'London, England',\n",
       "       'Liverpool, England / Belfast', 'Stoughton, MA', 'Victoria, BC',\n",
       "       'Lakewood, NJ', 'Roachdale, IN', 'Milwaukee, WI', 'Lima, Peru',\n",
       "       'Calgary, AB', 'Deephaven, MN / Cedar Rapids, IA',\n",
       "       'London / Paris', 'Mt Airy, Philadelphia, PA', 'Brookline, MA',\n",
       "       'Brooklyn, NY', 'Winnipeg, MB', 'Westcliff-on-Sea, Essex',\n",
       "       'Zurich, Switzerland', 'Scituate, MA',\n",
       "       \"St Anne's-on-Sea, Lancashire\", 'Paris, France / New York, NY',\n",
       "       'Greenwich, CT', 'Kingston, Surrey', 'London / Middlesex',\n",
       "       'Brighton, MA', 'London / Birmingham', 'Chicago, IL',\n",
       "       'Indianapolis, IN', 'New York, NY /  Stamford CT',\n",
       "       'Paris, France New York, NY', 'Liverpool', 'Bennington, VT',\n",
       "       'London', 'Buffalo, NY', 'Southington / Noank, CT', 'Boston, MA',\n",
       "       'Portland, OR', 'Stockholm, Sweden', 'Springfield, MA',\n",
       "       'London / New York, NY', 'Brockton, MA', 'Belgium  Montreal, PQ',\n",
       "       'Vancouver, BC', 'Dorchester, MA', 'East Bridgewater, MA',\n",
       "       'Fond du Lac, WI', 'Green Bay, WI', 'Lexington, MA',\n",
       "       'Isle of Wight, England', 'Providence, RI', '?Havana, Cuba',\n",
       "       'Belfast', 'Surbiton Hill, Surrey', 'Isleworth, England',\n",
       "       'Madrid, Spain', 'Toronto, ON', 'Worcester, MA',\n",
       "       'Rotterdam, Netherlands', 'Paris /  New York, NY', 'Seattle, WA',\n",
       "       'London  Vancouver, BC', 'Haverford, PA / Cooperstown, NY',\n",
       "       'Manchester, England', 'New York, NY / Greenwich CT', 'Duluth, MN',\n",
       "       'Basel, Switzerland', 'New Britain, CT',\n",
       "       'St James, Long Island, NY', 'Huntington, WV', 'Streatham, Surrey',\n",
       "       'Minneapolis, MN', 'Tuxedo Park, NY',\n",
       "       'Wimbledon Park, London / Hayling Island, Hants', 'Newark, NJ',\n",
       "       'Haverford, PA', 'Gallipolis, Ohio / ? Paris / New York',\n",
       "       'Cincinatti, OH', 'Haddenfield, NJ', 'London /  East Orange, NJ',\n",
       "       'Albany, NY', 'Mexico City, Mexico', 'East Orange, NJ',\n",
       "       'England Salt Lake City, Utah', 'Brunswick, ME',\n",
       "       'New York, NY / Briarcliff Manor NY', 'Elkins Park, PA',\n",
       "       'Geneva, Switzerland / Radnor, PA', 'Halifax, NS',\n",
       "       'New York, NY / Washington, DC', 'Russia New York, NY',\n",
       "       'Bryn Mawr, PA, USA', 'Buenos Aires, Argentina / New Jersey, NJ',\n",
       "       'Cornwall, England Houghton, MI', 'Warwick, England',\n",
       "       'West Hoboken, NJ', 'Penzance, Cornwall / Akron, OH', 'Guernsey',\n",
       "       'Bristol, Avon / Jacksonville, FL',\n",
       "       'Plymouth, Dorset / Houghton, MI', 'Jacksonville, FL',\n",
       "       'Norwich / New York, NY', 'England',\n",
       "       'Guntur, India / Benton Harbour, MI', 'Rochester, NY',\n",
       "       'St Ives, Cornwall / Calumet, MI', 'Elmira, NY / Orange, NJ',\n",
       "       'Lake Arthur, Chavez County, NM', 'London / Montreal, PQ',\n",
       "       'Cape Town, South Africa / Seattle, WA',\n",
       "       'Skara, Sweden / Rockford, IL',\n",
       "       'Sittingbourne, England / San Diego, CA', 'Southsea, Hants',\n",
       "       'Bangkok, Thailand / Roseville, IL', 'Mamaroneck, NY', 'Bronx, NY',\n",
       "       'Cornwall / Spokane, WA', 'England / San Francisco, CA',\n",
       "       'Hartford, Huntingdonshire', 'Helsinki, Finland Ashtabula, Ohio',\n",
       "       'London / Fort Byron, NY',\n",
       "       'Bishopstoke, Hants / Fayette Valley, ID', 'Pennsylvania',\n",
       "       'Provo, UT', 'Upper Burma, India Pittsburgh, PA',\n",
       "       'St Ives, Cornwall / Hancock, MI', 'Lyndhurst, England',\n",
       "       'London / Staten Island, NY', 'Portugal / Sau Paulo, Brazil',\n",
       "       'Lucca, Italy / California', 'Guernsey / Elizabeth, NJ',\n",
       "       'New Forest, England', 'Southampton', 'Holley, NY',\n",
       "       'Greenport, NY', 'Barcelona, Spain / Havana, Cuba',\n",
       "       'England / Detroit, MI', 'Goteborg, Sweden / Rockford, IL',\n",
       "       'Oslo, Norway Bayonne, NJ', 'England / Philadelphia, PA',\n",
       "       'Cornwall / Houghton, MI', 'Janjgir, India / Pennsylvania',\n",
       "       'Liverpool / Montreal, PQ', 'Cornwall / Clear Creek, CO',\n",
       "       'Cornwall', 'Cornwall / Camden, NJ', 'West Kensington, London',\n",
       "       'Clevedon, England', 'Auburn, NY', 'Detroit, MI',\n",
       "       'Seattle, WA / Toledo, OH', 'Denmark Hill, Surrey / Chicago',\n",
       "       'Walthamstow, England', 'Ilford, Essex / Winnipeg, MB',\n",
       "       'Somerset / Bernardsville, NJ', 'India / Rapid City, SD',\n",
       "       'West Hampstead, London / Neepawa, MB',\n",
       "       'Kontiolahti, Finland / Detroit, MI', 'Cornwall / Akron, OH',\n",
       "       'Devonport, England', 'England / Sacramento, CA', 'Tokyo, Japan',\n",
       "       'Swindon, England', 'North Evington, England',\n",
       "       'St Ives, Cornwall / Houghton, MI', 'Moscow / Bronx, NY',\n",
       "       'India / Pittsburgh, PA', 'Harrisburg, PA', 'Glasgow / Bangor, ME',\n",
       "       'Sweden / Arlington, NJ', 'Paris / Haiti',\n",
       "       'Berne, Switzerland / Central City, IA', 'London / Chicago, IL',\n",
       "       'Weston-Super-Mare, Somerset', 'Southampton / New York, NY',\n",
       "       'Paris', 'Paris / Montreal, PQ', 'St Austall, Cornwall',\n",
       "       'Weston-Super-Mare / Moose Jaw, SK', 'Sydney, Australia',\n",
       "       'Sarnia, ON', 'England / Bennington, VT', 'Chelsea, London',\n",
       "       'Harrow-on-the-Hill, Middlesex', 'Copenhagen, Denmark',\n",
       "       'Guernsey / Montclair, NJ and/or Toledo, Ohio', 'Frankfort, KY',\n",
       "       'Halesworth, England', 'Cambridge, MA', 'Nice, France',\n",
       "       'Cornwall / Hancock, MI', 'Glasgow', 'Cologne, Germany',\n",
       "       'Folkstone, Kent / New York, NY', 'Middleburg Heights, OH',\n",
       "       'Pondersend, England / New Durham, NJ', 'Spain / Havana, Cuba',\n",
       "       'Hamilton, ON', 'St Andrews, Guernsey', 'Woodford County, KY',\n",
       "       'Gunnislake, England / Butte, MT', 'Ilfracombe, Devon',\n",
       "       'Worcester, England', 'Russia', 'Denmark / New York, NY',\n",
       "       'Milford, NH', 'Plymouth, Devon / Detroit, MI', 'Brighton, Sussex',\n",
       "       'Elizabeth, NJ', 'Spain',\n",
       "       'London, England / Marietta, Ohio and Milwaukee, WI',\n",
       "       'Guernsey / Wilmington, DE', 'Hornsey, England', 'Deer Lodge, MT',\n",
       "       'Finland / Minneapolis, MN', 'Finland / Washington, DC',\n",
       "       'Sault St Marie, ON', 'Catford, Kent / Detroit, MI',\n",
       "       'Columbus, OH', 'Bath, England / Massachusetts',\n",
       "       'Plymouth, England', 'Barre, Co Washington, VT',\n",
       "       'Bristol, England / New Britain, CT', 'Aberdeen / Portland, OR',\n",
       "       'England / Hartford, CT', 'Bromsgrove, England / Montreal, PQ',\n",
       "       'Bournmouth, England', 'Guernsey, England / Edgewood, RI',\n",
       "       'Harrow, England', 'Yoevil, England / Cottage Grove, OR',\n",
       "       'East Providence, RI', 'Norway Los Angeles, CA',\n",
       "       'Perkins County, SD', 'Taalintehdas, Finland Hoboken, NJ',\n",
       "       'Greensburg, PA', 'Asarum, Sweden Brooklyn, NY',\n",
       "       'Bournemouth, England', 'Sweden Akeley, MN',\n",
       "       'London, England Norfolk, VA', 'Syria Fredericksburg, VA',\n",
       "       'England Albion, NY', 'Salo, Finland Astoria, OR', 'Argentina',\n",
       "       'Lower Clapton, Middlesex or Erdington, Birmingham',\n",
       "       'Windsor, England New York, NY', 'Bergen, Norway',\n",
       "       'Sweden Winnipeg, MN', 'Ruotsinphyhtaa, Finland New York, NY',\n",
       "       'Vadsbro, Sweden Ministee, MI', 'Hartford, CT',\n",
       "       'Sweden Chicago, IL', 'Bulgaria Chicago, IL',\n",
       "       'Altdorf, Switzerland', 'Sweden Joliet, IL',\n",
       "       'Sweden  Worcester, MA', 'Sweden Worcester, MA',\n",
       "       'Oskarshamn, Sweden Minneapolis, MN', 'Ottawa, ON',\n",
       "       'Krakoryd, Sweden Bloomington, IL', 'Syria Youngstown, OH',\n",
       "       'Ruotsinphytaa, Finland New York, NY', 'Syria New York, NY',\n",
       "       'London Skanteales, NY', 'Syria Ottawa, ON',\n",
       "       'England New York, NY', 'Krakudden, Sweden Moune, IL',\n",
       "       'Tranvik, Finland New York', 'Syria', 'Hong Kong New York, NY',\n",
       "       'Brennes, Norway New York', 'Stockholm, Sweden New York',\n",
       "       'Syria Kent, ON', 'Ireland Chicago, IL',\n",
       "       'Treherbert, Cardiff, Wales',\n",
       "       'Kingwilliamstown, Co Cork, Ireland Glens Falls, NY',\n",
       "       'Medeltorp, Sweden Chicago, IL', 'Bridgerule, Devon',\n",
       "       'Broomfield, Chelmsford, England', 'Co Cork, Ireland Roxbury, MA',\n",
       "       'Kingwilliamstown, Co Cork, Ireland New York, NY',\n",
       "       'Co Cork, Ireland Charlestown, MA',\n",
       "       'Co Sligo, Ireland New York, NY', 'Croatia',\n",
       "       'Ireland Philadelphia, PA', 'Dagsas, Sweden Fower, MN',\n",
       "       'Goteborg, Sweden Huntley, IL',\n",
       "       'Co Longford, Ireland New York, NY',\n",
       "       'Co Sligo, Ireland Hartford, CT', 'St Denys, Southampton, Hants',\n",
       "       'Ireland New York, NY', 'Greece', 'Portugal',\n",
       "       'London Brooklyn, NY', 'Co Limerick, Ireland Sherbrooke, PQ',\n",
       "       'Ireland Brooklyn, NY', 'Ireland', 'Austria',\n",
       "       'England Brooklyn, NY', 'Merrill, WI',\n",
       "       'Bristol, England Cleveland, OH',\n",
       "       'Bournemouth, England Newark, NJ', 'Austria-Hungary',\n",
       "       'Australia Fingal, ND', 'Norrlot, Sweden Chicago, IL',\n",
       "       'Co Athlone, Ireland New York, NY', 'Stanton, IA',\n",
       "       'West Bromwich, England Pontiac, MI',\n",
       "       'Liverpool, England Bedford, OH', 'Tampico, MT',\n",
       "       'Belgium Detroit, MI', 'Devon, England Wichita, KS',\n",
       "       'Bulgaria Coon Rapids, IA',\n",
       "       'Kilmacowen, Co Sligo, Ireland New York, NY',\n",
       "       'England Oglesby, IL', 'Union Hill, NJ', 'London New York, NY',\n",
       "       'Austria Niagara Falls, NY', 'West Haven, CT',\n",
       "       'Tofta, Sweden Joliet, IL', 'Karberg, Sweden Jerome Junction, AZ',\n",
       "       'Effington Rut, SD', 'Illinois, USA',\n",
       "       'Aughnacliff, Co Longford, Ireland New York, NY',\n",
       "       'Italy Philadelphia, PA',\n",
       "       'Rotherfield, Sussex, England Essex Co, MA',\n",
       "       'Bridgwater, Somerset, England',\n",
       "       'Co Clare, Ireland Washington, DC',\n",
       "       'Strood, Kent, England Detroit, MI',\n",
       "       'Wiltshire, England Niagara Falls, NY', 'Dorking, Surrey, England',\n",
       "       'Foresvik, Norway Portland, ND', 'Waukegan, Chicago, IL',\n",
       "       'Myren, Sweden New York, NY', 'Finland Sudbury, ON',\n",
       "       'Oslo, Norway Cameron, WI', 'Antwerp, Belgium / Stanton, OH'],\n",
       "      dtype=object)"
      ]
     },
     "execution_count": 90,
     "metadata": {},
     "output_type": "execute_result"
    }
   ],
   "source": [
    "df['home.dest'].unique()"
   ]
  },
  {
   "cell_type": "code",
   "execution_count": 91,
   "metadata": {},
   "outputs": [
    {
     "data": {
      "text/plain": [
       "array(['female', 'male'], dtype=object)"
      ]
     },
     "execution_count": 91,
     "metadata": {},
     "output_type": "execute_result"
    }
   ],
   "source": [
    "df.sex.unique()"
   ]
  },
  {
   "cell_type": "code",
   "execution_count": 94,
   "metadata": {},
   "outputs": [
    {
     "data": {
      "text/plain": [
       "sex\n",
       "male      843\n",
       "female    466\n",
       "Name: count, dtype: int64"
      ]
     },
     "execution_count": 94,
     "metadata": {},
     "output_type": "execute_result"
    }
   ],
   "source": [
    "sex_counts = df.sex.value_counts()\n",
    "sex_counts"
   ]
  },
  {
   "cell_type": "code",
   "execution_count": 93,
   "metadata": {},
   "outputs": [
    {
     "data": {
      "text/plain": [
       "pandas.core.series.Series"
      ]
     },
     "execution_count": 93,
     "metadata": {},
     "output_type": "execute_result"
    }
   ],
   "source": [
    "type(sex_counts)"
   ]
  },
  {
   "cell_type": "code",
   "execution_count": 96,
   "metadata": {},
   "outputs": [
    {
     "data": {
      "text/plain": [
       "843"
      ]
     },
     "execution_count": 96,
     "metadata": {},
     "output_type": "execute_result"
    }
   ],
   "source": [
    "sex_counts.male"
   ]
  },
  {
   "cell_type": "code",
   "execution_count": 97,
   "metadata": {},
   "outputs": [
    {
     "data": {
      "text/plain": [
       "466"
      ]
     },
     "execution_count": 97,
     "metadata": {},
     "output_type": "execute_result"
    }
   ],
   "source": [
    "sex_counts.female"
   ]
  },
  {
   "cell_type": "code",
   "execution_count": 98,
   "metadata": {},
   "outputs": [
    {
     "name": "stdout",
     "output_type": "stream",
     "text": [
      "1309\n"
     ]
    }
   ],
   "source": [
    "passengers = sex_counts.sum()\n",
    "print(passengers)"
   ]
  },
  {
   "cell_type": "code",
   "execution_count": 99,
   "metadata": {},
   "outputs": [
    {
     "data": {
      "image/png": "[encoded data removed]",
      "text/plain": [
       "<Figure size 1000x400 with 1 Axes>"
      ]
     },
     "metadata": {},
     "output_type": "display_data"
    }
   ],
   "source": [
    "plt.figure(figsize=(10, 4))\n",
    "sex_counts.plot.bar()\n",
    "plt.xlabel('gender')\n",
    "plt.ylabel('passengers')\n",
    "plt.xticks(rotation=0)\n",
    "plt.show()"
   ]
  },
  {
   "cell_type": "markdown",
   "metadata": {},
   "source": [
    "L'ordinamento di default è quello del numero di occorrenze."
   ]
  },
  {
   "cell_type": "code",
   "execution_count": 100,
   "metadata": {},
   "outputs": [
    {
     "data": {
      "text/plain": [
       "pclass\n",
       "3    709\n",
       "1    323\n",
       "2    277\n",
       "Name: count, dtype: int64"
      ]
     },
     "execution_count": 100,
     "metadata": {},
     "output_type": "execute_result"
    }
   ],
   "source": [
    "df.pclass.value_counts()"
   ]
  },
  {
   "cell_type": "markdown",
   "metadata": {},
   "source": [
    "Conviene ordinare i valori usando come l'indice con la funzione ```sort_index```."
   ]
  },
  {
   "cell_type": "code",
   "execution_count": 102,
   "metadata": {},
   "outputs": [
    {
     "data": {
      "image/png": "[encoded data removed]",
      "text/plain": [
       "<Figure size 1000x400 with 1 Axes>"
      ]
     },
     "metadata": {},
     "output_type": "display_data"
    }
   ],
   "source": [
    "plt.figure(figsize=(10, 4))\n",
    "df.pclass.value_counts().sort_index().plot.bar()\n",
    "plt.xlabel('class')\n",
    "plt.xticks(rotation=0)\n",
    "plt.ylabel('passengers')\n",
    "plt.show()"
   ]
  },
  {
   "cell_type": "code",
   "execution_count": 104,
   "metadata": {},
   "outputs": [
    {
     "data": {
      "image/png": "[encoded data removed]",
      "text/plain": [
       "<Figure size 1000x400 with 1 Axes>"
      ]
     },
     "metadata": {},
     "output_type": "display_data"
    }
   ],
   "source": [
    "plt.figure(figsize=(10, 4))\n",
    "df.survived.value_counts().rename({0: 'dead', 1: 'survived'}).plot(kind='bar')\n",
    "plt.xlabel('outcome')\n",
    "plt.xticks(rotation=0)\n",
    "plt.ylabel('passengers')\n",
    "plt.show()"
   ]
  },
  {
   "cell_type": "markdown",
   "metadata": {},
   "source": [
    "Studiamo la distribuzione di età. Di nuovo, converrà ordinare per l'indice, che è uguale all'età espressa in anni"
   ]
  },
  {
   "cell_type": "code",
   "execution_count": 105,
   "metadata": {},
   "outputs": [
    {
     "data": {
      "text/plain": [
       "age\n",
       "0.17     1\n",
       "0.33     1\n",
       "0.42     1\n",
       "0.67     1\n",
       "0.75     3\n",
       "        ..\n",
       "70.50    1\n",
       "71.00    2\n",
       "74.00    1\n",
       "76.00    1\n",
       "80.00    1\n",
       "Name: count, Length: 98, dtype: int64"
      ]
     },
     "execution_count": 105,
     "metadata": {},
     "output_type": "execute_result"
    }
   ],
   "source": [
    "df.age.value_counts().sort_index()"
   ]
  },
  {
   "cell_type": "markdown",
   "metadata": {},
   "source": [
    "Possiamo approssimare a zero le età minori di un anno, per uniformità di visualizzazione."
   ]
  },
  {
   "cell_type": "code",
   "execution_count": 106,
   "metadata": {},
   "outputs": [
    {
     "data": {
      "text/plain": [
       "age\n",
       "0.0     12\n",
       "1.0     10\n",
       "2.0     12\n",
       "3.0      7\n",
       "4.0     10\n",
       "        ..\n",
       "70.0     3\n",
       "71.0     2\n",
       "74.0     1\n",
       "76.0     1\n",
       "80.0     1\n",
       "Name: count, Length: 73, dtype: int64"
      ]
     },
     "execution_count": 106,
     "metadata": {},
     "output_type": "execute_result"
    }
   ],
   "source": [
    "age_distr = np.floor(df.age).value_counts().sort_index()\n",
    "age_distr"
   ]
  },
  {
   "cell_type": "markdown",
   "metadata": {},
   "source": [
    "Mostriamo in un grafico la distribuzione di età dei passegggeri."
   ]
  },
  {
   "cell_type": "code",
   "execution_count": 108,
   "metadata": {},
   "outputs": [
    {
     "data": {
      "image/png": "[encoded data removed]",
      "text/plain": [
       "<Figure size 1000x400 with 1 Axes>"
      ]
     },
     "metadata": {},
     "output_type": "display_data"
    }
   ],
   "source": [
    "fig, ax = plt.subplots(figsize=(10, 4))\n",
    "age_distr.plot(figsize=(10, 4), marker='o')\n",
    "ax.set_xlabel('age')\n",
    "ax.set_ylabel('passengers')\n",
    "ax.set_ylim(0)\n",
    "fig.show()"
   ]
  },
  {
   "cell_type": "markdown",
   "metadata": {},
   "source": [
    "La distribuzione cumulativa, ossia la frazione di passeggeri che hanno almeno una certa età, si può calcolare con ```cumsum()```.\n",
    "\n",
    "Per alcuni passeggeri l'età non è nota, quindi dovremo considerare che per un certo numero di casi l'età è ```NaN```."
   ]
  },
  {
   "cell_type": "code",
   "execution_count": 112,
   "metadata": {},
   "outputs": [
    {
     "name": "stdout",
     "output_type": "stream",
     "text": [
      "all passengers:  1309 age unknown:  263\n"
     ]
    },
    {
     "data": {
      "image/png": "[encoded data removed]",
      "text/plain": [
       "<Figure size 1000x400 with 1 Axes>"
      ]
     },
     "metadata": {},
     "output_type": "display_data"
    }
   ],
   "source": [
    "fig, ax = plt.subplots(figsize=(10, 4))\n",
    "age_distr.cumsum().plot(marker='o')\n",
    "ax.set_xlabel('age')\n",
    "ax.set_ylabel('passengers')\n",
    "ax.set_ylim(0)\n",
    "na = df.age.isna().sum()\n",
    "print(\"all passengers: \", passengers, \"age unknown: \", na)\n",
    "age_known = passengers - na\n",
    "plt.plot([0, 80],[age_known,age_known], linestyle='--')\n",
    "fig.show()"
   ]
  },
  {
   "cell_type": "markdown",
   "metadata": {},
   "source": [
    "Analizziamo il genere. Per uniformità, ordiniamo di nuovo l'indice, per cui ```female``` verrà prima di ```male```, in ordine alfabetico."
   ]
  },
  {
   "cell_type": "code",
   "execution_count": 113,
   "metadata": {},
   "outputs": [
    {
     "data": {
      "text/plain": [
       "sex\n",
       "female    466\n",
       "male      843\n",
       "Name: count, dtype: int64"
      ]
     },
     "execution_count": 113,
     "metadata": {},
     "output_type": "execute_result"
    }
   ],
   "source": [
    "count_gender = df.sex.value_counts().sort_index()\n",
    "count_gender"
   ]
  },
  {
   "cell_type": "code",
   "execution_count": 114,
   "metadata": {},
   "outputs": [
    {
     "name": "stdout",
     "output_type": "stream",
     "text": [
      "genders:  ['female' 'male']\n"
     ]
    }
   ],
   "source": [
    "genders = count_gender.index.values\n",
    "print('genders: ',genders)"
   ]
  },
  {
   "cell_type": "code",
   "execution_count": 115,
   "metadata": {},
   "outputs": [
    {
     "name": "stdout",
     "output_type": "stream",
     "text": [
      "female : 466\n",
      "male : 843\n"
     ]
    }
   ],
   "source": [
    "for i in range(len(genders)):\n",
    "    print(genders[i], \":\", count_gender.iloc[i])"
   ]
  },
  {
   "cell_type": "code",
   "execution_count": 118,
   "metadata": {},
   "outputs": [
    {
     "data": {
      "text/plain": [
       "survived\n",
       "0    682\n",
       "1    161\n",
       "Name: count, dtype: int64"
      ]
     },
     "execution_count": 118,
     "metadata": {},
     "output_type": "execute_result"
    }
   ],
   "source": [
    "m_survived = df[df.sex == 'male'].survived.value_counts().sort_index()\n",
    "m_survived"
   ]
  },
  {
   "cell_type": "code",
   "execution_count": 119,
   "metadata": {},
   "outputs": [
    {
     "data": {
      "text/plain": [
       "survived\n",
       "0    127\n",
       "1    339\n",
       "Name: count, dtype: int64"
      ]
     },
     "execution_count": 119,
     "metadata": {},
     "output_type": "execute_result"
    }
   ],
   "source": [
    "f_survived = df[df.sex == 'female'].survived.value_counts().sort_index()\n",
    "f_survived"
   ]
  },
  {
   "cell_type": "code",
   "execution_count": 120,
   "metadata": {},
   "outputs": [
    {
     "name": "stdout",
     "output_type": "stream",
     "text": [
      "males, survived:  161  dead:  682\n",
      "females, survived:  339  dead:  127\n"
     ]
    }
   ],
   "source": [
    "print(\"males, survived: \", m_survived[1], \" dead: \", m_survived[0])\n",
    "print(\"females, survived: \", f_survived[1], \" dead: \", f_survived[0])"
   ]
  },
  {
   "cell_type": "code",
   "execution_count": 121,
   "metadata": {},
   "outputs": [],
   "source": [
    "survived_sex = df[df.survived == 1].sex.value_counts().sort_index()\n",
    "dead_sex = df[df.survived == 0].sex.value_counts().sort_index()"
   ]
  },
  {
   "cell_type": "code",
   "execution_count": 122,
   "metadata": {},
   "outputs": [
    {
     "name": "stdout",
     "output_type": "stream",
     "text": [
      "survived, f:  339  m:  161\n",
      "dead, f:  127  m:  682\n"
     ]
    }
   ],
   "source": [
    "print(\"survived, f: \", survived_sex.female, \" m: \", survived_sex.male)\n",
    "print(\"dead, f: \", dead_sex.female, \" m: \", dead_sex.male)"
   ]
  },
  {
   "cell_type": "code",
   "execution_count": 128,
   "metadata": {},
   "outputs": [
    {
     "data": {
      "image/png": "[encoded data removed]",
      "text/plain": [
       "<Figure size 1000x400 with 1 Axes>"
      ]
     },
     "metadata": {},
     "output_type": "display_data"
    }
   ],
   "source": [
    "fig, ax = plt.subplots(figsize=(10, 4))\n",
    "labels = genders\n",
    "x = np.arange(len(labels))\n",
    "w = 0.3\n",
    "plt.bar(x=x - w/2 - 0.02, height=survived_sex, width=w, label='survived')\n",
    "plt.bar(x=x + w/2 + 0.02, height=dead_sex, width=w, label='dead')\n",
    "plt.xlabel('gender')\n",
    "plt.ylabel('passengers')\n",
    "ax.set_xticks(x)\n",
    "ax.set_xticklabels(labels)\n",
    "plt.legend()\n",
    "plt.show()"
   ]
  },
  {
   "cell_type": "code",
   "execution_count": 130,
   "metadata": {},
   "outputs": [
    {
     "data": {
      "image/png": "[encoded data removed]",
      "text/plain": [
       "<Figure size 1000x400 with 1 Axes>"
      ]
     },
     "metadata": {},
     "output_type": "display_data"
    }
   ],
   "source": [
    "plt.figure(figsize=(10, 4))\n",
    "plt.bar(x=genders, height=survived_sex, label='survived')\n",
    "plt.bar(x=genders, bottom=survived_sex, height=dead_sex, label='dead')\n",
    "plt.xlabel('gender')\n",
    "plt.ylabel('passengers')\n",
    "plt.legend()\n",
    "plt.show()"
   ]
  },
  {
   "cell_type": "markdown",
   "metadata": {},
   "source": [
    "# Approccio assiomatico di Kolmogorov alla probabilità\n",
    "\n",
    "Consideriamo un *sample space* $\\Omega$ e un *event space* $F \\subseteq 2^\\Omega$ che contiene $\\Omega$ ($2^\\Omega$ è l'insieme delle parti di $\\Omega$), la probabilità $P$ è una funzione che associa ad ogni elemento $E$ di $F$ un valore reale. \n",
    "\n",
    "$P$ deve soddisfare alcune proprietà che la caratterizzano come misura:\n",
    "1. $P(E)\\ge 0\\,\\,\\, \\forall E\\in F$\n",
    "* $P(\\Omega)=1$ (normalizzazione)\n",
    "* $\\forall(E_1,\\cdots,E_n)\\in F^n: E_i\\cap E_j=0,\\,\\,\\, P\\left(\\bigcup\\limits_{i=1}^n E_i\\right) = \\sum\\limits_{i=1}^n P(E_i)$"
   ]
  },
  {
   "cell_type": "markdown",
   "metadata": {},
   "source": [
    "## Definizione di probabilità per un insieme finito\n",
    "\n",
    "Nel nostro caso, potremmo definire $\\Omega$ come l'insieme dei 1309 passeggeri del Titanic. L'insieme delle parti comprende diversi sottoinsiemi di $\\Omega$. Ad esempio:\n",
    "* maschi\n",
    "* femmine\n",
    "* sopravvissuti\n",
    "* passeggeri in 1^ classe, 2^ classe, 3^ classe\n",
    "* maschi sopravvissuti\n",
    "* donne sopravvissute\n",
    "* maschi sopravvissuti in 3^ classe\n",
    "* ... ecc.\n",
    "\n",
    "La probabilità di uno dei sottoinsiemi $E$ può essere definita come:\n",
    "\n",
    "$P(E) = \\frac{\\displaystyle n(E)}{\\displaystyle n(\\Omega)}$\n",
    "\n",
    "Dove $n(\\Omega)=1309$. Dividere per $n(\\Omega)$ fornisce la normalizzazzione corretta affinché $P(\\Omega)=1$.\n",
    "\n",
    "Nel caso dei passeggerei del Titanic **non abbiamo alcun fenomeno casuale**. L'applicazione della teoria della probabilità di Kolmogorov è possibile interpretando la probabilità come frequenza di un evento $E$ rispetto al totale del campione di 1309 passeggeri.\n",
    "\n",
    "Potremmo interpretarla, intuitivamente, come probabilità che un passeggero, *estratto a caso*, appartenga ad un certo sottoinsieme.\n"
   ]
  },
  {
   "cell_type": "markdown",
   "metadata": {},
   "source": [
    "Cambiamo rappresentazione, e facciamo un grafico a barre dove la *base* rappresenti il numero totale di casi, l'*altezza* la frazione di casi."
   ]
  },
  {
   "cell_type": "code",
   "execution_count": 131,
   "metadata": {},
   "outputs": [
    {
     "name": "stdout",
     "output_type": "stream",
     "text": [
      "sex\n",
      "female    0.727468\n",
      "male      0.190985\n",
      "Name: count, dtype: float64 sex\n",
      "female    466\n",
      "male      843\n",
      "Name: count, dtype: int64\n"
     ]
    },
    {
     "data": {
      "image/png": "[encoded data removed]",
      "text/plain": [
       "<Figure size 1000x400 with 1 Axes>"
      ]
     },
     "metadata": {},
     "output_type": "display_data"
    }
   ],
   "source": [
    "plt.figure(figsize=(10, 4))\n",
    "pos = (0, (count_gender.iloc[0] + count_gender.iloc[1])/2)\n",
    "all_sex = survived_sex + dead_sex\n",
    "prob_survived = survived_sex/all_sex\n",
    "prob_dead = dead_sex/count_gender\n",
    "print(prob_survived, count_gender)\n",
    "plt.bar(x=pos, height=prob_survived, width=count_gender, label='survived')\n",
    "plt.bar(x=pos, bottom=prob_survived, height=prob_dead, width=count_gender, label='dead')\n",
    "plt.xticks(pos, genders)\n",
    "plt.legend()\n",
    "plt.xlabel('gender')\n",
    "plt.ylabel('fraction')\n",
    "plt.show()"
   ]
  },
  {
   "cell_type": "code",
   "execution_count": 132,
   "metadata": {},
   "outputs": [
    {
     "data": {
      "text/plain": [
       "pclass\n",
       "1    323\n",
       "2    277\n",
       "3    709\n",
       "Name: count, dtype: int64"
      ]
     },
     "execution_count": 132,
     "metadata": {},
     "output_type": "execute_result"
    }
   ],
   "source": [
    "count_classes = df.pclass.value_counts().sort_index()\n",
    "count_classes"
   ]
  },
  {
   "cell_type": "code",
   "execution_count": 133,
   "metadata": {},
   "outputs": [
    {
     "data": {
      "text/plain": [
       "array([1, 2, 3])"
      ]
     },
     "execution_count": 133,
     "metadata": {},
     "output_type": "execute_result"
    }
   ],
   "source": [
    "classes = count_classes.index.values\n",
    "classes"
   ]
  },
  {
   "cell_type": "code",
   "execution_count": 134,
   "metadata": {},
   "outputs": [],
   "source": [
    "survived_class = df[df.survived == 1].pclass.value_counts().sort_index()\n",
    "dead_class = df[df.survived == 0].pclass.value_counts().sort_index()"
   ]
  },
  {
   "cell_type": "code",
   "execution_count": 135,
   "metadata": {},
   "outputs": [
    {
     "data": {
      "text/plain": [
       "pclass\n",
       "1    200\n",
       "2    119\n",
       "3    181\n",
       "Name: count, dtype: int64"
      ]
     },
     "execution_count": 135,
     "metadata": {},
     "output_type": "execute_result"
    }
   ],
   "source": [
    "survived_class"
   ]
  },
  {
   "cell_type": "code",
   "execution_count": 50,
   "metadata": {},
   "outputs": [
    {
     "data": {
      "text/plain": [
       "pclass\n",
       "1    123\n",
       "2    158\n",
       "3    528\n",
       "Name: count, dtype: int64"
      ]
     },
     "execution_count": 50,
     "metadata": {},
     "output_type": "execute_result"
    }
   ],
   "source": [
    "dead_class"
   ]
  },
  {
   "cell_type": "code",
   "execution_count": 136,
   "metadata": {},
   "outputs": [
    {
     "data": {
      "text/plain": [
       "pclass\n",
       "1    323\n",
       "2    277\n",
       "3    709\n",
       "Name: count, dtype: int64"
      ]
     },
     "execution_count": 136,
     "metadata": {},
     "output_type": "execute_result"
    }
   ],
   "source": [
    "all_class = survived_class + dead_class\n",
    "all_class"
   ]
  },
  {
   "cell_type": "code",
   "execution_count": 137,
   "metadata": {},
   "outputs": [
    {
     "data": {
      "text/plain": [
       "pclass\n",
       "1    0.619195\n",
       "2    0.429603\n",
       "3    0.255289\n",
       "Name: count, dtype: float64"
      ]
     },
     "execution_count": 137,
     "metadata": {},
     "output_type": "execute_result"
    }
   ],
   "source": [
    "prob_survived = survived_class/all_class\n",
    "prob_survived"
   ]
  },
  {
   "cell_type": "code",
   "execution_count": 138,
   "metadata": {},
   "outputs": [
    {
     "data": {
      "text/plain": [
       "pclass\n",
       "1    0.380805\n",
       "2    0.570397\n",
       "3    0.744711\n",
       "Name: count, dtype: float64"
      ]
     },
     "execution_count": 138,
     "metadata": {},
     "output_type": "execute_result"
    }
   ],
   "source": [
    "prob_dead = dead_class/all_class\n",
    "prob_dead"
   ]
  },
  {
   "cell_type": "code",
   "execution_count": 139,
   "metadata": {},
   "outputs": [
    {
     "data": {
      "image/png": "[encoded data removed]",
      "text/plain": [
       "<Figure size 1000x400 with 1 Axes>"
      ]
     },
     "metadata": {},
     "output_type": "display_data"
    }
   ],
   "source": [
    "pos=[0, (count_classes[1]+count_classes[2])/2, (count_classes[1]+count_classes[3])/2+count_classes[2]]\n",
    "plt.figure(figsize=(10, 4))\n",
    "plt.bar(x=pos, height=prob_survived, width=count_classes, label='survived')\n",
    "plt.bar(x=pos, bottom=prob_survived, height=prob_dead, width=count_classes, label='dead')\n",
    "plt.xticks(pos, classes)\n",
    "plt.legend()\n",
    "plt.xlabel('class')\n",
    "plt.ylabel('fraction')\n",
    "plt.show()"
   ]
  },
  {
   "cell_type": "markdown",
   "metadata": {},
   "source": [
    "Nei grafici sopra abbiamo rappresentato gli istogrammi con una larghezza pari al numero di persone in ciascuna categoria (maschi o femmine; 1^, 2^, o 3^ classe). Sull'asse verticale abbiamo rappresentato la frazione, ovvero, per come l'abbiamo definita, la probabilità dell'esito (sopravvissuto o morto). **Ciasuno dei rettangoli ha l'area proporzionale al numero di persone in ciascuna categoria**. In un istogramma classico, invece, il numero di persone è rappresentato come altezza della barra."
   ]
  },
  {
   "cell_type": "code",
   "execution_count": 140,
   "metadata": {},
   "outputs": [
    {
     "data": {
      "text/plain": [
       "age_cat\n",
       "2.5      51\n",
       "7.5      31\n",
       "12.5     27\n",
       "17.5    116\n",
       "22.5    184\n",
       "27.5    160\n",
       "32.5    132\n",
       "37.5    100\n",
       "42.5     69\n",
       "47.5     66\n",
       "52.5     43\n",
       "57.5     27\n",
       "62.5     27\n",
       "67.5      5\n",
       "72.5      6\n",
       "77.5      1\n",
       "82.5      1\n",
       "Name: count, dtype: int64"
      ]
     },
     "execution_count": 140,
     "metadata": {},
     "output_type": "execute_result"
    }
   ],
   "source": [
    "cat_years = 5\n",
    "df['age_cat'] = (np.floor(df.age/cat_years)*cat_years + cat_years/2)\n",
    "df.age_cat.value_counts().sort_index()"
   ]
  },
  {
   "cell_type": "markdown",
   "metadata": {},
   "source": [
    "Con la funzione [```cross_tab```](https://pandas.pydata.org/docs/reference/api/pandas.crosstab.html) si può creare una tabella con i valori di una colonna (es.: ```survived```) usando come indice un altra colonna (es.: ```age_cat```). Tutto è generalizzabile a pià colonne."
   ]
  },
  {
   "cell_type": "code",
   "execution_count": 142,
   "metadata": {},
   "outputs": [
    {
     "data": {
      "text/html": [
       "<div>\n",
       "<style scoped>\n",
       "    .dataframe tbody tr th:only-of-type {\n",
       "        vertical-align: middle;\n",
       "    }\n",
       "\n",
       "    .dataframe tbody tr th {\n",
       "        vertical-align: top;\n",
       "    }\n",
       "\n",
       "    .dataframe thead th {\n",
       "        text-align: right;\n",
       "    }\n",
       "</style>\n",
       "<table border=\"1\" class=\"dataframe\">\n",
       "  <thead>\n",
       "    <tr style=\"text-align: right;\">\n",
       "      <th>survived</th>\n",
       "      <th>0</th>\n",
       "      <th>1</th>\n",
       "    </tr>\n",
       "    <tr>\n",
       "      <th>age_cat</th>\n",
       "      <th></th>\n",
       "      <th></th>\n",
       "    </tr>\n",
       "  </thead>\n",
       "  <tbody>\n",
       "    <tr>\n",
       "      <th>2.5</th>\n",
       "      <td>18</td>\n",
       "      <td>33</td>\n",
       "    </tr>\n",
       "    <tr>\n",
       "      <th>7.5</th>\n",
       "      <td>14</td>\n",
       "      <td>17</td>\n",
       "    </tr>\n",
       "    <tr>\n",
       "      <th>12.5</th>\n",
       "      <td>16</td>\n",
       "      <td>11</td>\n",
       "    </tr>\n",
       "    <tr>\n",
       "      <th>17.5</th>\n",
       "      <td>71</td>\n",
       "      <td>45</td>\n",
       "    </tr>\n",
       "    <tr>\n",
       "      <th>22.5</th>\n",
       "      <td>113</td>\n",
       "      <td>71</td>\n",
       "    </tr>\n",
       "    <tr>\n",
       "      <th>27.5</th>\n",
       "      <td>104</td>\n",
       "      <td>56</td>\n",
       "    </tr>\n",
       "    <tr>\n",
       "      <th>32.5</th>\n",
       "      <td>78</td>\n",
       "      <td>54</td>\n",
       "    </tr>\n",
       "    <tr>\n",
       "      <th>37.5</th>\n",
       "      <td>56</td>\n",
       "      <td>44</td>\n",
       "    </tr>\n",
       "    <tr>\n",
       "      <th>42.5</th>\n",
       "      <td>49</td>\n",
       "      <td>20</td>\n",
       "    </tr>\n",
       "    <tr>\n",
       "      <th>47.5</th>\n",
       "      <td>34</td>\n",
       "      <td>32</td>\n",
       "    </tr>\n",
       "    <tr>\n",
       "      <th>52.5</th>\n",
       "      <td>22</td>\n",
       "      <td>21</td>\n",
       "    </tr>\n",
       "    <tr>\n",
       "      <th>57.5</th>\n",
       "      <td>16</td>\n",
       "      <td>11</td>\n",
       "    </tr>\n",
       "    <tr>\n",
       "      <th>62.5</th>\n",
       "      <td>17</td>\n",
       "      <td>10</td>\n",
       "    </tr>\n",
       "    <tr>\n",
       "      <th>67.5</th>\n",
       "      <td>5</td>\n",
       "      <td>0</td>\n",
       "    </tr>\n",
       "    <tr>\n",
       "      <th>72.5</th>\n",
       "      <td>6</td>\n",
       "      <td>0</td>\n",
       "    </tr>\n",
       "    <tr>\n",
       "      <th>77.5</th>\n",
       "      <td>0</td>\n",
       "      <td>1</td>\n",
       "    </tr>\n",
       "    <tr>\n",
       "      <th>82.5</th>\n",
       "      <td>0</td>\n",
       "      <td>1</td>\n",
       "    </tr>\n",
       "  </tbody>\n",
       "</table>\n",
       "</div>"
      ],
      "text/plain": [
       "survived    0   1\n",
       "age_cat          \n",
       "2.5        18  33\n",
       "7.5        14  17\n",
       "12.5       16  11\n",
       "17.5       71  45\n",
       "22.5      113  71\n",
       "27.5      104  56\n",
       "32.5       78  54\n",
       "37.5       56  44\n",
       "42.5       49  20\n",
       "47.5       34  32\n",
       "52.5       22  21\n",
       "57.5       16  11\n",
       "62.5       17  10\n",
       "67.5        5   0\n",
       "72.5        6   0\n",
       "77.5        0   1\n",
       "82.5        0   1"
      ]
     },
     "execution_count": 142,
     "metadata": {},
     "output_type": "execute_result"
    }
   ],
   "source": [
    "cross_tab = pd.crosstab(index=df.age_cat, columns=[df.survived], rownames=[\"age_cat\"], colnames=[\"survived\"])\n",
    "cross_tab"
   ]
  },
  {
   "cell_type": "markdown",
   "metadata": {},
   "source": [
    "Con la funzione [```cross_tab```](https://pandas.pydata.org/docs/reference/api/pandas.crosstab.html) si può creare una tabella con i valori di una colonna (es.: ```survived```) usando come indice un altra colonna (es.: ```age_cat```). Tutto è generalizzabile a pià colonne."
   ]
  },
  {
   "cell_type": "code",
   "execution_count": 143,
   "metadata": {},
   "outputs": [
    {
     "data": {
      "text/html": [
       "<div>\n",
       "<style scoped>\n",
       "    .dataframe tbody tr th:only-of-type {\n",
       "        vertical-align: middle;\n",
       "    }\n",
       "\n",
       "    .dataframe tbody tr th {\n",
       "        vertical-align: top;\n",
       "    }\n",
       "\n",
       "    .dataframe thead th {\n",
       "        text-align: right;\n",
       "    }\n",
       "</style>\n",
       "<table border=\"1\" class=\"dataframe\">\n",
       "  <thead>\n",
       "    <tr style=\"text-align: right;\">\n",
       "      <th>survived</th>\n",
       "      <th>dead</th>\n",
       "      <th>survived</th>\n",
       "    </tr>\n",
       "    <tr>\n",
       "      <th>age_cat</th>\n",
       "      <th></th>\n",
       "      <th></th>\n",
       "    </tr>\n",
       "  </thead>\n",
       "  <tbody>\n",
       "    <tr>\n",
       "      <th>2.5</th>\n",
       "      <td>18</td>\n",
       "      <td>33</td>\n",
       "    </tr>\n",
       "    <tr>\n",
       "      <th>7.5</th>\n",
       "      <td>14</td>\n",
       "      <td>17</td>\n",
       "    </tr>\n",
       "    <tr>\n",
       "      <th>12.5</th>\n",
       "      <td>16</td>\n",
       "      <td>11</td>\n",
       "    </tr>\n",
       "    <tr>\n",
       "      <th>17.5</th>\n",
       "      <td>71</td>\n",
       "      <td>45</td>\n",
       "    </tr>\n",
       "    <tr>\n",
       "      <th>22.5</th>\n",
       "      <td>113</td>\n",
       "      <td>71</td>\n",
       "    </tr>\n",
       "    <tr>\n",
       "      <th>27.5</th>\n",
       "      <td>104</td>\n",
       "      <td>56</td>\n",
       "    </tr>\n",
       "    <tr>\n",
       "      <th>32.5</th>\n",
       "      <td>78</td>\n",
       "      <td>54</td>\n",
       "    </tr>\n",
       "    <tr>\n",
       "      <th>37.5</th>\n",
       "      <td>56</td>\n",
       "      <td>44</td>\n",
       "    </tr>\n",
       "    <tr>\n",
       "      <th>42.5</th>\n",
       "      <td>49</td>\n",
       "      <td>20</td>\n",
       "    </tr>\n",
       "    <tr>\n",
       "      <th>47.5</th>\n",
       "      <td>34</td>\n",
       "      <td>32</td>\n",
       "    </tr>\n",
       "    <tr>\n",
       "      <th>52.5</th>\n",
       "      <td>22</td>\n",
       "      <td>21</td>\n",
       "    </tr>\n",
       "    <tr>\n",
       "      <th>57.5</th>\n",
       "      <td>16</td>\n",
       "      <td>11</td>\n",
       "    </tr>\n",
       "    <tr>\n",
       "      <th>62.5</th>\n",
       "      <td>17</td>\n",
       "      <td>10</td>\n",
       "    </tr>\n",
       "    <tr>\n",
       "      <th>67.5</th>\n",
       "      <td>5</td>\n",
       "      <td>0</td>\n",
       "    </tr>\n",
       "    <tr>\n",
       "      <th>72.5</th>\n",
       "      <td>6</td>\n",
       "      <td>0</td>\n",
       "    </tr>\n",
       "    <tr>\n",
       "      <th>77.5</th>\n",
       "      <td>0</td>\n",
       "      <td>1</td>\n",
       "    </tr>\n",
       "    <tr>\n",
       "      <th>82.5</th>\n",
       "      <td>0</td>\n",
       "      <td>1</td>\n",
       "    </tr>\n",
       "  </tbody>\n",
       "</table>\n",
       "</div>"
      ],
      "text/plain": [
       "survived  dead  survived\n",
       "age_cat                 \n",
       "2.5         18        33\n",
       "7.5         14        17\n",
       "12.5        16        11\n",
       "17.5        71        45\n",
       "22.5       113        71\n",
       "27.5       104        56\n",
       "32.5        78        54\n",
       "37.5        56        44\n",
       "42.5        49        20\n",
       "47.5        34        32\n",
       "52.5        22        21\n",
       "57.5        16        11\n",
       "62.5        17        10\n",
       "67.5         5         0\n",
       "72.5         6         0\n",
       "77.5         0         1\n",
       "82.5         0         1"
      ]
     },
     "execution_count": 143,
     "metadata": {},
     "output_type": "execute_result"
    }
   ],
   "source": [
    "cross_tab = cross_tab.rename(columns={0: 'dead', 1: 'survived'})\n",
    "cross_tab"
   ]
  },
  {
   "cell_type": "code",
   "execution_count": 145,
   "metadata": {},
   "outputs": [
    {
     "data": {
      "text/html": [
       "<div>\n",
       "<style scoped>\n",
       "    .dataframe tbody tr th:only-of-type {\n",
       "        vertical-align: middle;\n",
       "    }\n",
       "\n",
       "    .dataframe tbody tr th {\n",
       "        vertical-align: top;\n",
       "    }\n",
       "\n",
       "    .dataframe thead th {\n",
       "        text-align: right;\n",
       "    }\n",
       "</style>\n",
       "<table border=\"1\" class=\"dataframe\">\n",
       "  <thead>\n",
       "    <tr style=\"text-align: right;\">\n",
       "      <th>survived</th>\n",
       "      <th>dead</th>\n",
       "      <th>survived</th>\n",
       "      <th>all</th>\n",
       "      <th>f_survived</th>\n",
       "      <th>f_dead</th>\n",
       "    </tr>\n",
       "    <tr>\n",
       "      <th>age_cat</th>\n",
       "      <th></th>\n",
       "      <th></th>\n",
       "      <th></th>\n",
       "      <th></th>\n",
       "      <th></th>\n",
       "    </tr>\n",
       "  </thead>\n",
       "  <tbody>\n",
       "    <tr>\n",
       "      <th>2.5</th>\n",
       "      <td>18</td>\n",
       "      <td>33</td>\n",
       "      <td>51</td>\n",
       "      <td>0.647059</td>\n",
       "      <td>0.352941</td>\n",
       "    </tr>\n",
       "    <tr>\n",
       "      <th>7.5</th>\n",
       "      <td>14</td>\n",
       "      <td>17</td>\n",
       "      <td>31</td>\n",
       "      <td>0.548387</td>\n",
       "      <td>0.451613</td>\n",
       "    </tr>\n",
       "    <tr>\n",
       "      <th>12.5</th>\n",
       "      <td>16</td>\n",
       "      <td>11</td>\n",
       "      <td>27</td>\n",
       "      <td>0.407407</td>\n",
       "      <td>0.592593</td>\n",
       "    </tr>\n",
       "    <tr>\n",
       "      <th>17.5</th>\n",
       "      <td>71</td>\n",
       "      <td>45</td>\n",
       "      <td>116</td>\n",
       "      <td>0.387931</td>\n",
       "      <td>0.612069</td>\n",
       "    </tr>\n",
       "    <tr>\n",
       "      <th>22.5</th>\n",
       "      <td>113</td>\n",
       "      <td>71</td>\n",
       "      <td>184</td>\n",
       "      <td>0.385870</td>\n",
       "      <td>0.614130</td>\n",
       "    </tr>\n",
       "    <tr>\n",
       "      <th>27.5</th>\n",
       "      <td>104</td>\n",
       "      <td>56</td>\n",
       "      <td>160</td>\n",
       "      <td>0.350000</td>\n",
       "      <td>0.650000</td>\n",
       "    </tr>\n",
       "    <tr>\n",
       "      <th>32.5</th>\n",
       "      <td>78</td>\n",
       "      <td>54</td>\n",
       "      <td>132</td>\n",
       "      <td>0.409091</td>\n",
       "      <td>0.590909</td>\n",
       "    </tr>\n",
       "    <tr>\n",
       "      <th>37.5</th>\n",
       "      <td>56</td>\n",
       "      <td>44</td>\n",
       "      <td>100</td>\n",
       "      <td>0.440000</td>\n",
       "      <td>0.560000</td>\n",
       "    </tr>\n",
       "    <tr>\n",
       "      <th>42.5</th>\n",
       "      <td>49</td>\n",
       "      <td>20</td>\n",
       "      <td>69</td>\n",
       "      <td>0.289855</td>\n",
       "      <td>0.710145</td>\n",
       "    </tr>\n",
       "    <tr>\n",
       "      <th>47.5</th>\n",
       "      <td>34</td>\n",
       "      <td>32</td>\n",
       "      <td>66</td>\n",
       "      <td>0.484848</td>\n",
       "      <td>0.515152</td>\n",
       "    </tr>\n",
       "    <tr>\n",
       "      <th>52.5</th>\n",
       "      <td>22</td>\n",
       "      <td>21</td>\n",
       "      <td>43</td>\n",
       "      <td>0.488372</td>\n",
       "      <td>0.511628</td>\n",
       "    </tr>\n",
       "    <tr>\n",
       "      <th>57.5</th>\n",
       "      <td>16</td>\n",
       "      <td>11</td>\n",
       "      <td>27</td>\n",
       "      <td>0.407407</td>\n",
       "      <td>0.592593</td>\n",
       "    </tr>\n",
       "    <tr>\n",
       "      <th>62.5</th>\n",
       "      <td>17</td>\n",
       "      <td>10</td>\n",
       "      <td>27</td>\n",
       "      <td>0.370370</td>\n",
       "      <td>0.629630</td>\n",
       "    </tr>\n",
       "    <tr>\n",
       "      <th>67.5</th>\n",
       "      <td>5</td>\n",
       "      <td>0</td>\n",
       "      <td>5</td>\n",
       "      <td>0.000000</td>\n",
       "      <td>1.000000</td>\n",
       "    </tr>\n",
       "    <tr>\n",
       "      <th>72.5</th>\n",
       "      <td>6</td>\n",
       "      <td>0</td>\n",
       "      <td>6</td>\n",
       "      <td>0.000000</td>\n",
       "      <td>1.000000</td>\n",
       "    </tr>\n",
       "    <tr>\n",
       "      <th>77.5</th>\n",
       "      <td>0</td>\n",
       "      <td>1</td>\n",
       "      <td>1</td>\n",
       "      <td>1.000000</td>\n",
       "      <td>0.000000</td>\n",
       "    </tr>\n",
       "    <tr>\n",
       "      <th>82.5</th>\n",
       "      <td>0</td>\n",
       "      <td>1</td>\n",
       "      <td>1</td>\n",
       "      <td>1.000000</td>\n",
       "      <td>0.000000</td>\n",
       "    </tr>\n",
       "  </tbody>\n",
       "</table>\n",
       "</div>"
      ],
      "text/plain": [
       "survived  dead  survived  all  f_survived    f_dead\n",
       "age_cat                                            \n",
       "2.5         18        33   51    0.647059  0.352941\n",
       "7.5         14        17   31    0.548387  0.451613\n",
       "12.5        16        11   27    0.407407  0.592593\n",
       "17.5        71        45  116    0.387931  0.612069\n",
       "22.5       113        71  184    0.385870  0.614130\n",
       "27.5       104        56  160    0.350000  0.650000\n",
       "32.5        78        54  132    0.409091  0.590909\n",
       "37.5        56        44  100    0.440000  0.560000\n",
       "42.5        49        20   69    0.289855  0.710145\n",
       "47.5        34        32   66    0.484848  0.515152\n",
       "52.5        22        21   43    0.488372  0.511628\n",
       "57.5        16        11   27    0.407407  0.592593\n",
       "62.5        17        10   27    0.370370  0.629630\n",
       "67.5         5         0    5    0.000000  1.000000\n",
       "72.5         6         0    6    0.000000  1.000000\n",
       "77.5         0         1    1    1.000000  0.000000\n",
       "82.5         0         1    1    1.000000  0.000000"
      ]
     },
     "execution_count": 145,
     "metadata": {},
     "output_type": "execute_result"
    }
   ],
   "source": [
    "cross_tab['all'] = cross_tab['dead'] + cross_tab['survived']\n",
    "cross_tab['f_survived'] = cross_tab['survived']/cross_tab['all']\n",
    "cross_tab['f_dead'] = cross_tab['dead']/cross_tab['all']\n",
    "cross_tab"
   ]
  },
  {
   "cell_type": "code",
   "execution_count": 146,
   "metadata": {},
   "outputs": [
    {
     "data": {
      "image/png": "[encoded data removed]",
      "text/plain": [
       "<Figure size 1000x400 with 1 Axes>"
      ]
     },
     "metadata": {},
     "output_type": "display_data"
    }
   ],
   "source": [
    "plt.figure(figsize=(10, 4))\n",
    "plt.bar(x=cross_tab.index, width=cat_years, height=cross_tab['f_survived'], label='survived')\n",
    "plt.bar(x=cross_tab.index, width=cat_years, bottom=cross_tab['f_survived'], height=cross_tab['f_dead'], label='dead')\n",
    "plt.xlabel('age')\n",
    "plt.ylabel('number')\n",
    "plt.legend()\n",
    "plt.show()"
   ]
  },
  {
   "cell_type": "markdown",
   "metadata": {},
   "source": [
    "## Raggruppamento per valori di alcune colonne\n",
    "\n",
    "I casi possono essere raggruppati selezionando in base ai valori di alcune colonne.\n",
    "\n",
    "I usa per questo la funzione [```groupby```](https://pandas.pydata.org/pandas-docs/stable/reference/api/pandas.DataFrame.groupby.html)"
   ]
  },
  {
   "cell_type": "code",
   "execution_count": 147,
   "metadata": {},
   "outputs": [
    {
     "data": {
      "text/plain": [
       "sex     pclass\n",
       "female  1         144\n",
       "        2         106\n",
       "        3         216\n",
       "male    1         179\n",
       "        2         171\n",
       "        3         493\n",
       "dtype: int64"
      ]
     },
     "execution_count": 147,
     "metadata": {},
     "output_type": "execute_result"
    }
   ],
   "source": [
    "sex_pclass = df.groupby(['sex', 'pclass']).size()\n",
    "sex_pclass"
   ]
  },
  {
   "cell_type": "code",
   "execution_count": 62,
   "metadata": {},
   "outputs": [
    {
     "data": {
      "text/plain": [
       "pandas.core.series.Series"
      ]
     },
     "execution_count": 62,
     "metadata": {},
     "output_type": "execute_result"
    }
   ],
   "source": [
    "type(sex_pclass)"
   ]
  },
  {
   "cell_type": "markdown",
   "metadata": {},
   "source": [
    "La tabella che abbiamo ottenuto ha [più indici](https://pandas.pydata.org/pandas-docs/stable/reference/api/pandas.MultiIndex.html)."
   ]
  },
  {
   "cell_type": "code",
   "execution_count": 148,
   "metadata": {},
   "outputs": [
    {
     "data": {
      "text/plain": [
       "MultiIndex([('female', 1),\n",
       "            ('female', 2),\n",
       "            ('female', 3),\n",
       "            (  'male', 1),\n",
       "            (  'male', 2),\n",
       "            (  'male', 3)],\n",
       "           names=['sex', 'pclass'])"
      ]
     },
     "execution_count": 148,
     "metadata": {},
     "output_type": "execute_result"
    }
   ],
   "source": [
    "sex_pclass.index"
   ]
  },
  {
   "cell_type": "markdown",
   "metadata": {},
   "source": [
    "Possiamo estrarre i singoli indici."
   ]
  },
  {
   "cell_type": "code",
   "execution_count": 149,
   "metadata": {},
   "outputs": [
    {
     "data": {
      "text/plain": [
       "Index(['female', 'male'], dtype='object', name='sex')"
      ]
     },
     "execution_count": 149,
     "metadata": {},
     "output_type": "execute_result"
    }
   ],
   "source": [
    "idx0 = sex_pclass.index.get_level_values(0).unique()\n",
    "idx0"
   ]
  },
  {
   "cell_type": "code",
   "execution_count": 150,
   "metadata": {},
   "outputs": [
    {
     "data": {
      "text/plain": [
       "Index([1, 2, 3], dtype='int64', name='pclass')"
      ]
     },
     "execution_count": 150,
     "metadata": {},
     "output_type": "execute_result"
    }
   ],
   "source": [
    "idx1 = sex_pclass.index.get_level_values(1).unique()\n",
    "idx1"
   ]
  },
  {
   "cell_type": "code",
   "execution_count": 151,
   "metadata": {},
   "outputs": [
    {
     "name": "stdout",
     "output_type": "stream",
     "text": [
      "2 3\n"
     ]
    }
   ],
   "source": [
    "print(idx0.size, idx1.size)"
   ]
  },
  {
   "cell_type": "markdown",
   "metadata": {},
   "source": [
    "I valori possono essere riorganizzati in tabella usando la funzione [```unstack```](https://pandas.pydata.org/pandas-docs/stable/reference/api/pandas.DataFrame.unstack.html)."
   ]
  },
  {
   "cell_type": "code",
   "execution_count": 152,
   "metadata": {},
   "outputs": [
    {
     "data": {
      "text/html": [
       "<div>\n",
       "<style scoped>\n",
       "    .dataframe tbody tr th:only-of-type {\n",
       "        vertical-align: middle;\n",
       "    }\n",
       "\n",
       "    .dataframe tbody tr th {\n",
       "        vertical-align: top;\n",
       "    }\n",
       "\n",
       "    .dataframe thead th {\n",
       "        text-align: right;\n",
       "    }\n",
       "</style>\n",
       "<table border=\"1\" class=\"dataframe\">\n",
       "  <thead>\n",
       "    <tr style=\"text-align: right;\">\n",
       "      <th>pclass</th>\n",
       "      <th>1</th>\n",
       "      <th>2</th>\n",
       "      <th>3</th>\n",
       "    </tr>\n",
       "    <tr>\n",
       "      <th>sex</th>\n",
       "      <th></th>\n",
       "      <th></th>\n",
       "      <th></th>\n",
       "    </tr>\n",
       "  </thead>\n",
       "  <tbody>\n",
       "    <tr>\n",
       "      <th>female</th>\n",
       "      <td>144</td>\n",
       "      <td>106</td>\n",
       "      <td>216</td>\n",
       "    </tr>\n",
       "    <tr>\n",
       "      <th>male</th>\n",
       "      <td>179</td>\n",
       "      <td>171</td>\n",
       "      <td>493</td>\n",
       "    </tr>\n",
       "  </tbody>\n",
       "</table>\n",
       "</div>"
      ],
      "text/plain": [
       "pclass    1    2    3\n",
       "sex                  \n",
       "female  144  106  216\n",
       "male    179  171  493"
      ]
     },
     "execution_count": 152,
     "metadata": {},
     "output_type": "execute_result"
    }
   ],
   "source": [
    "xtable = sex_pclass.unstack(level = 1)\n",
    "xtable"
   ]
  },
  {
   "cell_type": "code",
   "execution_count": 68,
   "metadata": {},
   "outputs": [
    {
     "data": {
      "text/plain": [
       "pandas.core.frame.DataFrame"
      ]
     },
     "execution_count": 68,
     "metadata": {},
     "output_type": "execute_result"
    }
   ],
   "source": [
    "type(xtable)"
   ]
  },
  {
   "cell_type": "code",
   "execution_count": 69,
   "metadata": {},
   "outputs": [
    {
     "data": {
      "text/plain": [
       "216"
      ]
     },
     "execution_count": 69,
     "metadata": {},
     "output_type": "execute_result"
    }
   ],
   "source": [
    "xtable.iloc[0, 2]"
   ]
  },
  {
   "cell_type": "markdown",
   "metadata": {},
   "source": [
    "Possiamo usare questo tipo di rappresentazione tabellare con un grafico bidimensionale a colori.\n",
    "\n",
    "Documentazione su heatmap e argomenti simili si trovano qui:\n",
    "    \n",
    "* heatmap in matplotlib:\n",
    "    https://matplotlib.org/3.1.1/gallery/images_contours_and_fields/image_annotated_heatmap.html\n",
    "* diverse colormap disponibili:\n",
    "    https://matplotlib.org/stable/tutorials/colors/colormaps.html"
   ]
  },
  {
   "cell_type": "code",
   "execution_count": 153,
   "metadata": {},
   "outputs": [
    {
     "data": {
      "image/png": "[encoded data removed]",
      "text/plain": [
       "<Figure size 1000x400 with 2 Axes>"
      ]
     },
     "metadata": {},
     "output_type": "display_data"
    }
   ],
   "source": [
    "def plot_map(xtable, title, label, format_str='{:.02f}'):\n",
    "    fig, ax = plt.subplots(figsize=(10, 4))\n",
    "    im = ax.imshow(xtable, cmap='seismic')\n",
    "    ax.set_xticks(np.arange(idx1.size))\n",
    "    ax.set_xticklabels(idx1)\n",
    "    ax.set_yticks(np.arange(idx0.size))\n",
    "    ax.set_yticklabels(idx0)\n",
    "    ax.set_xlabel('class')\n",
    "    ax.set_ylabel('gender')\n",
    "    for i in range(idx0.size):\n",
    "        for j in range(idx1.size):\n",
    "            text = ax.text(j, i, format_str.format(xtable.iloc[i, j]), ha=\"center\", va=\"center\", color=\"white\")\n",
    "    ax.set_title(title)\n",
    "    cbar = ax.figure.colorbar(im)\n",
    "    cbar.set_label(label)\n",
    "    fig.show()\n",
    "plot_map(xtable, 'Number of passengers','Number', '{:.0f}')"
   ]
  },
  {
   "cell_type": "markdown",
   "metadata": {},
   "source": [
    "Calcoliamo tabelle con numeri di passeggeri sopravvissuti e morti, e facciamone il rapporto."
   ]
  },
  {
   "cell_type": "code",
   "execution_count": 154,
   "metadata": {},
   "outputs": [],
   "source": [
    "xtable_survived = df[df.survived == 1].groupby(['sex','pclass']).size().unstack(level=1)\n",
    "xtable_dead = df[df.survived == 0].groupby(['sex','pclass']).size().unstack(level=1)\n",
    "xtable_prob = xtable_survived/xtable"
   ]
  },
  {
   "cell_type": "code",
   "execution_count": 155,
   "metadata": {},
   "outputs": [
    {
     "data": {
      "image/png": "[encoded data removed]",
      "text/plain": [
       "<Figure size 1000x400 with 2 Axes>"
      ]
     },
     "metadata": {},
     "output_type": "display_data"
    }
   ],
   "source": [
    "plot_map(xtable_survived, 'Number survived', 'Fraction', '{:.0f}')"
   ]
  },
  {
   "cell_type": "code",
   "execution_count": 156,
   "metadata": {},
   "outputs": [
    {
     "data": {
      "image/png": "[encoded data removed]",
      "text/plain": [
       "<Figure size 1000x400 with 2 Axes>"
      ]
     },
     "metadata": {},
     "output_type": "display_data"
    }
   ],
   "source": [
    "plot_map(xtable_dead, 'Number dead', 'Fraction', '{:.0f}')"
   ]
  },
  {
   "cell_type": "code",
   "execution_count": 157,
   "metadata": {},
   "outputs": [
    {
     "data": {
      "image/png": "[encoded data removed]",
      "text/plain": [
       "<Figure size 1000x400 with 2 Axes>"
      ]
     },
     "metadata": {},
     "output_type": "display_data"
    }
   ],
   "source": [
    "plot_map(xtable_prob, 'Fraction survived', 'Fraction')"
   ]
  },
  {
   "cell_type": "markdown",
   "metadata": {},
   "source": [
    "# Probabilità condizionata\n",
    "\n",
    "Quelli mostrati sopra sono esempi di probabilità condizionata. Formalmente può essere definita come:\n",
    "\n",
    "$P(A|B) = \\frac{\\displaystyle P(A\\cap B)}{\\displaystyle P(B)}$\n",
    "\n",
    "Ad esempio:\n",
    "\n",
    "$P(\\mathrm{survival}|\\mathrm{female}) =  \\frac{\\displaystyle P(\\mathrm{survival}\\,\\,and\\,\\,\\mathrm{female})}{\\displaystyle P(\\mathrm{female})} = \\frac{\\displaystyle \\mathrm{Num}(\\mathrm{survival}\\,\\,and\\,\\,\\mathrm{female})}{\\displaystyle \\mathrm{Num}(\\mathrm{female})}$\n",
    "\n",
    "Va notata la corrispondenza tra operatori logici sulle condizioni e operatori tra insieme:\n",
    "* a $\\longrightarrow$ $A$\n",
    "* b $\\longrightarrow$ $B$\n",
    "* a $and$ b $\\longrightarrow$ $A \\cap B$\n",
    "* a $or$ b $\\longrightarrow$ $A \\cup B$\n",
    "* $not$ a $\\longrightarrow$ $A^{c}$\n",
    "\n",
    "In genere si tende ad abusare della notazione, e condizione o insieme corrispondente sono usati in modo intercambiabile:\n",
    "\n",
    "$P(\\mathrm{female}) \\equiv P(\\{x: \\mathrm{sex}(x)=\\mathrm{female}\\})$"
   ]
  },
  {
   "cell_type": "code",
   "execution_count": 158,
   "metadata": {},
   "outputs": [
    {
     "name": "stdout",
     "output_type": "stream",
     "text": [
      "all (P(Omega)*N): 1309\n"
     ]
    }
   ],
   "source": [
    "passengers = df.shape[0]\n",
    "print('all (P(Omega)*N):', passengers)"
   ]
  },
  {
   "cell_type": "code",
   "execution_count": 159,
   "metadata": {},
   "outputs": [
    {
     "name": "stdout",
     "output_type": "stream",
     "text": [
      "females (P(B)*N): 466\n"
     ]
    }
   ],
   "source": [
    "females = df[df.sex=='female'].shape[0]\n",
    "print('females (P(B)*N):', females)"
   ]
  },
  {
   "cell_type": "code",
   "execution_count": 160,
   "metadata": {},
   "outputs": [
    {
     "name": "stdout",
     "output_type": "stream",
     "text": [
      "females, survived (P(A and B)*N): 339\n"
     ]
    }
   ],
   "source": [
    "females_survived = df[(df.sex=='female') & (df.survived==1)].shape[0]\n",
    "print('females, survived (P(A and B)*N):',females_survived)"
   ]
  },
  {
   "cell_type": "code",
   "execution_count": 161,
   "metadata": {},
   "outputs": [
    {
     "name": "stdout",
     "output_type": "stream",
     "text": [
      "fraction of survived, females (P(A|B)): 72.7%\n"
     ]
    }
   ],
   "source": [
    "females_survived_frac = females_survived/females\n",
    "print('fraction of survived, females (P(A|B)): {:.1%}'.format(females_survived_frac))"
   ]
  },
  {
   "cell_type": "markdown",
   "metadata": {},
   "source": [
    "# Teorema di Bayes\n",
    "\n",
    "La definizione di probabilità condizionata permette di scrivere due eguaglianze:\n",
    "    \n",
    "$P(A|B) = \\frac{\\displaystyle P(A\\cap B)}{\\displaystyle P(B)}$\n",
    "\n",
    "$P(B|A) = \\frac{\\displaystyle P(A\\cap B)}{\\displaystyle P(A)}$\n",
    "\n",
    "Da qui ottengo:\n",
    "\n",
    "$P(B|A) P(A) = P(A|B) P(B)$\n",
    "\n",
    "e quindi si ricava semplicemente:\n",
    "\n",
    "$P(A|B) = \\frac{\\displaystyle P(B|A) P(A)}{\\displaystyle P(B)}$\n"
   ]
  },
  {
   "cell_type": "code",
   "execution_count": 162,
   "metadata": {},
   "outputs": [
    {
     "name": "stdout",
     "output_type": "stream",
     "text": [
      "survived P(survived)*N:  500\n"
     ]
    }
   ],
   "source": [
    "survived = df[df.survived==1].shape[0]\n",
    "print('survived P(survived)*N: ', survived)"
   ]
  },
  {
   "cell_type": "code",
   "execution_count": 163,
   "metadata": {},
   "outputs": [
    {
     "name": "stdout",
     "output_type": "stream",
     "text": [
      "females survived P(female|survived): 67.80%\n"
     ]
    }
   ],
   "source": [
    "survived_females_frac = females_survived/survived\n",
    "print('females survived P(female|survived): {:.2%}'.format(survived_females_frac))"
   ]
  },
  {
   "cell_type": "code",
   "execution_count": 164,
   "metadata": {},
   "outputs": [
    {
     "name": "stdout",
     "output_type": "stream",
     "text": [
      "survived females P(survived|female): 72.75%\n"
     ]
    }
   ],
   "source": [
    "females_survived_frac = females_survived/females\n",
    "print('survived females P(survived|female): {:.2%}'.format(females_survived_frac))"
   ]
  },
  {
   "cell_type": "code",
   "execution_count": 165,
   "metadata": {},
   "outputs": [
    {
     "name": "stdout",
     "output_type": "stream",
     "text": [
      "fraction of females, survived P(survived|female)): 72.75%\n"
     ]
    }
   ],
   "source": [
    "females_survived_frac_bayes = survived_females_frac*survived/females\n",
    "print('fraction of females, survived P(survived|female)): {:.2%}'.format(females_survived_frac_bayes))"
   ]
  },
  {
   "cell_type": "markdown",
   "metadata": {},
   "source": [
    "Il teorema di Bayes ha diverse applicazioni utili che vedremo in seguito. In particolare, sono utili le applicazioni in problemi medici.\n",
    "\n",
    "In sostanza, indica come calcolare $P(A|B)$ dato $P(B|A)$, ossia come \"invertire\" l'espressione della probabilità condizionata.\n",
    "\n",
    "È importante quindi non confondere le due, cosa che invece intuitivamente si è spesso portati a fare:\n",
    "\n",
    "La probabilità che un senatore sia donna è diversa dalla probabilità che una donna sia senatrice!"
   ]
  },
  {
   "cell_type": "markdown",
   "metadata": {},
   "source": [
    "# Spunti per gli esercizi\n",
    "\n",
    "* Calcolare la probabilità di sopravvivenza per fasce di età selezionando un campione omogeneo (es.: uomini, terza classe, donne prima classe, ecc.)"
   ]
  },
  {
   "cell_type": "code",
   "execution_count": 168,
   "metadata": {},
   "outputs": [
    {
     "data": {
      "text/plain": [
       "age_cat\n",
       "5.0      82\n",
       "15.0    143\n",
       "25.0    344\n",
       "35.0    232\n",
       "45.0    135\n",
       "55.0     70\n",
       "65.0     32\n",
       "75.0      7\n",
       "85.0      1\n",
       "Name: count, dtype: int64"
      ]
     },
     "execution_count": 168,
     "metadata": {},
     "output_type": "execute_result"
    }
   ],
   "source": [
    "cat_years = 10\n",
    "df['age_cat'] = (np.floor(df.age/cat_years)*cat_years + cat_years/2)\n",
    "df.age_cat.value_counts().sort_index()"
   ]
  },
  {
   "cell_type": "code",
   "execution_count": null,
   "metadata": {},
   "outputs": [],
   "source": [
    "df_sel = df[(df.sex=='male') & (df.pclass==3)]"
   ]
  },
  {
   "cell_type": "code",
   "execution_count": 191,
   "metadata": {},
   "outputs": [],
   "source": [
    "def plot_survive_prob(df_sel, ax, title):\n",
    "    cross_tab = pd.crosstab(index=df_sel.age_cat, columns=[df_sel.survived], rownames=[\"age_cat\"], colnames=[\"survived\"])\n",
    "    cross_tab = cross_tab.rename(columns={0: 'dead', 1: 'survived'})\n",
    "    cross_tab['all'] = cross_tab['dead'] + cross_tab['survived']\n",
    "    cross_tab['f_survived'] = cross_tab['survived']/cross_tab['all']\n",
    "    cross_tab['f_dead'] = cross_tab['dead']/cross_tab['all']\n",
    "    ax.bar(x=cross_tab.index, width=cat_years, height=cross_tab['f_survived'], label='survived')\n",
    "    ax.bar(x=cross_tab.index, width=cat_years, bottom=cross_tab['f_survived'], height=cross_tab['f_dead'], label='dead')\n",
    "    ax.set_xlabel('age')\n",
    "    ax.set_ylabel('number')\n",
    "    ax.set_title(title)\n",
    "    ax.legend()"
   ]
  },
  {
   "cell_type": "code",
   "execution_count": 204,
   "metadata": {},
   "outputs": [
    {
     "data": {
      "image/png": "[encoded data removed]",
      "text/plain": [
       "<Figure size 1500x600 with 6 Axes>"
      ]
     },
     "metadata": {},
     "output_type": "display_data"
    }
   ],
   "source": [
    "fig, ax = plt.subplots(2, 3, figsize=(15, 6))\n",
    "plt.subplots_adjust(top = 0.90, bottom=0.01, hspace=0.3, wspace=0.3)\n",
    "plot_survive_prob(df[(df.sex=='male') & (df.pclass==1)], ax[0, 0], 'male, 1st class')\n",
    "plot_survive_prob(df[(df.sex=='male') & (df.pclass==2)], ax[0, 1], 'male, 2nd class')\n",
    "plot_survive_prob(df[(df.sex=='male') & (df.pclass==3)], ax[0, 2], 'male, 3rd class')\n",
    "plot_survive_prob(df[(df.sex=='female') & (df.pclass==1)], ax[1, 0], 'female, 1st class')\n",
    "plot_survive_prob(df[(df.sex=='female') & (df.pclass==2)], ax[1, 1], 'female, 2nd class')\n",
    "plot_survive_prob(df[(df.sex=='female') & (df.pclass==3)], ax[1, 2], 'female, 3rd class')\n",
    "plt.suptitle('Titanic')\n",
    "plt.show()"
   ]
  },
  {
   "cell_type": "markdown",
   "metadata": {},
   "source": [
    "* Calcolare la probabilità di sopravvivenza per le diverse zone in cui erano suddivise le cabine. Per approfondire, ulteriori informazioni sulla disposizione delle cabine nel Titanic si trovano [qui](http://www.paullee.com/titanic/Isham.php)."
   ]
  },
  {
   "cell_type": "code",
   "execution_count": 84,
   "metadata": {},
   "outputs": [
    {
     "data": {
      "text/plain": [
       "cabin\n",
       "C    94\n",
       "B    65\n",
       "D    46\n",
       "E    41\n",
       "A    22\n",
       "F    21\n",
       "G     5\n",
       "T     1\n",
       "Name: count, dtype: int64"
      ]
     },
     "execution_count": 84,
     "metadata": {},
     "output_type": "execute_result"
    }
   ],
   "source": [
    "cab_letter = df.cabin.str[0].value_counts()\n",
    "cab_letter"
   ]
  },
  {
   "cell_type": "code",
   "execution_count": 85,
   "metadata": {},
   "outputs": [
    {
     "data": {
      "text/plain": [
       "295"
      ]
     },
     "execution_count": 85,
     "metadata": {},
     "output_type": "execute_result"
    }
   ],
   "source": [
    "cab_letter.sum()"
   ]
  },
  {
   "cell_type": "code",
   "execution_count": null,
   "metadata": {},
   "outputs": [],
   "source": []
  }
 ],
 "metadata": {
  "kernelspec": {
   "display_name": "Python 3 (ipykernel)",
   "language": "python",
   "name": "python3"
  },
  "language_info": {
   "codemirror_mode": {
    "name": "ipython",
    "version": 3
   },
   "file_extension": ".py",
   "mimetype": "text/x-python",
   "name": "python",
   "nbconvert_exporter": "python",
   "pygments_lexer": "ipython3",
   "version": "3.11.6"
  }
 },
 "nbformat": 4,
 "nbformat_minor": 4
}
