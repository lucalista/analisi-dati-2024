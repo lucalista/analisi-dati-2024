{
 "cells": [
  {
   "cell_type": "markdown",
   "metadata": {},
   "source": [
    "# Applicazioni del teorema di Bayes\n",
    "\n",
    "Ricordiamo l'enunciato del teorema di Bayes, introdotto durante la lezione sui dati del Titanic, che a validità generale per ogni approccio finora considerato alla probabilità:\n",
    "\n",
    "$\\displaystyle P(A|B) = \\frac{P(B|A) P(A)}{P(B)}$\n",
    "\n",
    "Il teorema ci permette di determinare $P(A|B)$, la probabilità di un evento $A$ dato l'evento $B$, e può essere interpretato come segue:\n",
    "\n",
    "1. se non sappiamo se l'evento $B$ sia vero o falso, la probabilità di $A$ è data da $P(A)$.\n",
    "1. se sappiamo che $B$ è vero, la probabilità di $A$ si modifica e divente $P(A|B)$\n",
    "1. se conosciamo $P(B|A)$, il teorema di Bayes ci consente di *invertire* $A$ e $B$ e calcolare $P(A|B)$ in termini di $P(B|A)$\n",
    "1. in sostanza, la probabilità di $A$ viene modificata e $P(A)$ va moltiplicata per un fattore pari a $P(B|A)/P(B)$ per tenere conto del fatto che sappiamo che $B$ è vero\n",
    "\n",
    "In pratica, possiamo considerara $B$ come un'osservazione di un fatto, o di un dato sperientale.\n",
    "\n",
    "L'osservazione di $B$ fa sì che la probabilità di $A$ vada modificata: $P(A) \\rightarrow P(A|B)$, e va modificata con un fattore moltiplicativo dato da $P(B|A)/P(B)$."
   ]
  },
  {
   "cell_type": "markdown",
   "metadata": {},
   "source": [
    "Un modo per visualizzare graficamente il teorema di Bayes è dovuto a Bob Cousins, ed è riportata nel seguito.\n",
    "\n",
    "**Definizione grafica dei diversi elementi:**\n",
    "\n",
    "<img style=\"width: 300px\" src=\"img/bayes_cousins.png\">\n",
    "\n",
    "**La dimostrazione del teorema di Bayes deriva dall'eguaglianza di:**\n",
    "\n",
    "<img style=\"width: 500px\" src=\"img/bayes_cousins_2.png\">"
   ]
  },
  {
   "cell_type": "markdown",
   "metadata": {},
   "source": [
    "# Monty hall\n",
    "\n",
    "Si tratta di un classico gioco discusso in diverse <a href=\"https://www.thedifferentgroup.com/2020/04/26/paradosso-di-monty-hall/\">pagine in rete</a>, proposto in un programma televisivo americano che evidenzia aspetti controintuitivi della teoria delle probabilità.\n",
    "\n",
    "Il gioco consiste in questo:\n",
    "* ci sono tre porte \n",
    "* dietro una sola delle tre porte c'è un'automobile, che è il premio per chi indovina la porta giusta\n",
    "* dietro le altre due porte ci sono due capre (che il giocatore non potrà portare a casa)\n",
    "\n",
    "Il giocatore deve scegliere una porta e cercare di portare a casa il premio.\n",
    "\n",
    "<img style=\"width: 500px\" src=\"img/monty-hall.png\">\n",
    "<span style=\"color: gray;\">Immagine di publico dominio</span>\n",
    "\n",
    "Inizialmente il giocatore sceglie una delle tre porte. A questo punto, nelle due rimanenti ci saranno o due capre o una capra ed una automobile.\n",
    "\n",
    "Quindi, il conduttore apre una delle due porte dietro la quale c'è una capra (il conduttore sa cosa c'è dietro le tre porte!).\n",
    "\n",
    "Al giocatore viene quindi data l'opportunità di cambiare la porta che ha scelto con la terza rimanente.\n",
    "\n",
    "**Cosa conviene fare al giocatore? Tenere la prima scelta, o cambiare?**"
   ]
  },
  {
   "cell_type": "markdown",
   "metadata": {},
   "source": [
    "## Simulazione\n",
    "\n",
    "Proviamo una soluzione di forza bruta. Costruiamoci una piccola simulazione dove scegliamo se un giocatore tiene o cambia la porta che ha scelto.\n",
    "\n",
    "<span style=\"color: blue\">Inseriamo un'opzione ```verbose``` per testare la funzione prima di usarla massicciamente.</span>\n",
    "\n",
    "*Lo scopo è di avere un metodo per risolvere un problema generico. Ma in questo caso si potrebbe semplicemente usare la probabilità classica e contare tutti casi....!*"
   ]
  },
  {
   "cell_type": "code",
   "execution_count": 1,
   "metadata": {},
   "outputs": [],
   "source": [
    "import random\n",
    "\n",
    "def monty_hall(change, verbose = False):\n",
    "    doors = ['goat', 'goat', 'goat']\n",
    "    car_idx = random.randint(0, 2)\n",
    "    doors[car_idx]='car'\n",
    "    if verbose: print(doors)\n",
    "    pick_idx = random.randint(0, 2)\n",
    "    if verbose: print(\"pick:\", pick_idx, '(', doors[pick_idx],')')\n",
    "    no_pick_idx = list(set([0, 1, 2]) - set([pick_idx]))\n",
    "    if verbose: print(\"no pick:\", no_pick_idx, '(', doors[no_pick_idx[0]], ',', doors[no_pick_idx[1]], ')')\n",
    "    if doors[no_pick_idx[0]]=='car':\n",
    "        open_idx = no_pick_idx[1]\n",
    "        choose_idx = no_pick_idx[0]\n",
    "        if verbose: print('car:', no_pick_idx[0], \"-> will open \", open_idx)\n",
    "    elif doors[no_pick_idx[1]]=='car':\n",
    "        open_idx = no_pick_idx[0]\n",
    "        choose_idx = no_pick_idx[1]\n",
    "        if verbose: print('car: ', no_pick_idx[1], \"-> will open \", open_idx)\n",
    "    else:\n",
    "        which_idx = random.randint(0, 1)\n",
    "        open_idx = no_pick_idx[which_idx]\n",
    "        choose_idx = no_pick_idx[1-which_idx]\n",
    "        if verbose: print(\"no car, -> will open (randomly)\", open_idx)\n",
    "    if verbose: print(\"open:\", open_idx, \"(\", doors[open_idx], \")\")\n",
    "    if change:\n",
    "        if verbose: print(\"change: \", pick_idx, \"->\", choose_idx, \"(\", doors[choose_idx], \")\")\n",
    "        pick_idx = choose_idx\n",
    "    else:\n",
    "        if verbose: print(\"keep: \", pick_idx, \"(\", doors[pick_idx], \")\")\n",
    "    return doors[pick_idx] == 'car'"
   ]
  },
  {
   "cell_type": "code",
   "execution_count": 11,
   "metadata": {},
   "outputs": [
    {
     "name": "stdout",
     "output_type": "stream",
     "text": [
      "['car', 'goat', 'goat']\n",
      "pick: 1 ( goat )\n",
      "no pick: [0, 2] ( car , goat )\n",
      "car: 0 -> will open  2\n",
      "open: 2 ( goat )\n",
      "change:  1 -> 0 ( car )\n"
     ]
    },
    {
     "data": {
      "text/plain": [
       "True"
      ]
     },
     "execution_count": 11,
     "metadata": {},
     "output_type": "execute_result"
    }
   ],
   "source": [
    "# Testiamo che tutto funzioni in modalità verbosa\n",
    "monty_hall(change=True, verbose=True)"
   ]
  },
  {
   "cell_type": "markdown",
   "metadata": {},
   "source": [
    "Giriamo la simulazione un numero grande di volte, vediamo quanto spesso si vince con le due strategie:"
   ]
  },
  {
   "cell_type": "code",
   "execution_count": 12,
   "metadata": {},
   "outputs": [
    {
     "name": "stdout",
     "output_type": "stream",
     "text": [
      "no change: {True: 33286, False: 66714} 33.29%\n",
      "change: {True: 66598, False: 33402} 66.60%\n"
     ]
    }
   ],
   "source": [
    "resutls_no_change = { True: 0, False: 0 }\n",
    "n_mc = 100000\n",
    "for i in range(n_mc):\n",
    "    resutls_no_change[monty_hall(False)] += 1\n",
    "print(\"no change:\", resutls_no_change, \"{:.2%}\".format(resutls_no_change[True]/n_mc))\n",
    "\n",
    "resutls_change = { True: 0, False: 0 }\n",
    "for i in range(n_mc):\n",
    "    resutls_change[monty_hall(True)]+=1\n",
    "print(\"change:\", resutls_change, \"{:.2%}\".format(resutls_change[True]/n_mc))"
   ]
  },
  {
   "cell_type": "markdown",
   "metadata": {},
   "source": [
    "# Dimostrazione\n",
    "\n",
    "Con una simulazione abbiamo dimostrato, senza capire però bene perché, che **convine cambiare**.\n",
    "\n",
    "<span style=\"color: blue\">Perché?</span>\n",
    "\n",
    "La motivazione si può capire in due modi:\n",
    "1. ancora di forza bruta, enumerando tutte le possibilità. Tedioso, ma possibile. È un'applicazione della probabilità classica.\n",
    "1. usando il teorema di Bayes."
   ]
  },
  {
   "cell_type": "markdown",
   "metadata": {},
   "source": [
    "## Se il conduttore non apre alcuna porta\n",
    "\n",
    "Se il conduttore non apre alcuna porta, la probabilità di vincere è semplicemente $1/3$: senza avere informazioni su cosa c'è dietro le porte, ogni porta ha uguale probabilità, pari ad $1/3$.\n",
    "\n",
    "**Immaginiamo di aver scelto la porta $1$** (se scegliessimo $2$ o $3$ il ragionamento sarebbe lo stesso):\n",
    "\n",
    "$P(\\mathrm{car} = 1) = P(\\mathrm{car} = 2) = P(\\mathrm{car} = 3) = 1/3$"
   ]
  },
  {
   "cell_type": "markdown",
   "metadata": {},
   "source": [
    "## Se il conduttore apre una porta con una capra\n",
    "\n",
    "Se il conduttore invece apre una porta, e questo evento lo chiamiamo $E$, invece, ricordiamo che:\n",
    "\n",
    "$\\displaystyle P(A|E) = \\frac{P(E|A) P(A)}{P(E)}$\n",
    "\n",
    "L'evento $A$ che ci interessa può essere che il premio sia nella porta che abbiamo scelto (la n. $1$) oppure in un'altra.\n",
    "\n",
    "**Immaginiamo che il conduttore scelga la porta $3$** (il ragionamento sarebbe stato lo stesso se avesse scelto la $2$)\n",
    "\n",
    "L'evento $E=\\mathrm{aperta}\\,3$ rappresenta un'**informazione nuova di cui abbiamo conoscenza**.\n",
    "\n",
    "Ad esempio, siamo sicuri che dietro porta scelta dal conduttore (es.: la n. $3$) non c'è l'auto."
   ]
  },
  {
   "cell_type": "markdown",
   "metadata": {},
   "source": [
    "Dobbiamo quindi calcolare:\n",
    "\n",
    "$P(\\mathrm{car} = 1| \\mathrm{aperta}\\, 3)$\n",
    "\n",
    "<span style=\"color: red\">Si potrebbe pensare intuitivamente che, visto che l'auto non è in $3$, la probabilità che l'auto sia in $1$ o in $2$ sia la stessa, quindi che $P(\\mathrm{car} = 1)=1/2$ perché restano due possibilità. Ma non è così.</span>"
   ]
  },
  {
   "cell_type": "markdown",
   "metadata": {},
   "source": [
    "Infatti, usando il teorema di Bayes:\n",
    "\n",
    "$\\displaystyle P(\\mathrm{car} = 1|  \\mathrm{aperta}\\, 3) = \\frac{P(\\mathrm{aperta}\\, 3|\\mathrm{car} = 1) P(\\mathrm{car} = 1)}{P(\\mathrm{aperta}\\, 3)}$"
   ]
  },
  {
   "cell_type": "markdown",
   "metadata": {},
   "source": [
    "Calcoliamo i diversi contributi:\n",
    "* $P(\\mathrm{aperta}\\, 3|\\mathrm{car} = 1)$ è la probabilità che il conduttore apra la porta $3$ se l'auto è nella $1$. Quindi questa probabilità vale $1/2$, perché può scegliere a caso $2$ o $3$, che entrambe avranno una capra.\n",
    "* $P(\\mathrm{car} = 1)$, questa è la probabilità che abbiamo già riportato sopra, e vale $1/3$\n",
    "* $P(\\mathrm{aperta}\\, 3)$ non è altrettanto ovvia da valutare. Vedremo che questa difficoltà di valutare il denominatore è una costante nell'applicazione del teorema di Bayes. Considerando che $1$ è stata già scelta dal giocatore, il conduttore può aprire o $2$ o $3$, e in alcuni casi non ha scelta perché non deve mostrare l'auto:\n",
    "    * se l'auto è in $1$ (prob. $1/3$): $2$ o $3$ sono aperte con probabilità $1/2$\n",
    "    * se l'auto è in $2$ (prob. $1/3$): la probabilità di aprire $3$ è $1$ (deve aprire per forza quella)\n",
    "    * se l'auto è in $3$ (prob. $1/3$): la probabilità di aprire $3$ è $0$ (mostrerebbe l'auto)"
   ]
  },
  {
   "cell_type": "markdown",
   "metadata": {},
   "source": [
    "In totale:\n",
    "\n",
    "$\\displaystyle  P(\\mathrm{aperta}\\, 3) = \\frac{1}{3}\\cdot \\frac{1}{2} + \\frac{1}{3}\\cdot 1 + \\frac{1}{3}\\cdot 0\n",
    "=\\frac{1}{6}+\\frac{1}{3}+0\n",
    "= \\frac{3}{6}\n",
    "= \\frac{1}{2}$\n",
    "\n",
    "Alla fine potevamo anche arrivarci in altro modo: una volta che il giocatore ha scelto $1$, restano due possibilità al conduttore, quindi aprire $2$ o $3$, per simmetria, corrisponderà per entrambe alla probabilità $1/2$."
   ]
  },
  {
   "cell_type": "markdown",
   "metadata": {},
   "source": [
    "Quindi:\n",
    "\n",
    "$\\displaystyle P(\\mathrm{car} = 1| \\mathrm{aperta}\\, 3) = \n",
    "\\frac{\\frac{1}{2} \\cdot \\frac{1}{3}}{\\frac{1}{2}} \n",
    "= \\frac{1}{3}$\n",
    "\n",
    "Non c'è da sorprendersi perché la probabilità di avere scelto il premio non cambia se viene aperta una porta che non c'entra niente con la nostra scelta."
   ]
  },
  {
   "cell_type": "markdown",
   "metadata": {},
   "source": [
    "Ma quindi, avendo solo due possibilità rimaste ($1$ o $2$, perché la $3$ è stata aperta dal conduttore), la probabilità che il premio sia nella porta $2$ (che potrei scegliere al posto della $1$) vale:\n",
    "\n",
    "$\\displaystyle P(\\mathrm{car} = 2| \\mathrm{aperta}\\, 3) = 1 -P(\\mathrm{car} = 1| \\mathrm{aperta}\\, 3) = 1-\\frac{1}{3} = \\frac{2}{3}$"
   ]
  },
  {
   "cell_type": "markdown",
   "metadata": {},
   "source": [
    "Possiamo anche calcolare $P(\\mathrm{car} =2 1| \\mathrm{aperta}\\, 3)$ usando ancora il teorema di Bayes:\n",
    "\n",
    "$\\displaystyle P(\\mathrm{car} =2| \\mathrm{aperta}\\, 3) = \\frac{P(\\mathrm{aperta}\\, 3|\\mathrm{car} = 2) P(\\mathrm{car} =2)}{P(\\mathrm{aperta}\\, 3)}$"
   ]
  },
  {
   "cell_type": "markdown",
   "metadata": {},
   "source": [
    "Abbiamo:\n",
    "* $P(\\mathrm{aperta}\\, 3|\\mathrm{car} = 2)$ questa volta vale $1$ (se l'auto è un $2$ non resta altra scelta che aprire la $3$)\n",
    "* $P(\\mathrm{car} = 2)=1/3$\n",
    "* $P(\\mathrm{aperta}\\, 3)=1/2$, lo abbiamo calcolato sopra."
   ]
  },
  {
   "cell_type": "markdown",
   "metadata": {},
   "source": [
    "E quindi:\n",
    "\n",
    "$\\displaystyle P(\\mathrm{car} = 2| \\mathrm{aperta}\\, 3)  = \n",
    "\\frac{1 \\cdot \\frac{1}{3}}{\\frac{1}{2}} \n",
    "= \\frac{2}{3}$"
   ]
  },
  {
   "cell_type": "markdown",
   "metadata": {},
   "source": [
    "Consistentemente:\n",
    "\n",
    "$\\displaystyle P(\\mathrm{car} = 3| \\mathrm{aperta}\\, 3) = \\frac{P(\\mathrm{aperta}\\, 3|\\mathrm{car} = 3) P(\\mathrm{car} =2)}{P(\\mathrm{aperta}\\, 3)} = 0$\n",
    "\n",
    "perché $P(\\mathrm{aperta}\\, 3|\\mathrm{car} = 3)=0$ (è impossibile aprire una porta dove c'è l'auto)."
   ]
  },
  {
   "cell_type": "markdown",
   "metadata": {},
   "source": [
    "### Commento: teorema di Bayes e informazione\n",
    "\n",
    "<span style=\"color:blue\">L'auto non si è mai spostata durante il gioco.</span> Però l'**informazione** che l'auto non è nella porta $3$ ha cambiato la probabilità che l'auto fosse nella porta $2$ portandola da $1/3$ a $2/3$, rendendo più conveniente cambiare la scelta.\n",
    "\n",
    "Questo dimostra che, più che la configurazione statica di un sistema che produce risultati casuali, **quello che più importa è cosa conosciamo e cosa non conosciamo**.\n",
    "\n",
    "In sostanza, il teorema di Bayes ci dà un modo per **cambiare la nostra consocenza sulle cose**:\n",
    "\n",
    "* prima dell'evento $E$ che corrisponde all'apertura della porta $3$, la probabilità di un evento era $P(A)$\n",
    "* dopo l'evento $E$ dobbiamo aggiornare la probabilità di $A$ che diventa $P(A|E)$\n",
    "\n",
    "Il teorema di Bayes ci dice come aggiornare la nostra conoscenza da $P(A)$ a $P(A|E)$ tramite la formula:\n",
    "\n",
    "$\\displaystyle P(A|E) = \\frac{P(E|A) P(A)}{P(E)}$\n",
    "\n",
    "$P(A)$ viene aggiornata con un fattore moltiplicativo:\n",
    "\n",
    "$\\displaystyle P(A|E) = P(A) \\frac{P(E|A)}{P(E)}$\n",
    "\n",
    "I termini che compaiono assumono così un nuovo significato:\n",
    "\n",
    "* $P(A)$ è la **probabilità a priori** (*prior probability* in inglese)\n",
    "* $E$ rappresenta l'**evidenza**. Per i fisici, l'osservazione sperimentale\n",
    "* $P(A|E)$ rappresenta la **probabilità a posteriori** (*posterior probability* in inglese)\n",
    "* $P(E|A)$ viene definita **verosimiglianza** dell'evento $E$ dato l'evento $A$. Nel seguito vedremo che ha un ruolo importante."
   ]
  },
  {
   "cell_type": "markdown",
   "metadata": {},
   "source": [
    "# Un'applicazione epidemiologica\n",
    "\n",
    "Immaginiamo che una persona faccia un test per diagnosticare una malattia seria, ma rara.\n",
    "\n",
    "Immaginiamo che la probabilità di avere una diagnosi positiva corretta su una persona malata sia vicina al 100%, ma che ci sia anche una piccola probabilità di avere una diagnosi positiva su una persona sana (**falso positivo**).\n",
    "\n",
    "Useremo i seguenti simboli per brevità:\n",
    "* $\\dagger$: persona malata, $\\heartsuit$: persona sana\n",
    "* $+$: test positivo, $-$: test negativo\n",
    "\n",
    "Immaginiamo ad esempio di avere i seguenti valori numerici:\n",
    "\n",
    "* $P(+|\\dagger) \\simeq 100\\%$\n",
    "* $P(-|\\dagger) \\simeq 0\\%$\n",
    "* $P(+|\\heartsuit) = 0.2\\%$\n",
    "* $P(-|\\heartsuit) = 99.8\\%$\n",
    "\n",
    "**<span style=\"color: red\">Se una persona ha ricevuto una diagnosi positiva ($+$), qual è la probabilità che sia realmente malata ($\\dagger$)?</span>**\n",
    "\n",
    "Molte persone risponderanno, intuitivamente, ma **sbagliando**, che:\n",
    "\n",
    "$P(\\dagger|+) = 1-P(+|\\heartsuit) = 99.8\\%$\n",
    "\n",
    "In realtà, applicando il teorema di Bayes, otteniamo che:\n",
    "\n",
    "$\\displaystyle P(\\dagger|+) = \\frac{P(+|\\dagger) P(\\dagger)}{P(+)}\\simeq \\frac{P(\\dagger)}{P(+)}$\n",
    "\n",
    "Ci servono altri ingredienti, in particolare $P(\\dagger)$, ossia la probabilità che una persona scelta a caso tra la popolazione sia malata. Questo ingrediente non era tra i dati che abbiamo finora considerato, ma è molto importante!"
   ]
  },
  {
   "cell_type": "markdown",
   "metadata": {},
   "source": [
    "### Visualizzazione del problema\n",
    "\n",
    "Nei grafici che segue, come nell'esempio del Titanic, ad aree uguali corrispondono numeri di casi uguali."
   ]
  },
  {
   "cell_type": "code",
   "execution_count": 14,
   "metadata": {},
   "outputs": [
    {
     "name": "stdout",
     "output_type": "stream",
     "text": [
      "n. ill / healthy:  15 / 985\n"
     ]
    },
    {
     "data": {
      "image/png": "[encoded data removed]",
      "text/plain": [
       "<Figure size 1000x400 with 1 Axes>"
      ]
     },
     "metadata": {},
     "output_type": "display_data"
    }
   ],
   "source": [
    "import matplotlib.pyplot as plt\n",
    "# consideriamo una frazione di malati sul totale < del 2%\n",
    "c_ill, c_healthy = 15, 985 \n",
    "c_all = c_ill + c_healthy\n",
    "plt.figure(figsize=(10, 4))\n",
    "width=(c_ill, c_healthy)\n",
    "pos=(0, (c_ill+c_healthy)/2)\n",
    "print(\"n. ill / healthy: \",c_ill, \"/\", c_healthy)\n",
    "plt.bar(x=pos, height=[1,0], width=width, label='ill', color='red')\n",
    "plt.bar(x=pos, bottom=[1,0], height=[0,1], width=width, label='healthy', color='blue')\n",
    "plt.xticks(pos, ['ill','heatly'])\n",
    "plt.legend(loc='upper right')\n",
    "plt.xlabel('status')\n",
    "plt.ylabel('fraction')\n",
    "plt.show()"
   ]
  },
  {
   "cell_type": "markdown",
   "metadata": {},
   "source": [
    "Solo per motivi grafici, usuamo $P(+|\\heartsuit) = 2\\%$ anziché $P(+|\\heartsuit) = 0.2\\%$, altrimenti nel grafico sarebbe invisibile.\n"
   ]
  },
  {
   "cell_type": "code",
   "execution_count": 17,
   "metadata": {},
   "outputs": [
    {
     "data": {
      "image/png": "[encoded data removed]",
      "text/plain": [
       "<Figure size 1000x400 with 1 Axes>"
      ]
     },
     "metadata": {},
     "output_type": "display_data"
    }
   ],
   "source": [
    "import matplotlib.pyplot as plt\n",
    "plt.figure(figsize=(10, 4))\n",
    "p_1_ill, p_1_healthy = (0.98, 0.02) # usiamo la notazione: 1 <-> + per i nomi delle variabili\n",
    "p_0_ill, p_0_healthy = (0.02, 0.98) # usiamo la notazione: 0 <-> - per i nomi delle variabili\n",
    "plt.bar(x=pos, height=(p_0_ill, p_0_healthy), width=width, label='$-$', color='green')\n",
    "plt.bar(x=pos, bottom=(p_0_ill, p_0_healthy), height=(p_1_ill, p_1_healthy), width=width, label='$+$', color='orange')\n",
    "plt.xticks(pos, ['ill','heatly'])\n",
    "plt.legend(loc='upper right')\n",
    "plt.xlabel('status')\n",
    "plt.ylabel('fraction')\n",
    "plt.show()"
   ]
  },
  {
   "cell_type": "markdown",
   "metadata": {},
   "source": [
    "Calcoliamo quanto vale $P(+)$, che ci serve al denominatore nella formula di Bayes."
   ]
  },
  {
   "cell_type": "code",
   "execution_count": 21,
   "metadata": {},
   "outputs": [
    {
     "name": "stdout",
     "output_type": "stream",
     "text": [
      "P(+) = 3.44%\n"
     ]
    }
   ],
   "source": [
    "c_1 = p_1_ill*c_ill + p_1_healthy*c_healthy\n",
    "c_0 = p_0_ill*c_ill + p_0_healthy*c_healthy\n",
    "p_1 = c_1/(c_0 + c_1) # c_0 + c_1 = 1000\n",
    "print('P(+) = {:.2%}'.format(p_1))"
   ]
  },
  {
   "cell_type": "markdown",
   "metadata": {},
   "source": [
    "Vale la seguente scomposizione, che poi potremo generalizzare in seguito:\n",
    "\n",
    "$P(+) = P(+|\\dagger) P(\\dagger) + P(+|\\heartsuit) P(\\heartsuit) \\simeq P(\\dagger) + P(+|\\heartsuit)P(\\heartsuit) \\simeq P(\\dagger) + P(+|\\heartsuit)$\n",
    "\n",
    "perché $P(+|\\dagger) \\simeq 1$ e $P(\\heartsuit) \\simeq 1$.\n",
    "\n",
    "Per completare la formula di Bayes:"
   ]
  },
  {
   "cell_type": "code",
   "execution_count": 22,
   "metadata": {},
   "outputs": [
    {
     "name": "stdout",
     "output_type": "stream",
     "text": [
      "P(+|ill) = 98.00%\n",
      "P(ill) = 1.50%\n",
      "P(ill|+) = 42.73%\n"
     ]
    }
   ],
   "source": [
    "p_ill = c_ill/c_all\n",
    "p_ill_1 = p_1_ill*p_ill/p_1\n",
    "print('P(+|ill) = {:.2%}'.format(p_1_ill))\n",
    "print('P(ill) = {:.2%}'.format(p_ill))\n",
    "print('P(ill|+) = {:.2%}'.format(p_ill_1))"
   ]
  },
  {
   "cell_type": "markdown",
   "metadata": {},
   "source": [
    "Considerando che $P(+|\\dagger)\\simeq 1$, risulta che:\n",
    "\n",
    "$\\displaystyle P(\\dagger|+) \\simeq \\frac{P(\\dagger)}{P(+)} \\simeq \\frac{P(\\dagger)}{P(\\dagger) + P(+|\\heartsuit)} =\n",
    "\\frac{1}{1+P(+|\\heartsuit)/P(\\dagger)}\n",
    "$\n",
    "\n",
    "Se abbiamo quindi che, se la frazione di malati $P(\\dagger)$ è minore della frazione di falsi positivi $P(+|\\dagger)$, la probabilità di essere realmente malati con un test positivo $P(\\dagger|+)$ è minore del 50\\%!"
   ]
  },
  {
   "cell_type": "markdown",
   "metadata": {},
   "source": [
    "Per questo alcune diagnosi mediche che hanno una probabilità di falso positivo non trascurabile e darebbero luogo a cure con importanti controindicazioni non sono sempre consigliabili. La mammografia con conseguente chemioterapia in caso di diagnosi positiva di cancro è sconsigliata sotto i 50 anni."
   ]
  },
  {
   "cell_type": "markdown",
   "metadata": {},
   "source": [
    "# Riassumendo\n",
    "\n",
    "Il teorema di Bayes ci dice come *aggiornare* il valore della probabilità che assegnamo ad un evento $A$, che ha il ruolo di *ipotesi*, dopo che abbiamo avuto l'evidenza $E$:\n",
    "\n",
    "$\\displaystyle P(A|E) = \\frac{P(E|A) P(A)}{P(E)}$\n",
    "\n",
    "* $P(A)$ è la **probabilità a priori** (*prior probability* in inglese)\n",
    "* $P(E)$ è detta **probabilità marginale** o **evidenza**.\n",
    "* $P(A|E)$ rappresenta la **probabilità a posteriori** (*posterior probability* in inglese)\n",
    "* $P(E|A)$ viene definita **verosimiglianza** dell'evento $E$ dato l'evento $A$."
   ]
  },
  {
   "cell_type": "markdown",
   "metadata": {},
   "source": [
    "# Legge della probabilità totale\n",
    "\n",
    "Immaginiamo di avere una partizione dello spazio degli eventi $\\Omega$, ossia un certo numero di eventi (ossia insiemi) $A_i,\\cdots,A_n$ tali che $A_i\\cap A_j = \\emptyset$ per ogni $i\\ne j$ e che $\\displaystyle \\bigcup_{i=1}^n A_i = \\Omega$.\n",
    "\n",
    "Un evento $E$ si può a sua volta partizionare in tanti insiemi $E_i=E\\cap A_i$. Infatti, risulterà $E_i\\cap E_j = E\\cap A_i \\cap A_j = E\\cap\\emptyset=\\emptyset$. Inoltre:\n",
    "\n",
    "$\\displaystyle \\bigcup_{i=1}^n E_i = \\bigcup_{i=1}^n E\\cap A_i = E\\cap\\left(\\bigcup_{i=1}^n A_i\\right) = E\\cap\\Omega = E$."
   ]
  },
  {
   "cell_type": "markdown",
   "metadata": {},
   "source": [
    "La costruzione degli insiemi $E_i$ è visivamente riportata nelle figure che seguono.\n",
    "\n",
    "<img style=\"width: 300px\" src=\"img/total-prob-2.png\"> \n",
    "\n",
    "<img style=\"width: 300px\" src=\"img/total-prob.png\">"
   ]
  },
  {
   "cell_type": "markdown",
   "metadata": {},
   "source": [
    "Passando dagli insiemi alle probabilità, otteniamo:\n",
    "\n",
    "$P(E_i) = P(E\\cap A_i)$\n",
    "\n",
    "Dalla definizione di probabilità condizionata, $P(A|B) = P(A\\cap B)/P(B)$, abbiamo:\n",
    "\n",
    "$P(E_i) = P(E\\cap A_i) = P(E|A_i)P(A_i)$"
   ]
  },
  {
   "cell_type": "markdown",
   "metadata": {},
   "source": [
    "Siccome:\n",
    "\n",
    "$\\displaystyle P(E) = \\sum_{i=1}^n P(E_i)$\n",
    "\n",
    "Abbiamo la seguente legge di scomposizione della probabilità totale:\n",
    "\n",
    "$\\displaystyle P(E) = \\sum_{i=1}^n P(E|A_i)P(A_i)$"
   ]
  },
  {
   "cell_type": "markdown",
   "metadata": {},
   "source": [
    "### Il denominatore nella formula di Bayes\n",
    "\n",
    "Torniamo alla formulazione del teorema di Bayes:\n",
    "\n",
    "$\\displaystyle P(A|E) = \\frac{P(E|A) P(A)}{P(E)}$"
   ]
  },
  {
   "cell_type": "markdown",
   "metadata": {},
   "source": [
    "Il denominatore possiamo scomporlo, secondo la legge della probabilità totale, in:\n",
    "\n",
    "$\\displaystyle P(E) = \\sum_{i=1}^n P(E|A_i) P(A_i)$"
   ]
  },
  {
   "cell_type": "markdown",
   "metadata": {},
   "source": [
    "Questa scomposizione l'abbiamo già vista nell'esempio epidemiologico di cui sopra.\n",
    "\n",
    "Quindi, per ciascuno degli $A_i$, possiamo scrivere:\n",
    "\n",
    "$\\displaystyle P(A_i|E) = \\frac{P(E|A_i) P(A_i)}{\\sum_{j=1}^n P(E|A_j) P(A_j)}$"
   ]
  },
  {
   "cell_type": "markdown",
   "metadata": {},
   "source": [
    "È così evidente che il denominatore nella formula di Bayes appare come fattore di normalizzazione. Possiamo quindi riscrivere:\n",
    "\n",
    "$\\displaystyle P(A_i|E) = P(A_i)\\,\\alpha_i$\n",
    "\n",
    "dove i termini $\\alpha_i$ si ottengono dai termini $P(E|A_i)$ normalizzandoli in modo che la loro somma sia uguale ad uno:\n",
    "\n",
    "$\\displaystyle \\alpha_i = \\frac{P(E|A_i) }{\\sum_{i=j}^n P(E|A_j) P(A_j)}$"
   ]
  },
  {
   "cell_type": "markdown",
   "metadata": {},
   "source": [
    "# Odds *vs* probabilità e fattori di Bayes\n",
    "\n",
    "Il teorema di Bayes si può scrivere in un modo più diretto utilizzando, invece delle probabilità, gli *odds*.\n",
    "\n",
    "In pratica, invece di quantificare, come probabilità, il rapporto tra il numero di casi favorevoli e quelli sfavorevoli:\n",
    "\n",
    "$\\displaystyle p = \\frac{n}{N}$\n",
    "\n",
    "si esprime il rapport tra il numero di casi favorevoli e quelli sfavorevoli. In genere, specialmente nel gergo delle scommesse, si preferisce usare \":\" anzichè la frazione:\n",
    "\n",
    "$\\displaystyle o = n : N-n$\n",
    "\n",
    "Matematicamente, si può scrivere:\n",
    "\n",
    "$\\displaystyle o = \\frac{n}{N-n} = \\frac{p}{1-p}$"
   ]
  },
  {
   "cell_type": "markdown",
   "metadata": {},
   "source": [
    "Se sono possibili solo due casi, $A$ e il suo complemento $\\overline{A}$, che hanno probabilita, rispettivamente, $P(A)$ e $P(\\overline{A})=1-P(A)$, possiamo scrivere:\n",
    "\n",
    "$\\displaystyle P(A|E) = \\frac{P(E|A) P(A)}{P(E)}$\n",
    "\n",
    "$\\displaystyle P(\\overline{A}|E) = \\frac{P(E|\\overline{A}) P(\\overline{A})}{P(E)}$\n",
    "\n",
    "Facendo il rapporto di $P(A|E)$ e $P(\\overline{A}|E)$, il denominatore $P(E)$ sparisce, semplificando la formula:\n",
    "\n",
    "$\\displaystyle \\frac{P(A|E)}{P(\\overline{A}|E)} = \\frac{P(E|A) P(A)}{P(E|\\overline{A}) P(\\overline{A})}$"
   ]
  },
  {
   "cell_type": "markdown",
   "metadata": {},
   "source": [
    "In termini degli *odds* possiamo semplicemente scrivere:\n",
    "\n",
    "$\\displaystyle O(A|E) = O(A)\\frac{P(E|A)}{P(E|\\overline{A})}$\n",
    "\n",
    "Questo rende semplice ed immediato applicare l'aggiornamento probabilità a priori a seguito dell'evidenza $E$, semplicemente moltiplicando gli odds a priori per il fattore di Bayes per ottenere gli odds a posteriori."
   ]
  },
  {
   "cell_type": "markdown",
   "metadata": {},
   "source": [
    "Il termine della frazione a destra viene chiamato **fattore di Bayes**.\n",
    "\n",
    "Anche se non abbiamo solo due casi, $A$ e $\\overline{A}$, ma due casi, $A_i$ e $A_j$ tra tanti possibili casi $A_1,\\cdots, A_n$, possiamo usare la relazione sopra per il rapporto tra qualsiasi coppia di probabilità. Anche in questo caso, non è necessario calcolare $P(E)$:\n",
    "\n",
    "$\\displaystyle \\frac{P(A_i|E)}{P({A_j}|E)} = \\frac{P(A_i)}{P(A_j)}\\frac{P(E|A_i)}{P(E|A_j)}$"
   ]
  },
  {
   "cell_type": "markdown",
   "metadata": {},
   "source": [
    "## Approfondimenti\n",
    "\n",
    "* Video: [Bayes theorem](https://youtu.be/HZGCoVF3YvM) (15'45\")\n",
    "* Vide: [The quick proof of Bayes theorem](https://youtu.be/U_85TaXbeIo) (3'47\")\n",
    "* Video: [The Bayesian trap](https://youtu.be/R13BD8qKeTg) (10'36\")\n",
    "* Video: [Why Bayes rule is nicer with odds](https://youtu.be/lG4VkPoG3ko) (21'13\") con un'introduzione dei **fattori di Bayes**\n",
    "* [How to create a spam filter using Bayes’ theorem?](https://medium.com/swlh/how-to-create-a-spam-filter-using-bayes-theorem-f3811f213046)\n",
    "* [Bayes Theorem in Machine Learning: Introduction, How to Apply & Example](https://www.upgrad.com/blog/bayes-theorem-in-machine-learning/)"
   ]
  },
  {
   "cell_type": "markdown",
   "metadata": {},
   "source": [
    "# Spunti per esercizi\n",
    "\n",
    "* In Italia si è stimato che il 22% della popolazione fuma. Ogni anno 377.000 nuovi tumori sono diagnosticati su 59.6 milioni di abitanti, tra cui 40.882 tumori al polmone, l'85% dei quali si stima è causata dal fumo. Calcolare la probabilità che in un anno un fumatore abbia un tumore al polmone."
   ]
  },
  {
   "cell_type": "code",
   "execution_count": 27,
   "metadata": {},
   "outputs": [
    {
     "name": "stdout",
     "output_type": "stream",
     "text": [
      "prob. tumore: 0.0686%\n",
      "prob. tumore - fumatore: 0.2650%\n",
      "prob. tumore - fumatore/prob. tumore: 3.86\n"
     ]
    }
   ],
   "source": [
    "p_fumatore = 0.22\n",
    "p_tumore = 40882 / 59.6e6\n",
    "p_fumatore_tumore = 0.85\n",
    "p_tumore_fumatore = p_fumatore_tumore * p_tumore / p_fumatore\n",
    "print(\"prob. tumore: {:.4%}\".format(p_tumore))\n",
    "print(\"prob. tumore - fumatore: {:.4%}\".format(p_tumore_fumatore))\n",
    "print(\"prob. tumore - fumatore/prob. tumore: {:.2f}\".format(p_tumore_fumatore/p_tumore))\n"
   ]
  },
  {
   "cell_type": "markdown",
   "metadata": {},
   "source": [
    "* In un paese del nord Europa, il 65% delle ragazze ha i capelli biondi, il 25% hai i capelli rossi, il 10% neri. Inoltre, ha gli occhi scuri l'8% delle ragazze bionde, il 22% delle rosse, il 60% delle more. Una ragazza ha i capelli coperti da un foulard, e si vede che ha gli occhi scuri. Qual è la probabilità che sia bionda?\n",
    "\n",
    "* $P(bionda) = 65\\%$\n",
    "* $P(rossa) = 25\\%$\n",
    "* $P(mora) = 10\\%$\n",
    "* $P(scuri|bionda) = 8\\%$\n",
    "* $P(scuri|rossa) = 22\\%$\n",
    "* $P(scuri|mora) = 60\\%$\n",
    "\n",
    "$\\displaystyle P(bionda|scuri) = \\frac{P(scuri|bionda) P(bionda)}{P(scuri)}$\n",
    "\n",
    "$P(scuri) = P(scuri|bionda)P(bionda) + P(scuri|rossa)P(rossa) + P(scuri|mora)P(mora)$"
   ]
  },
  {
   "cell_type": "code",
   "execution_count": 28,
   "metadata": {},
   "outputs": [
    {
     "name": "stdout",
     "output_type": "stream",
     "text": [
      "prob. occhi scuri: 16.70%\n",
      "prob. bionda: 31.14%\n",
      "prob. rossa: 32.93%\n",
      "prob. mora: 35.93%\n"
     ]
    }
   ],
   "source": [
    "p_bionda = 0.65\n",
    "p_rossa = 0.25\n",
    "p_mora = 0.10\n",
    "p_scuri_bionda = 0.08\n",
    "p_scuri_rossa = 0.22\n",
    "p_scuri_mora = 0.60\n",
    "p_scuri = p_scuri_bionda*p_bionda + p_scuri_rossa*p_rossa + p_scuri_mora*p_mora  \n",
    "p_bionda_scuri = p_scuri_bionda * p_bionda / p_scuri\n",
    "p_rossa_scuri = p_scuri_rossa * p_rossa / p_scuri\n",
    "p_mora_scuri = p_scuri_mora * p_mora / p_scuri\n",
    "print(\"prob. occhi scuri: {:.2%}\".format(p_scuri))\n",
    "print(\"prob. bionda: {:.2%}\".format(p_bionda_scuri))\n",
    "print(\"prob. rossa: {:.2%}\".format(p_rossa_scuri))\n",
    "print(\"prob. mora: {:.2%}\".format(p_mora_scuri))"
   ]
  },
  {
   "cell_type": "markdown",
   "metadata": {},
   "source": [
    "* Un fascio di protoni colpisce un bersaglio e produce un campione di particelle che contiene l'8% di muoni, il 10% di kaoni e il rimanente 82% di pioni. Un rivelatore che identifica le particelle riesce ad identificare correttamente come muoni il 95% dei muoni ed una frazione del 7% dei kaoni e del 4% dei pioni. Calcolare la frazione attesa di muoni nel campione di particelle identificate come tali dal rivelatore."
   ]
  },
  {
   "cell_type": "code",
   "execution_count": 29,
   "metadata": {},
   "outputs": [
    {
     "name": "stdout",
     "output_type": "stream",
     "text": [
      "p. id: 11.58%\n",
      "fraz. muoni: 65.63%\n",
      "fraz. kaoni: 6.04%\n",
      "fraz. pioni: 28.32%\n"
     ]
    }
   ],
   "source": [
    "p_muone = 0.08\n",
    "p_kaone = 0.1\n",
    "p_pione = 0.82\n",
    "p_rmuone_muone = 0.95\n",
    "p_rmuone_kaone = 0.07\n",
    "p_rmuone_pione = 0.04\n",
    "p_rmuone = p_kaone*p_rmuone_kaone + p_pione*p_rmuone_pione + p_muone*p_rmuone_muone\n",
    "p_muone_rmuone = (p_rmuone_muone * p_muone)/p_rmuone\n",
    "p_kaone_rmuone = (p_rmuone_kaone * p_kaone)/p_rmuone\n",
    "p_pione_rmuone = (p_rmuone_pione * p_pione)/p_rmuone\n",
    "print(\"p. id: {:.2%}\".format(p_rmuone))\n",
    "print(\"fraz. muoni: {:.2%}\".format(p_muone_rmuone))\n",
    "print(\"fraz. kaoni: {:.2%}\".format(p_kaone_rmuone))\n",
    "print(\"fraz. pioni: {:.2%}\".format(p_pione_rmuone))"
   ]
  },
  {
   "cell_type": "markdown",
   "metadata": {},
   "source": [
    "In fisica la terminologia usata non è quella usualmente usata in statistica. Parleremo quindi di:\n",
    "* **efficienza** di identificazione dei muoni\n",
    "* ***mis*-identificazione** di pioni e kaoni (abusando dall'inglese: *misidentification*; in italiano \"misidentificazione\" ha anche un significato in psicologia) è la probabilità di un *falso positivo*\n",
    "* **purezza** del campione $=$ frazione del campione correttamente identificata\n",
    "* **contaminazione** del campione $=$ frazione del campione identificata in maniera errata (falsi positivi)"
   ]
  },
  {
   "cell_type": "markdown",
   "metadata": {},
   "source": [
    "* Estendere il problema del monty hall al caso con 4 o più porte.\n",
    "\n",
    "Dare anche uno sguardo ad alcuni esercizi in rete: [<a href=\"http://gtribello.github.io/mathNET/bayes-theorem-problems.html\">1</a>], [<a href=\"https://courses.lumenlearning.com/sanjacinto-finitemath1/chapter/5-5-5-6-exercises-conditional-probability-and-bayes-formula/\">2</a>]."
   ]
  }
 ],
 "metadata": {
  "kernelspec": {
   "display_name": "Python 3 (ipykernel)",
   "language": "python",
   "name": "python3"
  },
  "language_info": {
   "codemirror_mode": {
    "name": "ipython",
    "version": 3
   },
   "file_extension": ".py",
   "mimetype": "text/x-python",
   "name": "python",
   "nbconvert_exporter": "python",
   "pygments_lexer": "ipython3",
   "version": "3.11.6"
  }
 },
 "nbformat": 4,
 "nbformat_minor": 4
}
