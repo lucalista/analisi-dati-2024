{
 "cells": [
  {
   "cell_type": "markdown",
   "metadata": {},
   "source": [
    "# Approccio bayesiano alla probabilità\n",
    "\n",
    "Abbiamo visto che, in generale:\n",
    "    \n",
    "$\\displaystyle P(A|E) = \\frac{P(E|A) P(A)}{P(E)}$\n",
    "\n",
    "O anche, scomponendo il denominatore:\n",
    "\n",
    "$\\displaystyle P(A_i|E) = \\frac{P(E|A_i) P(A_i)}{\\sum_{i=j}^n P(E|A_j) P(A_j)}$\n",
    "\n",
    "Finora questi risultati si possono applicare a qualsiasi definizione di probabilità, compreso quella frequentista."
   ]
  },
  {
   "cell_type": "markdown",
   "metadata": {},
   "source": [
    "<span style=\"color: blue\">La formula di Bayes consente però di **dare un significato** alla probabilità di $A$ quando $A$ non sia un evento casuale, bensì una **affermazione** che non sappiamo se sia vera o falsa, ma sappiamo che, assumendo che sia vera o falsa, influenza la distribuzione di probabilità di una possibile evidenza $E$.</span>\n",
    "\n",
    "Possiamo anche parlare di $A$ come una possibile **ipotesi**.\n",
    "\n",
    "Nel caso della scomposizione, possiamo avere diverse affermazioni $A_i$, ciascuna mutuamente esclusiva. Ossia: se una è vera, tutte le altre saranno false. Almeno una, quindi una ed una sola, delle $n$ $A_i$ deve essere vera. Ma, in generale, non sappiamo quale."
   ]
  },
  {
   "cell_type": "markdown",
   "metadata": {},
   "source": [
    "## Esempio: smscherare fenomeni paranormali\n",
    "\n",
    "Per testare le presunte proprietà paranormali (in inglese: ESP) di alcuni individui, è possibile controllare con che frequenza riescano ad indovinare la sequenza con cui vengono estratte alcune carte. Tradizionalmente venivano usate le cosiddette [carte Zener](https://psychicscience.org/esp3).\n",
    "\n",
    "<img style=\"width: 500px\" src=\"img/zener-cards.png\">\n",
    "<span style=\"color: gray;\">Licenza <a href=\"https://creativecommons.org/licenses/by-sa/3.0/deed.en\">Creative Commons Attribution-Share Alike 3.0 Unported</a>, immgine di Mikhail Ryazanov, Wikimedia commons.</span>\n",
    "\n",
    "La probabilità di indovinare una carta a caso è $1/5$, due di seguito $1/5^2$, $n$ di seguito $1/5^n$. Si può anche calcolare la probabilità di indovinarne almeno una certa percentuale. Dopo ogni estrazione il mazzo di carte viene rimescolato!\n",
    "\n",
    "Se un presunto *paragnosta* riesce ad indovinare facilmente una sequenza che abbia una probabilità $p$ di essere indovinata a caso molto piccola, ci si può chiedere se ciò non sia la prova che la persona sia realmente dotata di poteri paranormali.\n",
    "\n",
    "La domanda è quindi: **qual è la probabilità che la persona sotto test sia veramente dotata di poteri paranormali, visto che ha indovinato la sequenza di carte?**\n",
    "\n",
    "Chiaramente, la probabilità di questa affermazione **non** ha senso con le definizioni che abbiamo visto finora, ma potrebbe avere senso con un'estensione del teorema di Bayes:\n",
    "\n",
    "$\\displaystyle P(A_i|E) = \\frac{P(E|A_i) P(A_i)}{\\sum_{i=j}^n P(E|A_j) P(A_j)}$\n",
    "\n",
    "Dove $A_0$ e $A_1$ sono le due affermazioni:\n",
    "* $A_0$: la persona **non ha** poteri paranormali\n",
    "* $A_1$: la persona **ha** poteri paranormali"
   ]
  },
  {
   "cell_type": "markdown",
   "metadata": {},
   "source": [
    "## Rappresentazione grafica\n",
    "\n",
    "Come nel caso precedente, nell'asse orizzontale rappresentiamo la probabilità a priori.\n",
    "\n",
    "Nel caso più semplice, possiamo dare pari probabilità a priori ad $A_0$=no ESP e $A_1$=ESP.\n",
    "\n",
    "La probabilità di fare la previsione esatta $E$ dovrebbe essere molto bassa in caso di $A_0$ ($P(E|A_0)$) ma alta in caso di $A_1$ ($P(E|A_1)$).\n",
    "\n",
    "La probabilità a posteriori $P(A_1|E)$ si può calcolare con la formula di Bayes."
   ]
  },
  {
   "cell_type": "code",
   "execution_count": 1,
   "metadata": {},
   "outputs": [],
   "source": [
    "import matplotlib.pyplot as plt"
   ]
  },
  {
   "cell_type": "code",
   "execution_count": 22,
   "metadata": {},
   "outputs": [],
   "source": [
    "# usiamo la notazione: 1 <-> E, 0 <-> !E\n",
    "p_1_esp, p_0_esp = (0.995, 0.005)\n",
    "p_1_noesp, p_0_noesp=(0.05, 0.95) \n",
    "\n",
    "def plot_esp(p_esp, p_noesp):\n",
    "    plt.figure(figsize=(12,6))\n",
    "    width=(p_esp, p_noesp)\n",
    "    pos=(0, (p_esp+p_noesp)/2)\n",
    "    plt.bar(x=pos, height=(p_0_esp, p_0_noesp), width=width, label='no prediction', color='orange')\n",
    "    plt.bar(x=pos, bottom=(p_0_esp, p_0_noesp), height=(p_1_esp, p_1_noesp), width=width, label='prediction', color='green')\n",
    "    plt.xticks(pos, ['ESP','no ESP'])\n",
    "    plt.legend(loc='upper right')\n",
    "    plt.xlabel('status')\n",
    "    plt.ylabel('probability')\n",
    "    plt.show()\n",
    "    print(\"Priors: P(ESP), P(!ESP): {:.2%}, {:.2%}\".format(p_esp, p_noesp))\n",
    "    norm_1 = p_1_esp*p_esp+p_1_noesp*p_noesp\n",
    "    p_esp_1 = p_1_esp * p_esp / norm_1\n",
    "    p_noesp_1 = p_1_noesp * p_noesp / norm_1\n",
    "    print(\"Posteriors: P(ESP|pred.), P(!ESP|pred.): {:.2%}, {:.2%}\".format(p_esp_1, p_noesp_1))\n",
    "    return p_esp_1, p_noesp_1\n"
   ]
  },
  {
   "cell_type": "code",
   "execution_count": 31,
   "metadata": {
    "scrolled": false
   },
   "outputs": [
    {
     "data": {
      "image/png": "[encoded data removed]",
      "text/plain": [
       "<Figure size 864x432 with 1 Axes>"
      ]
     },
     "metadata": {
      "needs_background": "light"
     },
     "output_type": "display_data"
    },
    {
     "name": "stdout",
     "output_type": "stream",
     "text": [
      "Priors: P(ESP), P(!ESP): 50.00%, 50.00%\n",
      "Posteriors: P(ESP|pred.), P(!ESP|pred.): 95.23%, 4.77%\n"
     ]
    }
   ],
   "source": [
    "pe1, pnoe1=plot_esp(0.5, 0.5)\n"
   ]
  },
  {
   "cell_type": "markdown",
   "metadata": {},
   "source": [
    "Conclusione: se *a priori* siamo pronti a credere nella possibilità che esistano ESP, basta un'evidenza forte per convincerci."
   ]
  },
  {
   "cell_type": "markdown",
   "metadata": {},
   "source": [
    "Se invece inzialmente siamo parecchio scettici:\n",
    "\n",
    "* <span style=\"color: blue\">*Extraordinary claims require extraordinary evidence* (ECREE, Carl Sagan)</span>"
   ]
  },
  {
   "cell_type": "code",
   "execution_count": 4,
   "metadata": {},
   "outputs": [
    {
     "data": {
      "image/png": "[encoded data removed]",
      "text/plain": [
       "<Figure size 864x432 with 1 Axes>"
      ]
     },
     "metadata": {
      "needs_background": "light"
     },
     "output_type": "display_data"
    },
    {
     "name": "stdout",
     "output_type": "stream",
     "text": [
      "Priors: P(ESP), P(!ESP): 2.00%, 98.00%\n",
      "Posteriors: P(ESP|pred.), P(!ESP|pred.): 3.73%, 96.27%\n"
     ]
    }
   ],
   "source": [
    "plot_esp(0.02, 0.98)"
   ]
  },
  {
   "cell_type": "markdown",
   "metadata": {},
   "source": [
    "Conclusione: **non** basta un'evidenza forte per convincerci, se abbiamo un forte scetticismo. Ma magari siamo pronti a dare una seconda chance e verificare meglio."
   ]
  },
  {
   "cell_type": "markdown",
   "metadata": {},
   "source": [
    "*Non sempre si sa cosa dire, non sempre si ha una spiegazione ovvia e pronta da spiattellare in faccia al credulone di turno, MA - e questo è importante - il fatto che non si sappia trovare una spiegazione non significa che non ci sia una spiegazione.*\n",
    "\n",
    "<span style=\"margin-left: 30px\">dal <a href=\"https://smarcell1961.blogspot.com/2017/05/citta-aliene-sotto-il-mare-no-ma-la.html\">Blog di Stefano Marcellini</a></span>"
   ]
  },
  {
   "cell_type": "markdown",
   "metadata": {},
   "source": [
    "Inseriamo una terza possiblità: <span style=\"color: red\">il presunto paragnosta **sta barando**!</span>"
   ]
  },
  {
   "cell_type": "code",
   "execution_count": 5,
   "metadata": {},
   "outputs": [],
   "source": [
    "p_1_cheat, p_0_cheat=(0.98,0.02) \n",
    "\n",
    "def plot_esp_cheat(p_esp, p_noesp, p_cheat):\n",
    "    plt.figure(figsize=(12,6))\n",
    "    width=(p_esp, p_noesp, p_cheat)\n",
    "    pos=(0, (p_esp+p_noesp)/2, (p_esp+p_cheat)/2+p_noesp)\n",
    "    plt.bar(x=pos, height=(p_0_esp, p_0_noesp, p_0_cheat), width=width, label='no prediction', color='orange')\n",
    "    plt.bar(x=pos, bottom=(p_0_esp, p_0_noesp, p_0_cheat), height=(p_1_esp, p_1_noesp, p_1_cheat), width=width, label='prediction', color='green')\n",
    "    plt.xticks(pos, ['ESP','no ESP', 'cheat'])\n",
    "    plt.legend(loc='upper right')\n",
    "    plt.xlabel('status')\n",
    "    plt.ylabel('probability')\n",
    "    plt.show()\n",
    "    print(\"Priors: P(ESP), P(!ESP), P(cheat): {:.2%}, {:.2%}, {:.2%}\".format(p_esp, p_noesp, p_cheat))\n",
    "    norm_1 = p_1_esp*p_esp+p_1_noesp*p_noesp+p_1_cheat*p_cheat\n",
    "    p_esp_1 = p_1_esp * p_esp / norm_1\n",
    "    p_noesp_1 = p_1_noesp * p_noesp / norm_1\n",
    "    p_cheat_1 = p_1_cheat * p_cheat / norm_1\n",
    "    print(\"Posteriors: P(ESP|pred.), P(!ESP|pred.), P(cheat|pred): {:.2%}, {:.2%}, {:.2%}\".format(p_esp_1, p_noesp_1, p_cheat_1))"
   ]
  },
  {
   "cell_type": "code",
   "execution_count": 6,
   "metadata": {},
   "outputs": [
    {
     "data": {
      "image/png": "[encoded data removed]",
      "text/plain": [
       "<Figure size 864x432 with 1 Axes>"
      ]
     },
     "metadata": {
      "needs_background": "light"
     },
     "output_type": "display_data"
    },
    {
     "name": "stdout",
     "output_type": "stream",
     "text": [
      "Priors: P(ESP), P(!ESP), P(cheat): 2.00%, 49.00%, 49.00%\n",
      "Posteriors: P(ESP|pred.), P(!ESP|pred.), P(cheat|pred): 3.63%, 4.68%, 91.69%\n"
     ]
    }
   ],
   "source": [
    "plot_esp_cheat(0.02, 0.49, 0.49)"
   ]
  },
  {
   "cell_type": "markdown",
   "metadata": {},
   "source": [
    "Conclusione: più che avere la menta *aperta* verso la possibilità del paranormale, è più ragionevole avere la mente aperta verso la possibilità che ci sia qualche imbroglio!"
   ]
  },
  {
   "cell_type": "markdown",
   "metadata": {},
   "source": [
    "<span style=\"color: red\">**Nota:** aggiungere una nuova ipotesi per giustificare poco credibile un'altra ipotesi che altrimenti sarebbe da considerare più probabile è esattamente l'approcci dei *complottisti*.<br>\n",
    "    La differenza principale, però, tra l'approccio scettico razionale e quello complottista è che nel primo la *prior* si forma su un bagaglio culturale fondato su altre evidenze pregresse; nel secondo invece la *prior* si forma sulle opinioni di guru o influencer, e/o su notizie circolate su media poco affidabili.<br>\n",
    "Come vedremo successivamente, l'approccio bayesiano consente di costruire una *prior* sulla scorta di evidenza pregressa ancora usando il teorema di bayes.</span>"
   ]
  },
  {
   "cell_type": "markdown",
   "metadata": {},
   "source": [
    "## Terminologia\n",
    "\n",
    "Nella definizione di probabilità nel senso bayesiano:\n",
    "\n",
    "$\\displaystyle P(A|E) = \\frac{P(E|A) P(A)}{P(E)}$\n",
    "\n",
    "I diversi termini hanno, come già visto più in generale, una loro nomenclatura:\n",
    "* $P(A|E)$ è la *probabilità a posteriori*\n",
    "* $P(E|A)$ è la *verosimiglianza*\n",
    "* $P(A)$ è la *probabilità a priori*\n",
    "* $P(E)$ viene detta *probabilità marginale* o *evidenza*"
   ]
  },
  {
   "cell_type": "markdown",
   "metadata": {},
   "source": [
    "## Probabilità Bayesiana e metodo scientifico\n",
    "\n",
    "L'approccio Bayesiano alla probabilità rappresenta un modello del funzionamento del metodo scientifico.\n",
    "\n",
    "A priori possiamo fare delle ipotesi, alle quali inizialmente diamo una certa credibilità.\n",
    "\n",
    "Successivamente, le osservazioni sperimentali modificheranno la credibilità delle varie ipotesi, fino a che una ipotesi non prevarrà nettamente sulle altre.\n",
    "\n",
    "L'insorgere di nuove ipotesi può successivamente fare prevalere queste ultime alla luce di nuove evidenze sperimentali.\n",
    "\n",
    "Questo è il senso della **verità scientifica**, che non è mai assoluta, ma che si basa sul bagaglio delle conoscenze acquisito dall'umanità ad un certo momento storico.\n",
    "\n",
    "Il progresso scientifico consiste nell'evoluzione della verità scientifica in base alle osservazioni sperimentali che devono essere guidate dalle conoscenze e devono avere come scopo la verifica o la confutazione di ipotesi alternative tra le quali vanno cercate le teorie che ci portino al superamento di quelle attuali.\n",
    "\n",
    "Esempio:\n",
    "* l'evidenza della caduta dei gravi e del moto dei pianeti rende plausibile (quindi: *vera*, in assenza di alternative altrettanto plausibili) la teoria della **gravitazione universale**.\n",
    "* l'evidenza di deviazioni dalla teoria della gravitazione a seguito delle previsioni della relatività generale (moto di Mercurio, lenti gravitazionali, e ora onde gravitazionali e buchi neri) rende la *vera* la **relatività generale** e *falsa* (ossia: non valida in tutti gli ambiti, ma approssimazione della precedente) la gravitazione universale\n",
    "* future evidenze potrebbero confutare la relatività generale, e magari favorire una teoria più avanzata della gravità quantistica, fino ad eventuali ulteriori evidenze.\n"
   ]
  },
  {
   "cell_type": "markdown",
   "metadata": {},
   "source": [
    "## Dogmi\n",
    "\n",
    "Immaginiamo che una persona abbia una fede cieca in una convinzione. Possiamo rappresentare questa situazione come segue nella definizione della *prior*:\n",
    "\n",
    "$\\displaystyle\n",
    "P(A_i) = \n",
    "\\left\\{\n",
    "\\begin{array}{lll}\n",
    "1 & \\mathrm{se} & i = 0 \\\\\n",
    "0 & \\mathrm{se} & i \\ne 0 \n",
    "\\end{array}\n",
    "\\right.$\n",
    "\n",
    "Assumendo questo dimostreremo che risulta:\n",
    "\n",
    "$P(A_i|E) = P(A_i)$ \n",
    "\n",
    "Infatti, secondo il teorema di Bayes:\n",
    "\n",
    "$\\displaystyle P(A_i|E) = \\frac{P(E|A_i) P(A_i)}{P(E)}$\n",
    "\n",
    "Se $i\\ne 0$ abbiamo:\n",
    "\n",
    "$\\displaystyle P(A_i|E) = \\frac{P(E|A_i) \\times 0}{P(E)} = 0 = P(A_i)$\n",
    "\n",
    "Invece, se $i=0$, abbiamo:\n",
    "\n",
    "$\\displaystyle P(A_0|E) = \\frac{P(E|A_0) \\times 1}{\\sum_{i=j}^n P(E|A_j) P(A_j)} = \\frac{P(E|A_0) \\times 1}{P(E|A_0) \\times 1} = 1 = P(A_0)$\n",
    "\n",
    "Qualsiasi evidenza, quindi, non è in grado di modificare la probabilità a priori.\n",
    "\n",
    "C'è chiaramente un problema da gestire nel caso in cui $P(E|A_0)=0$, che darebbe una forma indeterminata $0/0$, ma molto spesso le osservazioni sperimentali hanno qualche margine di incertezza. Mentre un dogma non ammette dubbi.\n",
    "\n",
    "Esempi sono terrapiattismo, antivaccinismo, ecc.\n",
    "\n",
    "<span style=\"color: red\">Credere in dogmi che contrastano con le evidenze, quindi, impedisce il progresso della conoscenza basato sulle osserevazioni sperimentali.</span>\n",
    "\n",
    "Le uniche credenze dogmatiche compatibili con il metodo scientifico, quindi, sono quelle che non fanno previsioni su quantità osservabili."
   ]
  },
  {
   "cell_type": "markdown",
   "metadata": {},
   "source": [
    "Il grafico seguente mostra cosa succede in caso di fede cieca nei poteri paranormali."
   ]
  },
  {
   "cell_type": "code",
   "execution_count": 7,
   "metadata": {},
   "outputs": [
    {
     "data": {
      "image/png": "[encoded data removed]",
      "text/plain": [
       "<Figure size 864x432 with 1 Axes>"
      ]
     },
     "metadata": {
      "needs_background": "light"
     },
     "output_type": "display_data"
    },
    {
     "name": "stdout",
     "output_type": "stream",
     "text": [
      "Priors: P(ESP), P(!ESP), P(cheat): 100.00%, 0.00%, 0.00%\n",
      "Posteriors: P(ESP|pred.), P(!ESP|pred.), P(cheat|pred): 100.00%, 0.00%, 0.00%\n"
     ]
    }
   ],
   "source": [
    "plot_esp_cheat(1, 0, 0)"
   ]
  },
  {
   "cell_type": "markdown",
   "metadata": {},
   "source": [
    "# Considerazioni\n",
    "\n",
    "La probabilità definita in senso bayesiano si può applicare ad un numero di casi maggiore rispetto ad altri approcci.\n",
    "\n",
    "Il prezzo da pagare è che bisogna introdurre una **probabilità a priori** che ha necessariamente carattere soggettivo.\n",
    "\n",
    "Il calcolo della probabilità **a posteriori** dipenderà quindi in qualche modo da assunzioni soggettive.\n",
    "\n",
    "Si può dimostrare, e sarà più chiaro in seguito, che più *forte* è l'evidenza, minore sarà la dipendenza del risultato finale dall'assunzione a priori soggettiva."
   ]
  },
  {
   "cell_type": "markdown",
   "metadata": {},
   "source": [
    "# Estensione del significato di probabilità ai parametri di una PDF\n",
    "\n",
    "Se abbiamo una PDF che dipende da parametri, ad esempio $f(x; \\theta)$, la formula del teorema di Bayes consente di estendere il significato di probabilità dalla variabile casuale $x$, dove può essere definito anche con altri approcci, al parametro $\\theta$, dove, in senso frequentista, non si può parlare di probabilità.\n",
    "\n",
    "Innanzitutto, spesso si preferisce usare la notazione $f(x|\\theta)$, per indicare che la PDF è una distribuzione di probabilità *condizionata* dal fatto che il parametro abbia un certo valore $\\theta$.\n",
    "\n",
    "Quindi, come estendiamo il teorema di Bayes?\n",
    "\n",
    "Ricordiamo che si scrive:\n",
    "\n",
    "$\\displaystyle P(A|E) = \\frac{P(E|A) P(A)}{P(E)}$\n",
    "\n",
    "Chiediamoci quali potrebbero essere gli equivalenti nel caso continuo."
   ]
  },
  {
   "cell_type": "markdown",
   "metadata": {},
   "source": [
    "#### Quali sono gli equivalenti dell'osservazione E e di A nel caso continuo ?\n",
    "\n",
    "$ E \\mapsto $ ??\n",
    "\n",
    "$ A \\mapsto $ ??\n",
    "\n",
    "<details>\n",
    "\n",
    "<summary> Risposta: </summary>\n",
    "\n",
    "Possiamo identificare la nostra variabile continua $x$ come l'equivalente della quantità osservabile $E$, e il parametro, sempre con la potenza del continuo, $\\theta$, come l'equivalente dell'ipotesi $A$:\n",
    "    \n",
    "$A \\mapsto \\theta\\,\\mathrm{d}\\theta$\n",
    "\n",
    "$E \\mapsto x\\,\\mathrm{d}x$\n",
    "\n",
    "</details>"
   ]
  },
  {
   "cell_type": "markdown",
   "metadata": {},
   "source": [
    "#### E quale sarà l'equivalente di P(A|E)? \n",
    "\n",
    "Hint: dobbiamo ricordare che $f(x|\\theta)$ non è la probaiblità, bensì una $\\textit{densità}$ di probabilità! \n",
    "<details>\n",
    "\n",
    "<summary>Risposta:</summary>\n",
    "    \n",
    "La probabilità sarà il prodotto della densità per la lunghezza dell'intervallo infinitesimo:\n",
    "\n",
    "$\\displaystyle P(E|A) \\mapsto \\mathrm{d}P(x|\\theta) = f(x|\\theta)\\,\\mathrm{d}x$\n",
    "\n",
    "Caveat: questa è una probabilità infinitesima, andrà sempre integrata su un intervallo della variabile corrispondente per avere una quantità finita!\n",
    "    \n",
    "</details>\n"
   ]
  },
  {
   "cell_type": "markdown",
   "metadata": {},
   "source": [
    "## Il teorema di bayes - caso variabile continua e parametri di una PDF:\n",
    "\n",
    "Il teorema di Bayes si scrive dunque:\n",
    "\n",
    "$\\displaystyle f(\\theta|x) = \\frac{f(x|\\theta)\\,\\pi(\\theta)}{f(x)} $\n",
    "\n",
    "Dove $\\pi(\\theta)$ e $f(x)$ sono i corrispondenti delle quantità P(A) e P(E). \n",
    "\n",
    "Esse sono la probabilità a priori di ottenere il parametro $\\theta$ e la probabilità marginale della mia osservazione di $x$.\n",
    "\n",
    "Ricordiamo anche la scomposizione del denominatore secondo la legge della probabilità totale nel caso discreto:\n",
    "\n",
    "$\\displaystyle P(A_i|E) = \\frac{P(E|A_i) P(A_i)}{\\sum_{j=1}^n P(E|A_j) P(A_j)}$"
   ]
  },
  {
   "cell_type": "markdown",
   "metadata": {},
   "source": [
    "### Interpretazione per il parametro di una PDF\n",
    "\n",
    "Se suddividiamo il dominio della PDF $f(x|\\theta)$ in intervalli di ampiezza $\\mathrm{d}\\theta$, e ciascuno rappresenta un evento $A_i$ con probabilità $P(E|A_i)= f(x|\\theta)\\,\\mathrm{d}x$, possiamo applicare la formulazione del teorema di Bayes appena ottenuta:\n",
    "\n",
    "$\\displaystyle f(\\theta|x) = \\frac{f(x|\\theta)\\,\\pi(\\theta)}{\\int f(x|\\theta^\\prime)\\,\\pi(\\theta^\\prime)\\,\\mathrm{d}\\theta^\\prime}$\n",
    "\n",
    "Dove:\n",
    "\n",
    "$E \\mapsto x$, $A_i \\mapsto \\theta$, $\\sum_{j=1}^n\\mapsto\\int\\mathrm{d}\\theta^\\prime$\n",
    "\n",
    "$\\displaystyle P(E|A_i) \\mapsto \\mathrm{d}P(x|\\theta) = f(x|\\theta)\\,\\mathrm{d}x$\n",
    "\n",
    "$\\displaystyle P(A_i|E) \\mapsto \\mathrm{d}P(\\theta|x) = f(\\theta|x)\\,\\mathrm{d}\\theta$\n",
    "\n",
    "$\\displaystyle P(A_j|E) \\mapsto \\mathrm{d}P(\\theta^\\prime|x) = f(\\theta^\\prime|x)\\,\\mathrm{d}\\theta^\\prime$\n",
    "\n",
    "\n",
    "$P(A_i)\\mapsto \\pi(\\theta)\\,\\mathrm{d}\\theta$\n",
    "\n",
    "E quindi:\n",
    "\n",
    "$\\displaystyle f(\\theta|x) \\,\\mathrm{d}\\theta = \\frac{\n",
    "f(x|\\theta)\\,\\mathrm{d}x\\, \\pi(\\theta)\\,\\mathrm{d}\\theta\n",
    "}{\n",
    "\\int\\, f(x|\\theta^\\prime)\\,\\mathrm{d}x\\, \\pi(\\theta^\\prime)\\,\\mathrm{d}\\theta^\\prime\n",
    "}$\n",
    "\n",
    "Da cui si ottiene:\n"
   ]
  },
  {
   "cell_type": "markdown",
   "metadata": {},
   "source": [
    "$\\displaystyle f(\\theta|x) = \\frac{f(x|\\theta)\\,\\pi(\\theta)}{\\int f(x|\\theta^\\prime)\\,\\pi(\\theta^\\prime)\\,\\mathrm{d}\\theta^\\prime}$ "
   ]
  },
  {
   "cell_type": "markdown",
   "metadata": {},
   "source": [
    "### Esercizio 1\n",
    "* Cosa accade se usiamo come prior la distribuzione ottenuta dopo la prima misura di ESP e ne facciamo una seconda che smentisce la predizione?\n",
    "\n",
    "Hint: dobbiamo modificare la funzione aggiungendo cosa accade nel caso che potremmo dire \"no pred\" in cui si fallisce a prevedere l'esito!\n"
   ]
  },
  {
   "cell_type": "code",
   "execution_count": 109,
   "metadata": {},
   "outputs": [],
   "source": [
    "# Dobbiamo scrivere la probabilità di ESP | no pred! \n",
    "\n",
    "# riportiamo qui quanto scritto prima, con notazione: 1 <-> E, 0 <-> !E\n",
    "p_1_esp, p_0_esp = (0.95, 0.05)\n",
    "p_1_noesp, p_0_noesp = (0.05, 0.95) \n",
    "\n",
    "def plot_esp(p_esp, p_noesp,pred=True,p_1_e=p_1_esp,p_0_e=p_0_esp,p_1_ne=p_1_noesp,p_0_ne=p_0_noesp, doPlot=True,verbose=True):\n",
    "    if(doPlot):\n",
    "        width=(p_esp, p_noesp)\n",
    "        pos=(0, (p_esp+p_noesp)/2)\n",
    "        plt.figure(figsize=(12,6))\n",
    "        plt.bar(x=pos, height=(p_0_esp, p_0_noesp), width=width, label='no prediction', color='orange')\n",
    "        plt.bar(x=pos, bottom=(p_0_esp, p_0_noesp), height=(p_1_esp, p_1_noesp), width=width, label='prediction', color='green')\n",
    "        plt.xticks(pos, ['ESP','no ESP'])\n",
    "        plt.legend(loc='upper right')\n",
    "        plt.xlabel('status')\n",
    "        plt.ylabel('probability')\n",
    "        plt.show()\n",
    "    if(verbose):print(\"Priors: P(ESP), P(!ESP): {:.2%}, {:.2%}\".format(p_esp, p_noesp))\n",
    "    if pred:\n",
    "        norm_1 = p_1_esp*p_esp+p_1_noesp*p_noesp\n",
    "        p_esp_1 = p_1_esp * p_esp / norm_1\n",
    "        p_noesp_1 = p_1_noesp * p_noesp / norm_1\n",
    "        if(verbose):print(\"Posteriors: P(ESP|pred.), P(!ESP|pred.): {:.2%}, {:.2%}\".format(p_esp_1, p_noesp_1))\n",
    "        return (p_esp_1, p_noesp_1)\n",
    "    if (not pred):\n",
    "        norm_0 = p_0_esp*p_esp+p_0_noesp*p_noesp\n",
    "        p_esp_0 = p_0_esp * p_esp / norm_0\n",
    "        p_noesp_0 = p_0_ne * p_noesp / norm_0\n",
    "        if(verbose):print(\"Posteriors: P(ESP|!pred.), P(!ESP|!pred.): {:.2%}, {:.2%}\".format(p_esp_0, p_noesp_0))\n",
    "        return (p_esp_0, p_noesp_0)"
   ]
  },
  {
   "cell_type": "code",
   "execution_count": 110,
   "metadata": {
    "scrolled": false
   },
   "outputs": [
    {
     "data": {
      "image/png": "[encoded data removed]",
      "text/plain": [
       "<Figure size 864x432 with 1 Axes>"
      ]
     },
     "metadata": {
      "needs_background": "light"
     },
     "output_type": "display_data"
    },
    {
     "name": "stdout",
     "output_type": "stream",
     "text": [
      "Priors: P(ESP), P(!ESP): 50.00%, 50.00%\n",
      "Posteriors: P(ESP|pred.), P(!ESP|pred.): 95.00%, 5.00%\n"
     ]
    }
   ],
   "source": [
    "#Facciamo la prima misura, con prior \"agnostica\", da come risultato 1\n",
    "pe_1, pnoe_1=plot_esp(p_esp=0.5,p_noesp= 0.5, pred=True)"
   ]
  },
  {
   "cell_type": "code",
   "execution_count": 111,
   "metadata": {},
   "outputs": [
    {
     "data": {
      "image/png": "[encoded data removed]",
      "text/plain": [
       "<Figure size 864x432 with 1 Axes>"
      ]
     },
     "metadata": {
      "needs_background": "light"
     },
     "output_type": "display_data"
    },
    {
     "name": "stdout",
     "output_type": "stream",
     "text": [
      "Priors: P(ESP), P(!ESP): 95.00%, 5.00%\n",
      "Posteriors: P(ESP|!pred.), P(!ESP|!pred.): 50.00%, 50.00%\n"
     ]
    },
    {
     "data": {
      "text/plain": [
       "(0.5, 0.5)"
      ]
     },
     "execution_count": 111,
     "metadata": {},
     "output_type": "execute_result"
    }
   ],
   "source": [
    "#Facciamo la seconda misura, prendendo come prior quella della misura precedente. Stavolta otteniamo un risultato false:\n",
    "plot_esp(p_esp=pe_1,p_noesp= pnoe_1, pred=False)"
   ]
  },
  {
   "cell_type": "markdown",
   "metadata": {},
   "source": [
    "## Considerazioni\n",
    "\n",
    "Mantenendo una condizione agnostica, una seconda misura che ha smentito il primo risultato ci ha permesso di ritornare ad una condizione di parità nella nostra posterior. Questo è sintomo di un feedback positivo, che in ultima istanza ci porterà nella direzione della distribuzione preferita dai dati.\n",
    "\n",
    "A prescindere dalle nostre convinzioni, la risposta corretta è soltanto quella che proviene dai dati. La statistica deve fornirci solo un modo di interpetarli e fare delle affermazioni coerenti con quello che vediamo.\n",
    "\n",
    "Nota importante: questo risultato dipende dal fatto che la distribuzione di probabilità condizionata è perfettamente simmetrica nelle due ipotesi. Ciònonostante, dimostra come naturalmente il "
   ]
  },
  {
   "cell_type": "markdown",
   "metadata": {},
   "source": [
    "### Esercizio 2\n",
    "\n",
    "* Come possiamo fare a tenere in conto entrambe le misure simultaneamente? \n",
    "\n",
    "Hint: la nostra prior sarà di nuovo 50/50, perchè non abbiamo ancora fatto misure, ma dobbiamo scrivere la probabilità condizionata di tutti i casi possibili"
   ]
  },
  {
   "cell_type": "markdown",
   "metadata": {},
   "source": [
    "## Cella spoiler protection!\n",
    "\n",
    "&nbsp;  \n",
    "&nbsp;  \n",
    "&nbsp;  \n",
    "&nbsp;  \n",
    "&nbsp;  \n",
    "&nbsp;  \n",
    "&nbsp;  \n",
    "&nbsp;  \n",
    "&nbsp;  \n",
    "&nbsp;  \n",
    "&nbsp;  \n",
    "&nbsp;  \n",
    "&nbsp;  \n",
    "&nbsp;  \n",
    "&nbsp;  \n",
    "&nbsp;  \n",
    "&nbsp;  \n",
    "&nbsp;  \n",
    "&nbsp;  \n",
    "&nbsp;  \n",
    "&nbsp;  \n",
    "&nbsp;  \n",
    "&nbsp;  \n",
    "&nbsp;  \n",
    "&nbsp;  \n",
    "&nbsp;  \n",
    "&nbsp;  \n",
    "&nbsp;  \n",
    "&nbsp;  \n",
    "&nbsp;  \n",
    "&nbsp;  \n",
    "&nbsp;  \n",
    "\n",
    "\n",
    "## Fine spoiler protection\n",
    "\n",
    "\n",
    "\n"
   ]
  },
  {
   "cell_type": "code",
   "execution_count": 112,
   "metadata": {},
   "outputs": [
    {
     "name": "stdout",
     "output_type": "stream",
     "text": [
      "Conditional probabilities are: \n",
      "  P( pred | ESP), P( pred | !ESP ): 95.00%, 5.00%\n",
      "  P( no pred | ESP), P( no pred | !ESP ): 5.00%, 95.00%\n",
      "Joint conditional probabilities are: \n",
      " P( no pred. | ESP), P( no pred. | !ESP ): 0.25%, 90.25%\n",
      "  P( one pred. | ESP), P( one pred. | !ESP ): 9.50%, 9.50%\n",
      "  P( two pred. | ESP), P( two pred. | !ESP ): 90.25%, 0.25%\n"
     ]
    }
   ],
   "source": [
    "# Dobbiamo scrivere la probabilità di due misure indipendenti di ESP pred e no pred! \n",
    "\n",
    "print(\"Conditional probabilities are: \\n  P( pred | ESP), P( pred | !ESP ): {:.2%}, {:.2%}\".format(p_1_esp, p_1_noesp))\n",
    "print(\"  P( no pred | ESP), P( no pred | !ESP ): {:.2%}, {:.2%}\".format(p_0_esp, p_0_noesp))\n",
    "\n",
    "#In questo caso dobbiamo considerare le diverse combinazioni:\n",
    "p_10_esp, p_10_noesp = (2*p_1_esp*p_0_esp,2*p_1_noesp*p_0_noesp)\n",
    "p_11_esp, p_11_noesp = (p_1_esp*p_1_esp,p_1_noesp*p_1_noesp)\n",
    "p_00_esp, p_00_noesp = (p_0_esp*p_0_esp,p_0_noesp*p_0_noesp)\n",
    "\n",
    "print(\"Joint conditional probabilities are: \\n P( no pred. | ESP), P( no pred. | !ESP ): {:.2%}, {:.2%}\".format(p_00_esp, p_00_noesp))\n",
    "print(\"  P( one pred. | ESP), P( one pred. | !ESP ): {:.2%}, {:.2%}\".format(p_10_esp, p_10_noesp))\n",
    "print(\"  P( two pred. | ESP), P( two pred. | !ESP ): {:.2%}, {:.2%}\".format(p_11_esp, p_11_noesp))"
   ]
  },
  {
   "cell_type": "code",
   "execution_count": 113,
   "metadata": {},
   "outputs": [
    {
     "data": {
      "image/png": "[encoded data removed]",
      "text/plain": [
       "<Figure size 864x432 with 1 Axes>"
      ]
     },
     "metadata": {
      "needs_background": "light"
     },
     "output_type": "display_data"
    },
    {
     "name": "stdout",
     "output_type": "stream",
     "text": [
      "Priors: P(ESP), P(!ESP): 50.00%, 50.00%\n",
      "Posteriors: P(ESP| one pred.), P(!ESP| one pred.): 50.00%, 50.00%\n"
     ]
    }
   ],
   "source": [
    "def plot_esp_two(p_esp, p_noesp,n_pred=1,doPlot=True):\n",
    "    plt.figure(figsize=(12,6))\n",
    "    width=(p_esp, p_noesp)\n",
    "    pos=(0, (p_esp+p_noesp)/2)\n",
    "    plt.bar(x=pos, height=(p_00_esp, p_00_noesp), width=width, label='no prediction', color='orange')\n",
    "    plt.bar(x=pos, bottom=(p_00_esp, p_00_noesp), height=(p_10_esp, p_10_noesp), width=width, label='one prediction', color='blue')\n",
    "    plt.bar(x=pos, bottom=(p_10_esp+p_00_esp, p_10_noesp+p_00_noesp), height=(p_11_esp, p_11_noesp), width=width, label='two predictions', color='green')\n",
    "    plt.xticks(pos, ['ESP','no ESP'])\n",
    "    plt.legend(loc='upper right')\n",
    "    plt.xlabel('status')\n",
    "    plt.ylabel('probability')\n",
    "    if(doPlot):plt.show()\n",
    "    print(\"Priors: P(ESP), P(!ESP): {:.2%}, {:.2%}\".format(p_esp, p_noesp))\n",
    "    if n_pred==0:\n",
    "        norm_00 = p_00_esp*p_esp+p_00_noesp*p_noesp\n",
    "        p_esp_00 = p_00_esp * p_esp / norm_00\n",
    "        p_noesp_00 = p_00_noesp * p_noesp / norm_00\n",
    "        print(\"Posteriors: P(ESP| no pred.), P(!ESP| no pred.): {:.2%}, {:.2%}\".format(p_esp_00, p_noesp_00))\n",
    "    if n_pred==1:\n",
    "        norm_10 = p_10_esp*p_esp+p_10_noesp*p_noesp\n",
    "        p_esp_10 = p_10_esp * p_esp / norm_10\n",
    "        p_noesp_10 = p_10_noesp * p_noesp / norm_10\n",
    "        print(\"Posteriors: P(ESP| one pred.), P(!ESP| one pred.): {:.2%}, {:.2%}\".format(p_esp_10, p_noesp_10))\n",
    "    if n_pred==2:\n",
    "        norm_11 = p_11_esp*p_esp+p_11_noesp*p_noesp\n",
    "        p_esp_11 = p_11_esp * p_esp / norm_11\n",
    "        p_noesp_11 = p_11_noesp * p_noesp / norm_11\n",
    "        print(\"Posteriors: P(ESP| one pred.), P(!ESP| one pred.): {:.2%}, {:.2%}\".format(p_esp_11, p_noesp_11))\n",
    "\n",
    "plot_esp_two(0.5,0.5,n_pred=1)"
   ]
  },
  {
   "cell_type": "markdown",
   "metadata": {},
   "source": [
    "## Proviamo con valori diversi della prior:\n"
   ]
  },
  {
   "cell_type": "code",
   "execution_count": 124,
   "metadata": {},
   "outputs": [
    {
     "data": {
      "image/png": "[encoded data removed]",
      "text/plain": [
       "<Figure size 576x576 with 1 Axes>"
      ]
     },
     "metadata": {
      "needs_background": "light"
     },
     "output_type": "display_data"
    }
   ],
   "source": [
    "import numpy as np\n",
    "prior_probs=[(x,1-x) for x in (np.linspace(0,1,11).tolist())]\n",
    "prior_e = ()\n",
    "posterior_e=()\n",
    "\n",
    "p_1_esp, p_0_esp = (0.95, 0.05)\n",
    "p_1_noesp, p_0_noesp = (0.05, 0.95) \n",
    "\n",
    "\n",
    "for p in prior_probs:\n",
    "    p_e_i,p_ne_i=plot_esp(p_esp=p[0],p_noesp=p[1],pred=True, doPlot=False, verbose=False)\n",
    "    post_e_i,post_ne_i=plot_esp(p_esp=p_e_i,p_noesp=p_ne_i,pred=False,doPlot=False,verbose=False)\n",
    "    prior_e += (p[0],)\n",
    "    posterior_e += (post_e_i,)\n",
    "\n",
    "plt.figure(figsize=(8,8))\n",
    "plt.xlabel('prior esp probability')\n",
    "plt.ylabel('posterior esp probability')\n",
    "plt.scatter(prior_e,posterior_e)\n",
    "plt.show()"
   ]
  },
  {
   "cell_type": "markdown",
   "metadata": {},
   "source": [
    "## Se cambia l'affidabilità del metodo cosa succederà alla mia previsione?"
   ]
  },
  {
   "cell_type": "code",
   "execution_count": 125,
   "metadata": {},
   "outputs": [
    {
     "data": {
      "image/png": "[encoded data removed]",
      "text/plain": [
       "<Figure size 576x576 with 1 Axes>"
      ]
     },
     "metadata": {
      "needs_background": "light"
     },
     "output_type": "display_data"
    }
   ],
   "source": [
    "prior_e = ()\n",
    "posterior_e=()\n",
    "\n",
    "p_1_esp, p_0_esp = (0.99, 0.01)\n",
    "p_1_noesp, p_0_noesp = (0.05, 0.95) \n",
    "\n",
    "\n",
    "for p in prior_probs:\n",
    "    p_e_i,p_ne_i=plot_esp(p_esp=p[0],p_noesp=p[1],pred=True, doPlot=False, verbose=False)\n",
    "    post_e_i,post_ne_i=plot_esp(p_esp=p_e_i,p_noesp=p_ne_i,pred=False,doPlot=False,verbose=False)\n",
    "    prior_e += (p[0],)\n",
    "    posterior_e += (post_e_i,)\n",
    "\n",
    "plt.figure(figsize=(8,8))\n",
    "plt.xlabel('prior esp probability')\n",
    "plt.ylabel('posterior esp probability')\n",
    "plt.scatter(prior_e,posterior_e)\n",
    "plt.show()"
   ]
  }
 ],
 "metadata": {
  "kernelspec": {
   "display_name": "Python 3",
   "language": "python",
   "name": "python3"
  },
  "language_info": {
   "codemirror_mode": {
    "name": "ipython",
    "version": 3
   },
   "file_extension": ".py",
   "mimetype": "text/x-python",
   "name": "python",
   "nbconvert_exporter": "python",
   "pygments_lexer": "ipython3",
   "version": "3.8.8"
  }
 },
 "nbformat": 4,
 "nbformat_minor": 4
}
