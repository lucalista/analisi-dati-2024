{
 "cells": [
  {
   "cell_type": "markdown",
   "metadata": {},
   "source": [
    "# Regressione lineare\n",
    "\n",
    "L'applicazione del metodo del minimo $\\chi^2$ è nel caso di una funzione $f$ lineare:\n",
    "\n",
    "$y=f(x;a,b) = a+b\\,x$\n",
    "\n",
    "dobbiamo minimizzare:\n",
    "\n",
    "$\\displaystyle \\chi^2(a,b) = -2\\log p = \\sum_{i=1}^N\\frac{(y_i-a-b\\,x_i)^2}{\\sigma_i^2} + \\text{const.}$\n",
    "\n",
    "che è equivalente a massimizzare la funzione di verosimiglianza $p$.\n",
    "\n",
    "L'equazione sopra è vera *a meno di un termine costante* che non contribuisce alla minimizzazione."
   ]
  },
  {
   "cell_type": "markdown",
   "metadata": {},
   "source": [
    "## Pesi\n",
    "\n",
    "Conviene definire i *persi* $w_i$:\n",
    "\n",
    "$\\displaystyle w_i = \\frac{1/\\sigma_i^2}{1/\\sigma^2}$\n",
    "\n",
    "dove a sua volta $\\sigma$ è definito da:\n",
    "\n",
    "$\\displaystyle \\frac{1}{\\sigma^2} = \\sum_{i=1}^N\\frac{1}{\\sigma_i^2}$\n",
    "\n",
    "Questa scelta garantisce che $\\sum_{i=1}^Nw_i=1$."
   ]
  },
  {
   "cell_type": "markdown",
   "metadata": {},
   "source": [
    "## Minimizzazione del $\\chi^2$\n",
    "\n",
    "Possiamo quindi scrivere:\n",
    "\n",
    "$\\displaystyle \\chi^2(a, b) = \\frac{1}{\\sigma^2}\\sum_{i=1}^Nw_i(y_i-a-b\\,x_i)^2$"
   ]
  },
  {
   "cell_type": "markdown",
   "metadata": {},
   "source": [
    "Si può trovare il minimo di $\\chi^2(a,b)$ in maniera analitica imponendo:\n",
    "\n",
    "$\\displaystyle \\frac{\\partial \\chi^2(a,b)}{\\partial a} = 0$\n",
    "\n",
    "$\\displaystyle \\frac{\\partial \\chi^2(a,b)}{\\partial b} = 0$"
   ]
  },
  {
   "cell_type": "markdown",
   "metadata": {},
   "source": [
    "Le derivate si possono scrivere come:\n",
    "\n",
    "$\\displaystyle \\frac{\\partial \\chi^2(a,b)}{\\partial a} = \\frac{1}{\\sigma^2}\\sum_{i=1}^Nw_i\\frac{\\partial}{\\partial a}(y_i-a-b\\,x_i)^2=\n",
    "-2 \\frac{1}{\\sigma^2}\\sum_{i=1}^Nw_i(y_i-a-b\\,x_i) = \n",
    "\\frac{2}{\\sigma^2}\\left(-\\sum_{i=1}^Nw_i y_i+a+b\\sum_{i=1}^Nw_ix_i\\right)\n",
    "$\n",
    "\n",
    "$\\displaystyle \\frac{\\partial \\chi^2(a,b)}{\\partial b} = \\frac{1}{\\sigma^2}\\sum_{i=1}^N w_i\\frac{\\partial}{\\partial b}(y_i-a-b\\,x_i)^2=\n",
    "-2 \\frac{1}{\\sigma^2}\\sum_{i=1}^Nw_i(y_i-a-b\\,x_i)x_i = \n",
    "\\frac{2}{\\sigma^2}\\left(-\\sum_{i=1}^Nw_i x_i y_i + a\\sum_{i=1}^Nw_ix_i+b\\sum_{i=1}^Nw_ix_i^2\\right)\n",
    "$"
   ]
  },
  {
   "cell_type": "markdown",
   "metadata": {},
   "source": [
    "Possiamo introdurre le *medie pesate* per le quantità $\\alpha_i$, che di volta in volta potranno essere $x_i$, $y_i$, $x_i y_i$, $x_i^2$, ecc.:\n",
    "\n",
    "$\\displaystyle \\left<\\alpha\\right> = \\sum_{i=1}^Nw_i\\alpha_i$"
   ]
  },
  {
   "cell_type": "markdown",
   "metadata": {},
   "source": [
    "Riscriviamo quindi:\n",
    "\n",
    "$\\displaystyle \\frac{\\partial \\chi^2(a,b)}{\\partial a} =\n",
    "\\frac{2}{\\sigma^2}\\left(-\\left<y\\right>+a+b\\left<x\\right>\\right)\n",
    "$\n",
    "\n",
    "$\\displaystyle \\frac{\\partial \\chi^2(a,b)}{\\partial b} = \n",
    "\\frac{2}{\\sigma^2}\\left(-\\left<x y\\right> + a\\left<x\\right>+b\\left<x^2\\right>\\right)\n",
    "$"
   ]
  },
  {
   "cell_type": "markdown",
   "metadata": {},
   "source": [
    "Uguagliando le derivate a zero, si ottiene quindi:\n",
    "\n",
    "$\\displaystyle \\left<y\\right> = a+b\\left<x\\right>$\n",
    "\n",
    "$\\displaystyle \\left<x y\\right> = a\\left<x\\right>  + b\\left<x^2\\right>$"
   ]
  },
  {
   "cell_type": "markdown",
   "metadata": {},
   "source": [
    "In forma matriciale:\n",
    "\n",
    "\n",
    "$\\displaystyle\n",
    "\\left(\\begin{array}{c}\\left<y\\right>\\\\\\left<xy\\right>\\end{array}\n",
    "\\right)=\n",
    "\\left(\\begin{array}{cc} \n",
    "1 & \\left<x\\right> \\\\\n",
    "\\left<x\\right>  & \\left<x^2\\right> \n",
    "\\end{array}\n",
    "\\right)\n",
    "\\left(\\begin{array}{c} a\\\\b\\end{array}\n",
    "\\right)\n",
    "$"
   ]
  },
  {
   "cell_type": "markdown",
   "metadata": {},
   "source": [
    "L'inversione dell'equazione matriciale dà:\n",
    "\n",
    "$\\displaystyle\n",
    "\\left(\\begin{array}{c} a\\\\b\\end{array}\n",
    "\\right)\n",
    "=\n",
    "\\left(\\begin{array}{cc} \n",
    "1 & \\left<x\\right> \\\\\n",
    "\\left<x\\right>  & \\left<x^2\\right> \n",
    "\\end{array}\n",
    "\\right)^{-1}\n",
    "\\left(\\begin{array}{c}\\left<y\\right>\\\\\\left<xy\\right>\\end{array}\n",
    "\\right)\n",
    "$"
   ]
  },
  {
   "cell_type": "markdown",
   "metadata": {},
   "source": [
    "Per calcolare l'inversione consideriamo che:\n",
    "\n",
    "$\\mathrm{det}\\left[C^{-1}\\right] = \\left<x^2\\right> - \\left<x\\right>^2 = \n",
    "\\left<(x - \\left<x\\right>)^2\\right> =\n",
    "\\mathbb{V}\\mathrm{ar}[x]$\n",
    "\n",
    "$\\displaystyle\\left(\\begin{array}{cc} \n",
    "1 & \\left<x\\right> \\\\\n",
    "\\left<x\\right>  & \\left<x^2\\right> \n",
    "\\end{array}\n",
    "\\right)^{-1}\n",
    "=\\frac{1}{\\mathbb{V}\\mathrm{ar}[x]}\n",
    "\\left(\n",
    "\\begin{array}{cc}\n",
    "\\left<x^2\\right> & -\\left<x\\right> \\\\\n",
    "-\\left<x\\right> & 1\n",
    "\\end{array}\n",
    "\\right)\n",
    "$"
   ]
  },
  {
   "cell_type": "markdown",
   "metadata": {},
   "source": [
    "Dopo qualche passaggio:\n",
    "\n",
    "$\\displaystyle b = \\hat{b} = \n",
    "\\frac{\\left<x y\\right>-\\left<x\\right>\\left<y\\right>}{\\mathbb{V}\\mathrm{ar}[x]} =\n",
    "\\frac{\\mathbb{C}\\mathrm{ov}(x, y)}{\\mathbb{V}\\mathrm{ar}[x]}$\n",
    "\n",
    "$a = \\hat{a} = \\left<y\\right> -\\hat{b}\\left<x\\right>$"
   ]
  },
  {
   "cell_type": "markdown",
   "metadata": {},
   "source": [
    "Formule equivalenti sono:\n",
    "\n",
    "$\\displaystyle\\hat{b} = \\frac{\\left<(x-\\left<x\\right>)(y-\\left<y\\right>)\\right>}{\\left<(x-\\left<x\\right>)^2\\right>} =\n",
    "\\frac{\\left<x y\\right>-\\left<x\\right>\\left<y\\right>}{\\left<x^2\\right>-\\left<x\\right>^2} =\n",
    "\\frac{\\mathbb{C}\\mathrm{ov}(x, y)}{\\sigma_x^2}\n",
    "$\n",
    "\n",
    "$\\displaystyle\\hat{a} = \\left<y\\right> - \\hat{b}\\left<x\\right>$"
   ]
  },
  {
   "cell_type": "markdown",
   "metadata": {},
   "source": [
    "## Stima degli errori con la matrice hessiana\n",
    "\n",
    "Gli errori si possono stimare come:\n",
    "\n",
    "$\\displaystyle  \\frac{1}{\\sigma_{\\hat{a}}^2} = -\\frac{\\partial^2 \\log p}{\\partial a^2} = \\frac{1}{2}\\frac{\\partial^2 \\chi^2}{\\partial a^2}$\n",
    "\n",
    "$\\displaystyle  \\frac{1}{\\sigma_{\\hat{b}}^2} = -\\frac{\\partial^2 \\log p}{\\partial b^2} = \\frac{1}{2}\\frac{\\partial^2 \\chi^2}{\\partial b^2}$\n",
    "\n",
    "Questi sono gli elementi diagonali della matrice di covarianza inversa, che ha come elemento non diagonale:\n",
    "\n",
    "$\\displaystyle  C_{ab}^{-1} = -\\frac{\\partial^2 \\log p}{\\partial a\\,\\partial b} = \\frac{1}{2}\\frac{\\partial^2 \\chi^2}{\\partial a\\,\\partial b}$"
   ]
  },
  {
   "cell_type": "markdown",
   "metadata": {},
   "source": [
    "Il calcolo delle derivate seconde si ottiene derivando le derivate prime, riportate di seguto per comodità:\n",
    "\n",
    "$\\displaystyle \\frac{\\partial \\chi^2(a,b)}{\\partial a} =\n",
    "\\frac{2}{\\sigma^2}\\left(\\left<y\\right>+a+b\\left<x\\right>\\right)\n",
    "$\n",
    "\n",
    "$\\displaystyle \\frac{\\partial \\chi^2(a,b)}{\\partial b} = \n",
    "\\frac{2}{\\sigma^2}\\left(-\\left<x y\\right> + a\\left<x\\right>+b\\left<x^2\\right>\\right)\n",
    "$"
   ]
  },
  {
   "cell_type": "markdown",
   "metadata": {},
   "source": [
    "Le derivate seconde sono quindi:\n",
    "\n",
    "$\\displaystyle \\frac{\\partial^2 \\chi^2(a,b)}{\\partial a^2} =\n",
    "\\frac{2}{\\sigma^2}\n",
    "$\n",
    "\n",
    "$\\displaystyle \\frac{\\partial^2 \\chi^2(a,b)}{\\partial b^2} = \n",
    "\\frac{2 \\left<x^2\\right>}{\\sigma^2}\n",
    "$\n",
    "\n",
    "$\\displaystyle \\frac{\\partial^2 \\chi^2(a,b)}{\\partial a\\,\\partial b} =\n",
    "\\frac{2 \\left<x\\right>}{\\sigma^2}\n",
    "$"
   ]
  },
  {
   "cell_type": "markdown",
   "metadata": {},
   "source": [
    "La matrice *inversa* di covarianza è quindi, ricordando il fattore $1/2$ davanti alla derivata seconda del $\\chi^2$:\n",
    "\n",
    "$\\displaystyle C^{-1} = \\frac{1}{\\sigma^2}\\left(\n",
    "\\begin{array}{cc}\n",
    "1 & \\left<x\\right> \\\\\n",
    "\\left<x\\right> & \\left<x^2\\right>\n",
    "\\end{array}\n",
    "\\right)$"
   ]
  },
  {
   "cell_type": "markdown",
   "metadata": {},
   "source": [
    "L'inversione è simile a quanto abbiamo già calcolato in precedenza. La matrice di covarianza è quindi:\n",
    "\n",
    "$\\displaystyle C =\\frac{\\sigma^2}{\\sigma_x^2}\\left(\n",
    "\\begin{array}{cc}\n",
    "\\left<x^2\\right> & - \\left<x\\right> \\\\\n",
    "- \\left<x\\right> & 1\n",
    "\\end{array}\n",
    "\\right)\n",
    "$"
   ]
  },
  {
   "cell_type": "markdown",
   "metadata": {},
   "source": [
    "Procedendo col calcolo si ottiene:\n",
    "\n",
    "$\\displaystyle \\sigma_{\\hat{b}}^2 = \\frac{\\sigma^2}{\\sigma_x^2}$\n",
    "\n",
    "$\\displaystyle \\sigma_{\\hat{a}}^2 = \\frac{\\sigma^2}{\\sigma_x^2} \\left<x^2\\right> = \n",
    "\\sigma_{\\hat{b}}^2 \\left<x^2\\right>\n",
    "$\n",
    "\n",
    "\n",
    "$\\displaystyle \\mathbb{C}\\mathrm{ov}(\\hat{a}, \\hat{b}) = - \\frac{\\sigma^2}{\\sigma_x^2} \\left<x\\right> = \n",
    "- \\sigma_{\\hat{b}}^2\\left<x\\right>\n",
    "$"
   ]
  },
  {
   "cell_type": "markdown",
   "metadata": {},
   "source": [
    "## Stima degli errori dai residui del fit\n",
    "\n",
    "Al posto di $\\sigma^2$ definito in precedenza, si preferisce stimare l'errore medio in base alle effettive deviazioni dei punti sperimentali dalle retta ottenuta dal fit. Si usa quindi, nelle formule precedenti, per gli errori su $\\hat{a}$ e $\\hat{b}$:\n",
    "\n",
    "$\\displaystyle \\hat{\\sigma}^2 = \\frac{1}{N-2}\\sum_{i=1}^Nw_i\\left(y_i -\\hat{y}_i\\right)^2$\n",
    "\n",
    "Dove abbiamo definito $\\hat{y}_i = f(x_i; \\hat{a}, \\hat{b}) = \\hat{a}+\\hat{b}\\, x$, ossia i valori delle $y$ sulla curva interpolata.\n",
    "\n",
    "L'uso di $N-2$ al demonimatore tiene conto del numero di gradi di libertà determinati dal fit, ossia le stime dei parametri $a$ e $b$. In questo modo si evita un possibile **bias**."
   ]
  },
  {
   "cell_type": "markdown",
   "metadata": {},
   "source": [
    "I valori $\\varepsilon_i = y_i -\\hat{y}_i$ prendono il nome di **residui**.\n",
    "\n",
    "Possiamo scrivere quindi:\n",
    "\n",
    "$\\displaystyle \\hat{\\sigma}^2 = \\frac{1}{N-2}\\left<\\varepsilon^2\\right>$"
   ]
  },
  {
   "cell_type": "markdown",
   "metadata": {},
   "source": [
    "<span style=\"color:blue\">Assumento pesi tutti uguali, l'uso di $\\hat{\\sigma}$ permette il calcolo dell'errore sui parametri $\\hat{a}$ e $\\hat{b}$ anche quandi l'errore sulle singole misure $y_i$ non sono noti.</span>"
   ]
  },
  {
   "cell_type": "markdown",
   "metadata": {},
   "source": [
    "<span style=\"color:blue\">Nota: questo calcolo dell'errore è il default nella funzione ```curve_fit``` che già abbiamo usato. Per usare gli errori $\\sigma_i$ anziché l'errore quadratico medio, bisogna abilitare l'opzione ```absolute_sigma```, che di default è ```False```."
   ]
  },
  {
   "cell_type": "markdown",
   "metadata": {},
   "source": [
    "## Il Coefficiente di determinazione $R^2$\n",
    "\n",
    "È poco usato in fisica, ma si trova in diverse liberie il **coefficiente di determinazione** $R^2$ che è definito come:\n",
    "\n",
    "$\\displaystyle R^2 = \\frac{\\sum_{i=1}^N(\\hat{y}_i-\\left<y\\right>)^2}{\\sum_{i=1}^N(y_i-\\left<y\\right>)^2}$\n",
    "\n",
    "$R^2$ varia tra 0 e 1 e talvolta è espresso come percentuale.\n",
    "\n",
    "$R^2=1$ corrisponde a punti totalmente allineati sulla curva (deve essere $\\hat{y}_i = y_i$), mentre $R^2=0$ corrisponde ad una retta perfettamente orizzontale, per cui la curva stimata prevede che $y$ sia insensibile ad $x$."
   ]
  },
  {
   "cell_type": "code",
   "execution_count": 1,
   "metadata": {},
   "outputs": [],
   "source": [
    "import math\n",
    "import numpy as np\n",
    "import matplotlib.pyplot as plt\n",
    "import pandas as pd\n",
    "from scipy import stats"
   ]
  },
  {
   "cell_type": "markdown",
   "metadata": {},
   "source": [
    "Generiamo una sequenza di punti allineati lungo una linea con dispersione verticale generata in modo gaussiano"
   ]
  },
  {
   "cell_type": "code",
   "execution_count": 2,
   "metadata": {},
   "outputs": [
    {
     "data": {
      "image/png": "[encoded data removed]",
      "text/plain": [
       "<Figure size 1000x600 with 1 Axes>"
      ]
     },
     "metadata": {},
     "output_type": "display_data"
    }
   ],
   "source": [
    "n_points = 20\n",
    "x_min = 0.0; x_max = 10.0\n",
    "sigma = 1.5\n",
    "a0 = 3.0; b0 = 1.5\n",
    "x = np.sort(np.random.uniform(x_min, x_max, size=n_points))\n",
    "y = np.random.normal(a0 + x*b0, sigma)\n",
    "plt.figure(figsize=(10, 6))\n",
    "plt.errorbar(x, y, yerr=sigma, fmt='o')\n",
    "plt.xlabel('x')\n",
    "plt.ylabel('y')\n",
    "plt.show()"
   ]
  },
  {
   "cell_type": "markdown",
   "metadata": {},
   "source": [
    "Calcolo della media di $x$ e $y$ e dei vettori con le deviazioni"
   ]
  },
  {
   "cell_type": "code",
   "execution_count": 4,
   "metadata": {},
   "outputs": [],
   "source": [
    "x_mean, y_mean = x.mean(), y.mean()\n",
    "dx, dy = x - x_mean, y - y_mean\n",
    "dxdy = dx*dy; dx2 = dx*dx"
   ]
  },
  {
   "cell_type": "markdown",
   "metadata": {},
   "source": [
    "Calcolo dei coefficienti del fit"
   ]
  },
  {
   "cell_type": "code",
   "execution_count": 5,
   "metadata": {},
   "outputs": [
    {
     "name": "stdout",
     "output_type": "stream",
     "text": [
      "a, b = 2.6238, 1.6269\n"
     ]
    }
   ],
   "source": [
    "dxdy_mean, dx2_mean = dxdy.mean(), dx2.mean()\n",
    "b_fit = dxdy_mean/dx2_mean\n",
    "a_fit = y_mean - b_fit*x_mean\n",
    "print(\"a, b = {:.4f}, {:.4f}\".format(a_fit, b_fit))\n",
    "def fit_line(x):\n",
    "    return a_fit + x*b_fit"
   ]
  },
  {
   "cell_type": "code",
   "execution_count": 7,
   "metadata": {},
   "outputs": [
    {
     "data": {
      "image/png": "[encoded data removed]",
      "text/plain": [
       "<Figure size 1000x600 with 1 Axes>"
      ]
     },
     "metadata": {},
     "output_type": "display_data"
    }
   ],
   "source": [
    "plt.figure(figsize=(10, 6))\n",
    "plt.errorbar(x, y, yerr=sigma, fmt='o')\n",
    "plt.plot([x_min, x_max],[fit_line(x_min), fit_line(x_max)])\n",
    "plt.xlabel('x')\n",
    "plt.ylabel('y')\n",
    "plt.show()"
   ]
  },
  {
   "cell_type": "markdown",
   "metadata": {},
   "source": [
    "Calcolo dei valori interpolati e dei residui"
   ]
  },
  {
   "cell_type": "code",
   "execution_count": 9,
   "metadata": {},
   "outputs": [],
   "source": [
    "y_fit = fit_line(x)\n",
    "res = y - y_fit\n",
    "res2 = res*res"
   ]
  },
  {
   "cell_type": "markdown",
   "metadata": {},
   "source": [
    "Calcoliamo la stima degli errori. Il significato del $p$-value sarà definito nelle prossime lezioni."
   ]
  },
  {
   "cell_type": "code",
   "execution_count": 10,
   "metadata": {},
   "outputs": [
    {
     "name": "stdout",
     "output_type": "stream",
     "text": [
      "b = 1.627 ± 0.086\n",
      "a = 2.624 ± 0.513\n",
      "cov(a,b) = -0.03801668\n",
      "chi^2 = 11.133/18 ndof\n",
      "p = 0.889\n"
     ]
    }
   ],
   "source": [
    "x2 = x*x\n",
    "x2_mean = x2.mean()\n",
    "res2_mean = res2.mean()\n",
    "chi2 = res2_mean*n_points/(sigma*sigma)\n",
    "ndof = n_points-2\n",
    "var_b = res2_mean/dx2_mean/(n_points-2)\n",
    "var_a = var_b*x2_mean\n",
    "cov_ab = -var_b*x_mean\n",
    "err_b = math.sqrt(var_b)\n",
    "err_a = math.sqrt(var_a)\n",
    "print('b = {:.3f} ± {:.3f}'.format(b_fit, err_b))\n",
    "print('a = {:.3f} ± {:.3f}'.format(a_fit, err_a))\n",
    "print('cov(a,b) = {:.8f}'.format(cov_ab))\n",
    "print('chi^2 = {:.3f}/{:d} ndof'.format(chi2, ndof))\n",
    "print('p = {:.3f}'.format(1 - stats.chi2.cdf(chi2, ndof)))"
   ]
  },
  {
   "cell_type": "markdown",
   "metadata": {},
   "source": [
    "Confrontiamo con [```scipy.stats.linregress```](https://docs.scipy.org/doc/scipy/reference/generated/scipy.stats.linregress.html).\n",
    "\n",
    "<span style=\"color: blue\">Da notare che il $p$-value è relativo all'ipotesi che la pendenza sia zero, non è relativo al $\\chi^2$ del fit. Non va quindi confrontato con il precedente. Il significato del $p$-value sarà più chiaro nelle prossime lezioni.</span>\n",
    "\n",
    "<span style=\"color: red\">La funzione non implementa fit pesati.</span>"
   ]
  },
  {
   "cell_type": "code",
   "execution_count": 11,
   "metadata": {},
   "outputs": [
    {
     "name": "stdout",
     "output_type": "stream",
     "text": [
      "b =  1.6268839260140922\n",
      "a =  2.6238068454618944\n",
      "err =  0.08631738263319623\n",
      "R^2 =  0.9517731027430074\n",
      "p =  2.676196907574734e-13\n"
     ]
    }
   ],
   "source": [
    "slope, intercept, r_value, p_value, std_err = stats.linregress(x, y)\n",
    "print('b = ', slope)\n",
    "print('a = ', intercept)\n",
    "print('err = ', std_err)\n",
    "print('R^2 = ', r_value*r_value)\n",
    "print('p = ', p_value)"
   ]
  },
  {
   "cell_type": "markdown",
   "metadata": {},
   "source": [
    "Propagazione degli errori su $a$ e $b$, considerando il coefficiente di covarianza:\n",
    "\n",
    "$y = a + b x$\n",
    "\n",
    "$\\sigma_y^2 = \\sigma_a^2 + 2x\\,\\mathrm{cov}(a,b) + x^2\\sigma_b^2$"
   ]
  },
  {
   "cell_type": "code",
   "execution_count": 12,
   "metadata": {},
   "outputs": [],
   "source": [
    "y_err_fit = np.sqrt(var_a + 2*x*cov_ab + x2*var_b)\n",
    "y_lo_fit = y_fit - y_err_fit\n",
    "y_hi_fit = y_fit + y_err_fit"
   ]
  },
  {
   "cell_type": "code",
   "execution_count": 13,
   "metadata": {},
   "outputs": [
    {
     "data": {
      "image/png": "[encoded data removed]",
      "text/plain": [
       "<Figure size 1000x600 with 1 Axes>"
      ]
     },
     "metadata": {},
     "output_type": "display_data"
    }
   ],
   "source": [
    "plt.figure(figsize=(10, 6))\n",
    "plt.fill_between(x, y_lo_fit, y_hi_fit, facecolor='orange')\n",
    "plt.errorbar(x, y, yerr=sigma, fmt='o')\n",
    "plt.plot([x_min,x_max],[fit_line(x_min), fit_line(x_max)], color='darkred')\n",
    "plt.xlabel('x')\n",
    "plt.ylabel('y')\n",
    "plt.show()"
   ]
  },
  {
   "cell_type": "markdown",
   "metadata": {},
   "source": [
    "Possiamo costruzione un ```DataFrame``` pandas per visualizzazione della tabella e salvarlo in formato csv per poterlo importare in un foglio di calcolo."
   ]
  },
  {
   "cell_type": "code",
   "execution_count": 14,
   "metadata": {},
   "outputs": [
    {
     "data": {
      "text/html": [
       "<div>\n",
       "<style scoped>\n",
       "    .dataframe tbody tr th:only-of-type {\n",
       "        vertical-align: middle;\n",
       "    }\n",
       "\n",
       "    .dataframe tbody tr th {\n",
       "        vertical-align: top;\n",
       "    }\n",
       "\n",
       "    .dataframe thead th {\n",
       "        text-align: right;\n",
       "    }\n",
       "</style>\n",
       "<table border=\"1\" class=\"dataframe\">\n",
       "  <thead>\n",
       "    <tr style=\"text-align: right;\">\n",
       "      <th></th>\n",
       "      <th>x</th>\n",
       "      <th>y</th>\n",
       "      <th>dx</th>\n",
       "      <th>dy</th>\n",
       "      <th>x2</th>\n",
       "      <th>dxdy</th>\n",
       "      <th>dx2</th>\n",
       "      <th>y_fit</th>\n",
       "      <th>res</th>\n",
       "      <th>res2</th>\n",
       "      <th>y_err_fit</th>\n",
       "      <th>y_lo_fit</th>\n",
       "      <th>y_hi_fit</th>\n",
       "    </tr>\n",
       "  </thead>\n",
       "  <tbody>\n",
       "    <tr>\n",
       "      <th>0</th>\n",
       "      <td>0.182527</td>\n",
       "      <td>2.628541</td>\n",
       "      <td>-4.919911</td>\n",
       "      <td>-8.296339</td>\n",
       "      <td>0.033316</td>\n",
       "      <td>40.817248</td>\n",
       "      <td>24.205521</td>\n",
       "      <td>2.920757</td>\n",
       "      <td>-0.292216</td>\n",
       "      <td>0.085390</td>\n",
       "      <td>0.499931</td>\n",
       "      <td>2.420826</td>\n",
       "      <td>3.420688</td>\n",
       "    </tr>\n",
       "    <tr>\n",
       "      <th>1</th>\n",
       "      <td>0.459604</td>\n",
       "      <td>3.159773</td>\n",
       "      <td>-4.642834</td>\n",
       "      <td>-7.765107</td>\n",
       "      <td>0.211235</td>\n",
       "      <td>36.052104</td>\n",
       "      <td>21.555908</td>\n",
       "      <td>3.371529</td>\n",
       "      <td>-0.211755</td>\n",
       "      <td>0.044840</td>\n",
       "      <td>0.479781</td>\n",
       "      <td>2.891748</td>\n",
       "      <td>3.851309</td>\n",
       "    </tr>\n",
       "    <tr>\n",
       "      <th>2</th>\n",
       "      <td>0.976274</td>\n",
       "      <td>3.351501</td>\n",
       "      <td>-4.126163</td>\n",
       "      <td>-7.573380</td>\n",
       "      <td>0.953111</td>\n",
       "      <td>31.249003</td>\n",
       "      <td>17.025225</td>\n",
       "      <td>4.212092</td>\n",
       "      <td>-0.860591</td>\n",
       "      <td>0.740617</td>\n",
       "      <td>0.443207</td>\n",
       "      <td>3.768884</td>\n",
       "      <td>4.655299</td>\n",
       "    </tr>\n",
       "    <tr>\n",
       "      <th>3</th>\n",
       "      <td>1.076633</td>\n",
       "      <td>3.551506</td>\n",
       "      <td>-4.025804</td>\n",
       "      <td>-7.373375</td>\n",
       "      <td>1.159139</td>\n",
       "      <td>29.683764</td>\n",
       "      <td>16.207101</td>\n",
       "      <td>4.375364</td>\n",
       "      <td>-0.823858</td>\n",
       "      <td>0.678742</td>\n",
       "      <td>0.436276</td>\n",
       "      <td>3.939088</td>\n",
       "      <td>4.811641</td>\n",
       "    </tr>\n",
       "    <tr>\n",
       "      <th>4</th>\n",
       "      <td>1.937192</td>\n",
       "      <td>7.211669</td>\n",
       "      <td>-3.165245</td>\n",
       "      <td>-3.713212</td>\n",
       "      <td>3.752714</td>\n",
       "      <td>11.753227</td>\n",
       "      <td>10.018779</td>\n",
       "      <td>5.775394</td>\n",
       "      <td>1.436275</td>\n",
       "      <td>2.062886</td>\n",
       "      <td>0.379776</td>\n",
       "      <td>5.395618</td>\n",
       "      <td>6.155170</td>\n",
       "    </tr>\n",
       "    <tr>\n",
       "      <th>5</th>\n",
       "      <td>3.085047</td>\n",
       "      <td>8.757350</td>\n",
       "      <td>-2.017390</td>\n",
       "      <td>-2.167530</td>\n",
       "      <td>9.517518</td>\n",
       "      <td>4.372754</td>\n",
       "      <td>4.069863</td>\n",
       "      <td>7.642821</td>\n",
       "      <td>1.114530</td>\n",
       "      <td>1.242176</td>\n",
       "      <td>0.316080</td>\n",
       "      <td>7.326741</td>\n",
       "      <td>7.958901</td>\n",
       "    </tr>\n",
       "    <tr>\n",
       "      <th>6</th>\n",
       "      <td>3.318570</td>\n",
       "      <td>8.296572</td>\n",
       "      <td>-1.783868</td>\n",
       "      <td>-2.628309</td>\n",
       "      <td>11.012904</td>\n",
       "      <td>4.688556</td>\n",
       "      <td>3.182186</td>\n",
       "      <td>8.022734</td>\n",
       "      <td>0.273838</td>\n",
       "      <td>0.074987</td>\n",
       "      <td>0.305438</td>\n",
       "      <td>7.717296</td>\n",
       "      <td>8.328172</td>\n",
       "    </tr>\n",
       "    <tr>\n",
       "      <th>7</th>\n",
       "      <td>3.529776</td>\n",
       "      <td>7.007350</td>\n",
       "      <td>-1.572662</td>\n",
       "      <td>-3.917531</td>\n",
       "      <td>12.459316</td>\n",
       "      <td>6.160951</td>\n",
       "      <td>2.473266</td>\n",
       "      <td>8.366342</td>\n",
       "      <td>-1.358992</td>\n",
       "      <td>1.846860</td>\n",
       "      <td>0.296666</td>\n",
       "      <td>8.069676</td>\n",
       "      <td>8.663008</td>\n",
       "    </tr>\n",
       "    <tr>\n",
       "      <th>8</th>\n",
       "      <td>3.734382</td>\n",
       "      <td>9.552490</td>\n",
       "      <td>-1.368055</td>\n",
       "      <td>-1.372390</td>\n",
       "      <td>13.945612</td>\n",
       "      <td>1.877506</td>\n",
       "      <td>1.871575</td>\n",
       "      <td>8.699214</td>\n",
       "      <td>0.853277</td>\n",
       "      <td>0.728081</td>\n",
       "      <td>0.289011</td>\n",
       "      <td>8.410202</td>\n",
       "      <td>8.988225</td>\n",
       "    </tr>\n",
       "    <tr>\n",
       "      <th>9</th>\n",
       "      <td>4.808163</td>\n",
       "      <td>10.558383</td>\n",
       "      <td>-0.294275</td>\n",
       "      <td>-0.366498</td>\n",
       "      <td>23.118430</td>\n",
       "      <td>0.107851</td>\n",
       "      <td>0.086598</td>\n",
       "      <td>10.446130</td>\n",
       "      <td>0.112253</td>\n",
       "      <td>0.012601</td>\n",
       "      <td>0.265006</td>\n",
       "      <td>10.181124</td>\n",
       "      <td>10.711136</td>\n",
       "    </tr>\n",
       "    <tr>\n",
       "      <th>10</th>\n",
       "      <td>6.915567</td>\n",
       "      <td>14.277013</td>\n",
       "      <td>1.813129</td>\n",
       "      <td>3.352132</td>\n",
       "      <td>47.825061</td>\n",
       "      <td>6.077847</td>\n",
       "      <td>3.287436</td>\n",
       "      <td>13.874631</td>\n",
       "      <td>0.402382</td>\n",
       "      <td>0.161911</td>\n",
       "      <td>0.306719</td>\n",
       "      <td>13.567912</td>\n",
       "      <td>14.181350</td>\n",
       "    </tr>\n",
       "    <tr>\n",
       "      <th>11</th>\n",
       "      <td>6.978459</td>\n",
       "      <td>15.422667</td>\n",
       "      <td>1.876021</td>\n",
       "      <td>4.497786</td>\n",
       "      <td>48.698889</td>\n",
       "      <td>8.437942</td>\n",
       "      <td>3.519456</td>\n",
       "      <td>13.976950</td>\n",
       "      <td>1.445717</td>\n",
       "      <td>2.090098</td>\n",
       "      <td>0.309524</td>\n",
       "      <td>13.667425</td>\n",
       "      <td>14.286474</td>\n",
       "    </tr>\n",
       "    <tr>\n",
       "      <th>12</th>\n",
       "      <td>7.141013</td>\n",
       "      <td>14.890455</td>\n",
       "      <td>2.038575</td>\n",
       "      <td>3.965574</td>\n",
       "      <td>50.994062</td>\n",
       "      <td>8.084121</td>\n",
       "      <td>4.155788</td>\n",
       "      <td>14.241406</td>\n",
       "      <td>0.649049</td>\n",
       "      <td>0.421265</td>\n",
       "      <td>0.317091</td>\n",
       "      <td>13.924315</td>\n",
       "      <td>14.558496</td>\n",
       "    </tr>\n",
       "    <tr>\n",
       "      <th>13</th>\n",
       "      <td>7.427543</td>\n",
       "      <td>12.871513</td>\n",
       "      <td>2.325105</td>\n",
       "      <td>1.946633</td>\n",
       "      <td>55.168388</td>\n",
       "      <td>4.526125</td>\n",
       "      <td>5.406113</td>\n",
       "      <td>14.707556</td>\n",
       "      <td>-1.836043</td>\n",
       "      <td>3.371054</td>\n",
       "      <td>0.331455</td>\n",
       "      <td>14.376102</td>\n",
       "      <td>15.039011</td>\n",
       "    </tr>\n",
       "    <tr>\n",
       "      <th>14</th>\n",
       "      <td>7.517655</td>\n",
       "      <td>14.485176</td>\n",
       "      <td>2.415217</td>\n",
       "      <td>3.560295</td>\n",
       "      <td>56.515135</td>\n",
       "      <td>8.598886</td>\n",
       "      <td>5.833274</td>\n",
       "      <td>14.854159</td>\n",
       "      <td>-0.368983</td>\n",
       "      <td>0.136148</td>\n",
       "      <td>0.336222</td>\n",
       "      <td>14.517937</td>\n",
       "      <td>15.190380</td>\n",
       "    </tr>\n",
       "    <tr>\n",
       "      <th>15</th>\n",
       "      <td>7.622919</td>\n",
       "      <td>13.347043</td>\n",
       "      <td>2.520482</td>\n",
       "      <td>2.422162</td>\n",
       "      <td>58.108900</td>\n",
       "      <td>6.105016</td>\n",
       "      <td>6.352828</td>\n",
       "      <td>15.025412</td>\n",
       "      <td>-1.678369</td>\n",
       "      <td>2.816922</td>\n",
       "      <td>0.341930</td>\n",
       "      <td>14.683482</td>\n",
       "      <td>15.367342</td>\n",
       "    </tr>\n",
       "    <tr>\n",
       "      <th>16</th>\n",
       "      <td>7.843122</td>\n",
       "      <td>18.036349</td>\n",
       "      <td>2.740684</td>\n",
       "      <td>7.111469</td>\n",
       "      <td>61.514557</td>\n",
       "      <td>19.490288</td>\n",
       "      <td>7.511349</td>\n",
       "      <td>15.383655</td>\n",
       "      <td>2.652694</td>\n",
       "      <td>7.036785</td>\n",
       "      <td>0.354327</td>\n",
       "      <td>15.029328</td>\n",
       "      <td>15.737983</td>\n",
       "    </tr>\n",
       "    <tr>\n",
       "      <th>17</th>\n",
       "      <td>8.692719</td>\n",
       "      <td>15.567993</td>\n",
       "      <td>3.590281</td>\n",
       "      <td>4.643113</td>\n",
       "      <td>75.563361</td>\n",
       "      <td>16.670080</td>\n",
       "      <td>12.890119</td>\n",
       "      <td>16.765851</td>\n",
       "      <td>-1.197858</td>\n",
       "      <td>1.434864</td>\n",
       "      <td>0.406968</td>\n",
       "      <td>16.358883</td>\n",
       "      <td>17.172820</td>\n",
       "    </tr>\n",
       "    <tr>\n",
       "      <th>18</th>\n",
       "      <td>9.101980</td>\n",
       "      <td>17.188856</td>\n",
       "      <td>3.999543</td>\n",
       "      <td>6.263976</td>\n",
       "      <td>82.846045</td>\n",
       "      <td>25.053038</td>\n",
       "      <td>15.996341</td>\n",
       "      <td>17.431672</td>\n",
       "      <td>-0.242816</td>\n",
       "      <td>0.058960</td>\n",
       "      <td>0.434473</td>\n",
       "      <td>16.997199</td>\n",
       "      <td>17.866145</td>\n",
       "    </tr>\n",
       "    <tr>\n",
       "      <th>19</th>\n",
       "      <td>9.699609</td>\n",
       "      <td>18.335412</td>\n",
       "      <td>4.597172</td>\n",
       "      <td>7.410531</td>\n",
       "      <td>94.082419</td>\n",
       "      <td>34.067484</td>\n",
       "      <td>21.133986</td>\n",
       "      <td>18.403945</td>\n",
       "      <td>-0.068533</td>\n",
       "      <td>0.004697</td>\n",
       "      <td>0.476493</td>\n",
       "      <td>17.927452</td>\n",
       "      <td>18.880438</td>\n",
       "    </tr>\n",
       "  </tbody>\n",
       "</table>\n",
       "</div>"
      ],
      "text/plain": [
       "           x          y        dx        dy         x2       dxdy        dx2  \\\n",
       "0   0.182527   2.628541 -4.919911 -8.296339   0.033316  40.817248  24.205521   \n",
       "1   0.459604   3.159773 -4.642834 -7.765107   0.211235  36.052104  21.555908   \n",
       "2   0.976274   3.351501 -4.126163 -7.573380   0.953111  31.249003  17.025225   \n",
       "3   1.076633   3.551506 -4.025804 -7.373375   1.159139  29.683764  16.207101   \n",
       "4   1.937192   7.211669 -3.165245 -3.713212   3.752714  11.753227  10.018779   \n",
       "5   3.085047   8.757350 -2.017390 -2.167530   9.517518   4.372754   4.069863   \n",
       "6   3.318570   8.296572 -1.783868 -2.628309  11.012904   4.688556   3.182186   \n",
       "7   3.529776   7.007350 -1.572662 -3.917531  12.459316   6.160951   2.473266   \n",
       "8   3.734382   9.552490 -1.368055 -1.372390  13.945612   1.877506   1.871575   \n",
       "9   4.808163  10.558383 -0.294275 -0.366498  23.118430   0.107851   0.086598   \n",
       "10  6.915567  14.277013  1.813129  3.352132  47.825061   6.077847   3.287436   \n",
       "11  6.978459  15.422667  1.876021  4.497786  48.698889   8.437942   3.519456   \n",
       "12  7.141013  14.890455  2.038575  3.965574  50.994062   8.084121   4.155788   \n",
       "13  7.427543  12.871513  2.325105  1.946633  55.168388   4.526125   5.406113   \n",
       "14  7.517655  14.485176  2.415217  3.560295  56.515135   8.598886   5.833274   \n",
       "15  7.622919  13.347043  2.520482  2.422162  58.108900   6.105016   6.352828   \n",
       "16  7.843122  18.036349  2.740684  7.111469  61.514557  19.490288   7.511349   \n",
       "17  8.692719  15.567993  3.590281  4.643113  75.563361  16.670080  12.890119   \n",
       "18  9.101980  17.188856  3.999543  6.263976  82.846045  25.053038  15.996341   \n",
       "19  9.699609  18.335412  4.597172  7.410531  94.082419  34.067484  21.133986   \n",
       "\n",
       "        y_fit       res      res2  y_err_fit   y_lo_fit   y_hi_fit  \n",
       "0    2.920757 -0.292216  0.085390   0.499931   2.420826   3.420688  \n",
       "1    3.371529 -0.211755  0.044840   0.479781   2.891748   3.851309  \n",
       "2    4.212092 -0.860591  0.740617   0.443207   3.768884   4.655299  \n",
       "3    4.375364 -0.823858  0.678742   0.436276   3.939088   4.811641  \n",
       "4    5.775394  1.436275  2.062886   0.379776   5.395618   6.155170  \n",
       "5    7.642821  1.114530  1.242176   0.316080   7.326741   7.958901  \n",
       "6    8.022734  0.273838  0.074987   0.305438   7.717296   8.328172  \n",
       "7    8.366342 -1.358992  1.846860   0.296666   8.069676   8.663008  \n",
       "8    8.699214  0.853277  0.728081   0.289011   8.410202   8.988225  \n",
       "9   10.446130  0.112253  0.012601   0.265006  10.181124  10.711136  \n",
       "10  13.874631  0.402382  0.161911   0.306719  13.567912  14.181350  \n",
       "11  13.976950  1.445717  2.090098   0.309524  13.667425  14.286474  \n",
       "12  14.241406  0.649049  0.421265   0.317091  13.924315  14.558496  \n",
       "13  14.707556 -1.836043  3.371054   0.331455  14.376102  15.039011  \n",
       "14  14.854159 -0.368983  0.136148   0.336222  14.517937  15.190380  \n",
       "15  15.025412 -1.678369  2.816922   0.341930  14.683482  15.367342  \n",
       "16  15.383655  2.652694  7.036785   0.354327  15.029328  15.737983  \n",
       "17  16.765851 -1.197858  1.434864   0.406968  16.358883  17.172820  \n",
       "18  17.431672 -0.242816  0.058960   0.434473  16.997199  17.866145  \n",
       "19  18.403945 -0.068533  0.004697   0.476493  17.927452  18.880438  "
      ]
     },
     "execution_count": 14,
     "metadata": {},
     "output_type": "execute_result"
    }
   ],
   "source": [
    "df = pd.DataFrame({'x': x, 'y':y, 'dx': dx, 'dy': dy, 'x2': x2, 'dxdy': dxdy, 'dx2': dx2,\n",
    "    'y_fit': y_fit, 'res': res, 'res2': res2,\n",
    "    'y_err_fit': y_err_fit, 'y_lo_fit': y_lo_fit, 'y_hi_fit': y_hi_fit})\n",
    "df.to_csv('output/linear_regression.csv')\n",
    "df"
   ]
  },
  {
   "cell_type": "markdown",
   "metadata": {},
   "source": [
    "Implementazione con ```curve_fit```"
   ]
  },
  {
   "cell_type": "code",
   "execution_count": 15,
   "metadata": {},
   "outputs": [
    {
     "data": {
      "image/png": "[encoded data removed]",
      "text/plain": [
       "<Figure size 1000x600 with 1 Axes>"
      ]
     },
     "metadata": {},
     "output_type": "display_data"
    }
   ],
   "source": [
    "from scipy.optimize import curve_fit\n",
    "def model(x, a, b):\n",
    "    return a + b*x\n",
    "par, cov = curve_fit(model, x, y, p0=[0, 1])\n",
    "fig, ax = plt.subplots(figsize=(10, 6))\n",
    "ax.errorbar(x, y, xerr=0, yerr=sigma, marker='o', linestyle='')\n",
    "xs = np.linspace(df.x.values[0], df.x.values[-1], 100)\n",
    "ax.plot(xs, model(xs, *par), label='fit line')\n",
    "ax.set_xlabel('x')\n",
    "ax.set_ylabel('y')\n",
    "fig.show()"
   ]
  },
  {
   "cell_type": "code",
   "execution_count": null,
   "metadata": {},
   "outputs": [],
   "source": []
  }
 ],
 "metadata": {
  "kernelspec": {
   "display_name": "Python 3 (ipykernel)",
   "language": "python",
   "name": "python3"
  },
  "language_info": {
   "codemirror_mode": {
    "name": "ipython",
    "version": 3
   },
   "file_extension": ".py",
   "mimetype": "text/x-python",
   "name": "python",
   "nbconvert_exporter": "python",
   "pygments_lexer": "ipython3",
   "version": "3.11.6"
  }
 },
 "nbformat": 4,
 "nbformat_minor": 4
}
