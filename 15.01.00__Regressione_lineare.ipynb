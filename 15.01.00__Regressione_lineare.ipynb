{
 "cells": [
  {
   "cell_type": "markdown",
   "metadata": {},
   "source": [
    "# Regressione lineare\n",
    "\n",
    "L'applicazione del metodo del minimo $\\chi^2$ è nel caso di una funzione $f$ lineare:\n",
    "\n",
    "$y=f(x;a,b) = a+b\\,x$\n",
    "\n",
    "dobbiamo minimizzare:\n",
    "\n",
    "$\\displaystyle \\chi^2(a,b) = -2\\log p = \\sum_{i=1}^N\\frac{(y_i-a-b\\,x_i)^2}{\\sigma_i^2} + \\text{const.}$\n",
    "\n",
    "che è equivalente a massimizzare la funzione di verosimiglianza $p$.\n",
    "\n",
    "L'equazione sopra è vera *a meno di un termine costante* che non contribuisce alla minimizzazione."
   ]
  },
  {
   "cell_type": "markdown",
   "metadata": {},
   "source": [
    "## Pesi\n",
    "\n",
    "Conviene definire i *persi* $w_i$:\n",
    "\n",
    "$\\displaystyle w_i = \\frac{1/\\sigma_i^2}{1/\\sigma^2}$\n",
    "\n",
    "dove a sua volta $\\sigma$ è definito da:\n",
    "\n",
    "$\\displaystyle \\frac{1}{\\sigma^2} = \\sum_{i=1}^N\\frac{1}{\\sigma_i^2}$\n",
    "\n",
    "Questa scelta garantisce che $\\sum_{i=1}^Nw_i=1$."
   ]
  },
  {
   "cell_type": "markdown",
   "metadata": {},
   "source": [
    "## Minimizzazione del $\\chi^2$\n",
    "\n",
    "Possiamo quindi scrivere:\n",
    "\n",
    "$\\displaystyle \\chi^2(a, b) = \\frac{1}{\\sigma^2}\\sum_{i=1}^Nw_i(y_i-a-b\\,x_i)^2$"
   ]
  },
  {
   "cell_type": "markdown",
   "metadata": {},
   "source": [
    "Si può trovare il minimo di $\\chi^2(a,b)$ in maniera analitica imponendo:\n",
    "\n",
    "$\\displaystyle \\frac{\\partial \\chi^2(a,b)}{\\partial a} = 0$\n",
    "\n",
    "$\\displaystyle \\frac{\\partial \\chi^2(a,b)}{\\partial b} = 0$"
   ]
  },
  {
   "cell_type": "markdown",
   "metadata": {},
   "source": [
    "Le derivate si possono scrivere come:\n",
    "\n",
    "$\\displaystyle \\frac{\\partial \\chi^2(a,b)}{\\partial a} = \\frac{1}{\\sigma^2}\\sum_{i=1}^Nw_i\\frac{\\partial}{\\partial a}(y_i-a-b\\,x_i)^2=\n",
    "-2 \\frac{1}{\\sigma^2}\\sum_{i=1}^Nw_i(y_i-a-b\\,x_i) = \n",
    "\\frac{2}{\\sigma^2}\\left(-\\sum_{i=1}^Nw_i y_i+a+b\\sum_{i=1}^Nw_ix_i\\right)\n",
    "$\n",
    "\n",
    "$\\displaystyle \\frac{\\partial \\chi^2(a,b)}{\\partial b} = \\frac{1}{\\sigma^2}\\sum_{i=1}^N w_i\\frac{\\partial}{\\partial b}(y_i-a-b\\,x_i)^2=\n",
    "-2 \\frac{1}{\\sigma^2}\\sum_{i=1}^Nw_i(y_i-a-b\\,x_i)x_i = \n",
    "\\frac{2}{\\sigma^2}\\left(-\\sum_{i=1}^Nw_i x_i y_i + a\\sum_{i=1}^Nw_ix_i+b\\sum_{i=1}^Nw_ix_i^2\\right)\n",
    "$"
   ]
  },
  {
   "cell_type": "markdown",
   "metadata": {},
   "source": [
    "Possiamo introdurre le *medie pesate* per le quantità $\\alpha_i$, che di volta in volta potranno essere $x_i$, $y_i$, $x_i y_i$, $x_i^2$, ecc.:\n",
    "\n",
    "$\\displaystyle \\left<\\alpha\\right> = \\sum_{i=1}^Nw_i\\alpha_i$"
   ]
  },
  {
   "cell_type": "markdown",
   "metadata": {},
   "source": [
    "Riscriviamo quindi:\n",
    "\n",
    "$\\displaystyle \\frac{\\partial \\chi^2(a,b)}{\\partial a} =\n",
    "\\frac{2}{\\sigma^2}\\left(-\\left<y\\right>+a+b\\left<x\\right>\\right)\n",
    "$\n",
    "\n",
    "$\\displaystyle \\frac{\\partial \\chi^2(a,b)}{\\partial b} = \n",
    "\\frac{2}{\\sigma^2}\\left(-\\left<x y\\right> + a\\left<x\\right>+b\\left<x^2\\right>\\right)\n",
    "$"
   ]
  },
  {
   "cell_type": "markdown",
   "metadata": {},
   "source": [
    "Uguagliando le derivate a zero, si ottiene quindi:\n",
    "\n",
    "$\\displaystyle \\left<y\\right> = a+b\\left<x\\right>$\n",
    "\n",
    "$\\displaystyle \\left<x y\\right> = a\\left<x\\right>  + b\\left<x^2\\right>$"
   ]
  },
  {
   "cell_type": "markdown",
   "metadata": {},
   "source": [
    "In forma matriciale:\n",
    "\n",
    "\n",
    "$\\displaystyle\n",
    "\\left(\\begin{array}{c}\\left<y\\right>\\\\\\left<xy\\right>\\end{array}\n",
    "\\right)=\n",
    "\\left(\\begin{array}{cc} \n",
    "1 & \\left<x\\right> \\\\\n",
    "\\left<x\\right>  & \\left<x^2\\right> \n",
    "\\end{array}\n",
    "\\right)\n",
    "\\left(\\begin{array}{c} a\\\\b\\end{array}\n",
    "\\right)\n",
    "$"
   ]
  },
  {
   "cell_type": "markdown",
   "metadata": {},
   "source": [
    "L'inversione dell'equazione matriciale dà:\n",
    "\n",
    "$\\displaystyle\n",
    "\\left(\\begin{array}{c} a\\\\b\\end{array}\n",
    "\\right)\n",
    "=\n",
    "\\left(\\begin{array}{cc} \n",
    "1 & \\left<x\\right> \\\\\n",
    "\\left<x\\right>  & \\left<x^2\\right> \n",
    "\\end{array}\n",
    "\\right)^{-1}\n",
    "\\left(\\begin{array}{c}\\left<y\\right>\\\\\\left<xy\\right>\\end{array}\n",
    "\\right)\n",
    "$"
   ]
  },
  {
   "cell_type": "markdown",
   "metadata": {},
   "source": [
    "Per calcolare l'inversione consideriamo che:\n",
    "\n",
    "$\\mathrm{det}\\left[C^{-1}\\right] = \\left<x^2\\right> - \\left<x\\right>^2 = \n",
    "\\left<(x - \\left<x\\right>)^2\\right> =\n",
    "\\mathbb{V}\\mathrm{ar}[x]$\n",
    "\n",
    "$\\displaystyle\\left(\\begin{array}{cc} \n",
    "1 & \\left<x\\right> \\\\\n",
    "\\left<x\\right>  & \\left<x^2\\right> \n",
    "\\end{array}\n",
    "\\right)^{-1}\n",
    "=\\frac{1}{\\mathbb{V}\\mathrm{ar}[x]}\n",
    "\\left(\n",
    "\\begin{array}{cc}\n",
    "\\left<x^2\\right> & -\\left<x\\right> \\\\\n",
    "-\\left<x\\right> & 1\n",
    "\\end{array}\n",
    "\\right)\n",
    "$"
   ]
  },
  {
   "cell_type": "markdown",
   "metadata": {},
   "source": [
    "Dopo qualche passaggio:\n",
    "\n",
    "$\\displaystyle b = \\hat{b} = \n",
    "\\frac{\\left<x y\\right>-\\left<x\\right>\\left<y\\right>}{\\mathbb{V}\\mathrm{ar}[x]} =\n",
    "\\frac{\\mathbb{C}\\mathrm{ov}(x, y)}{\\mathbb{V}\\mathrm{ar}[x]}$\n",
    "\n",
    "$a = \\hat{a} = \\left<y\\right> -\\hat{b}\\left<x\\right>$"
   ]
  },
  {
   "cell_type": "markdown",
   "metadata": {},
   "source": [
    "Formule equivalenti sono:\n",
    "\n",
    "$\\displaystyle\\hat{b} = \\frac{\\left<(x-\\left<x\\right>)(y-\\left<y\\right>)\\right>}{\\left<(x-\\left<x\\right>)^2\\right>} =\n",
    "\\frac{\\left<x y\\right>-\\left<x\\right>\\left<y\\right>}{\\left<x^2\\right>-\\left<x\\right>^2} =\n",
    "\\frac{\\mathbb{C}\\mathrm{ov}(x, y)}{\\sigma_x^2}\n",
    "$\n",
    "\n",
    "$\\displaystyle\\hat{a} = \\left<y\\right> - \\hat{b}\\left<x\\right>$"
   ]
  },
  {
   "cell_type": "markdown",
   "metadata": {},
   "source": [
    "## Stima degli errori con la matrice hessiana\n",
    "\n",
    "Gli errori si possono stimare come:\n",
    "\n",
    "$\\displaystyle  \\frac{1}{\\sigma_{\\hat{a}}^2} = -\\frac{\\partial^2 \\log p}{\\partial a^2} = \\frac{1}{2}\\frac{\\partial^2 \\chi^2}{\\partial a^2}$\n",
    "\n",
    "$\\displaystyle  \\frac{1}{\\sigma_{\\hat{b}}^2} = -\\frac{\\partial^2 \\log p}{\\partial b^2} = \\frac{1}{2}\\frac{\\partial^2 \\chi^2}{\\partial b^2}$\n",
    "\n",
    "Questi sono gli elementi diagonali della matrice di covarianza inversa, che ha come elemento non diagonale:\n",
    "\n",
    "$\\displaystyle  C_{ab}^{-1} = -\\frac{\\partial^2 \\log p}{\\partial a\\,\\partial b} = \\frac{1}{2}\\frac{\\partial^2 \\chi^2}{\\partial a\\,\\partial b}$"
   ]
  },
  {
   "cell_type": "markdown",
   "metadata": {},
   "source": [
    "Il calcolo delle derivate seconde si ottiene derivando le derivate prime, riportate di seguto per comodità:\n",
    "\n",
    "$\\displaystyle \\frac{\\partial \\chi^2(a,b)}{\\partial a} =\n",
    "\\frac{2}{\\sigma^2}\\left(\\left<y\\right>+a+b\\left<x\\right>\\right)\n",
    "$\n",
    "\n",
    "$\\displaystyle \\frac{\\partial \\chi^2(a,b)}{\\partial b} = \n",
    "\\frac{2}{\\sigma^2}\\left(-\\left<x y\\right> + a\\left<x\\right>+b\\left<x^2\\right>\\right)\n",
    "$"
   ]
  },
  {
   "cell_type": "markdown",
   "metadata": {},
   "source": [
    "Le derivate seconde sono quindi:\n",
    "\n",
    "$\\displaystyle \\frac{\\partial^2 \\chi^2(a,b)}{\\partial a^2} =\n",
    "\\frac{2}{\\sigma^2}\n",
    "$\n",
    "\n",
    "$\\displaystyle \\frac{\\partial^2 \\chi^2(a,b)}{\\partial b^2} = \n",
    "\\frac{2 \\left<x^2\\right>}{\\sigma^2}\n",
    "$\n",
    "\n",
    "$\\displaystyle \\frac{\\partial^2 \\chi^2(a,b)}{\\partial a\\,\\partial b} =\n",
    "\\frac{2 \\left<x\\right>}{\\sigma^2}\n",
    "$"
   ]
  },
  {
   "cell_type": "markdown",
   "metadata": {},
   "source": [
    "La matrice *inversa* di covarianza è quindi, ricordando il fattore $1/2$ davanti alla derivata seconda del $\\chi^2$:\n",
    "\n",
    "$\\displaystyle C^{-1} = \\frac{1}{\\sigma^2}\\left(\n",
    "\\begin{array}{cc}\n",
    "1 & \\left<x\\right> \\\\\n",
    "\\left<x\\right> & \\left<x^2\\right>\n",
    "\\end{array}\n",
    "\\right)$"
   ]
  },
  {
   "cell_type": "markdown",
   "metadata": {},
   "source": [
    "L'inversione è simile a quanto abbiamo già calcolato in precedenza. La matrice di covarianza è quindi:\n",
    "\n",
    "$\\displaystyle C =\\frac{\\sigma^2}{\\sigma_x^2}\\left(\n",
    "\\begin{array}{cc}\n",
    "\\left<x^2\\right> & - \\left<x\\right> \\\\\n",
    "- \\left<x\\right> & 1\n",
    "\\end{array}\n",
    "\\right)\n",
    "$"
   ]
  },
  {
   "cell_type": "markdown",
   "metadata": {},
   "source": [
    "Procedendo col calcolo si ottiene:\n",
    "\n",
    "$\\displaystyle \\sigma_{\\hat{b}}^2 = \\frac{\\sigma^2}{\\sigma_x^2}$\n",
    "\n",
    "$\\displaystyle \\sigma_{\\hat{a}}^2 = \\frac{\\sigma^2}{\\sigma_x^2} \\left<x^2\\right> = \n",
    "\\sigma_{\\hat{b}}^2 \\left<x^2\\right>\n",
    "$\n",
    "\n",
    "\n",
    "$\\displaystyle \\mathbb{C}\\mathrm{ov}(\\hat{a}, \\hat{b}) = - \\frac{\\sigma^2}{\\sigma_x^2} \\left<x\\right> = \n",
    "- \\sigma_{\\hat{b}}^2\\left<x\\right>\n",
    "$"
   ]
  },
  {
   "cell_type": "markdown",
   "metadata": {},
   "source": [
    "## Stima degli errori dai residui del fit\n",
    "\n",
    "Al posto di $\\sigma^2$ definito in precedenza, si preferisce stimare l'errore medio in base alle effettive deviazioni dei punti sperimentali dalle retta ottenuta dal fit. Si usa quindi, nelle formule precedenti, per gli errori su $\\hat{a}$ e $\\hat{b}$:\n",
    "\n",
    "$\\displaystyle \\hat{\\sigma}^2 = \\frac{1}{N-2}\\sum_{i=1}^Nw_i\\left(y_i -\\hat{y}_i\\right)^2$\n",
    "\n",
    "Dove abbiamo definito $\\hat{y}_i = f(x_i; \\hat{a}, \\hat{b}) = \\hat{a}+\\hat{b}\\, x$, ossia i valori delle $y$ sulla curva interpolata.\n",
    "\n",
    "L'uso di $N-2$ al demonimatore tiene conto del numero di gradi di libertà determinati dal fit, ossia le stime dei parametri $a$ e $b$. In questo modo si evita un possibile **bias**."
   ]
  },
  {
   "cell_type": "markdown",
   "metadata": {},
   "source": [
    "I valori $\\varepsilon_i = y_i -\\hat{y}_i$ prendono il nome di **residui**.\n",
    "\n",
    "Possiamo scrivere quindi:\n",
    "\n",
    "$\\displaystyle \\hat{\\sigma}^2 = \\frac{1}{N-2}\\left<\\varepsilon^2\\right>$"
   ]
  },
  {
   "cell_type": "markdown",
   "metadata": {},
   "source": [
    "<span style=\"color:blue\">Assumento pesi tutti uguali, l'uso di $\\hat{\\sigma}$ permette il calcolo dell'errore sui parametri $\\hat{a}$ e $\\hat{b}$ anche quandi l'errore sulle singole misure $y_i$ non sono noti.</span>"
   ]
  },
  {
   "cell_type": "markdown",
   "metadata": {},
   "source": [
    "<span style=\"color:blue\">Nota: questo calcolo dell'errore è il default nella funzione ```curve_fit``` che già abbiamo usato. Per usare gli errori $\\sigma_i$ anziché l'errore quadratico medio, bisogna abilitare l'opzione ```absolute_sigma```, che di default è ```False```."
   ]
  },
  {
   "cell_type": "markdown",
   "metadata": {},
   "source": [
    "## Il Coefficiente di determinazione $R^2$\n",
    "\n",
    "È poco usato in fisica, ma si trova in diverse liberie il **coefficiente di determinazione** $R^2$ che è definito come:\n",
    "\n",
    "$\\displaystyle R^2 = \\frac{\\sum_{i=1}^N(\\hat{y}_i-\\left<y\\right>)^2}{\\sum_{i=1}^N(y_i-\\left<y\\right>)^2}$\n",
    "\n",
    "$R^2$ varia tra 0 e 1 e talvolta è espresso come percentuale.\n",
    "\n",
    "$R^2=1$ corrisponde a punti totalmente allineati sulla curva (deve essere $\\hat{y}_i = y_i$), mentre $R^2=0$ corrisponde ad una retta perfettamente orizzontale, per cui la curva stimata prevede che $y$ sia insensibile ad $x$."
   ]
  },
  {
   "cell_type": "code",
   "execution_count": 1,
   "metadata": {},
   "outputs": [],
   "source": [
    "import math\n",
    "import numpy as np\n",
    "import matplotlib.pyplot as plt\n",
    "import pandas as pd\n",
    "from scipy import stats"
   ]
  },
  {
   "cell_type": "markdown",
   "metadata": {},
   "source": [
    "Generiamo una sequenza di punti allineati lungo una linea con dispersione verticale generata in modo gaussiano"
   ]
  },
  {
   "cell_type": "code",
   "execution_count": 2,
   "metadata": {},
   "outputs": [
    {
     "data": {
      "image/png": "[encoded data removed]",
      "text/plain": [
       "<Figure size 1000x600 with 1 Axes>"
      ]
     },
     "metadata": {},
     "output_type": "display_data"
    }
   ],
   "source": [
    "n_points = 20\n",
    "x_min = 0.0; x_max = 10.0\n",
    "sigma = 1.5\n",
    "a0 = 3.0; b0 = 1.5\n",
    "x = np.sort(np.random.uniform(x_min, x_max, size=n_points))\n",
    "y = np.random.normal(a0 + x*b0, sigma)\n",
    "plt.figure(figsize=(10, 6))\n",
    "plt.errorbar(x, y, yerr=sigma, fmt='o')\n",
    "plt.xlabel('x')\n",
    "plt.ylabel('y')\n",
    "plt.show()"
   ]
  },
  {
   "cell_type": "markdown",
   "metadata": {},
   "source": [
    "Calcolo della media di $x$ e $y$ e dei vettori con le deviazioni"
   ]
  },
  {
   "cell_type": "code",
   "execution_count": 3,
   "metadata": {},
   "outputs": [],
   "source": [
    "x_mean, y_mean = x.mean(), y.mean()\n",
    "dx, dy = x - x_mean, y - y_mean\n",
    "dxdy = dx*dy; dx2 = dx*dx"
   ]
  },
  {
   "cell_type": "markdown",
   "metadata": {},
   "source": [
    "Calcolo dei coefficienti del fit"
   ]
  },
  {
   "cell_type": "code",
   "execution_count": 4,
   "metadata": {},
   "outputs": [
    {
     "name": "stdout",
     "output_type": "stream",
     "text": [
      "a, b = 3.4658, 1.4209\n"
     ]
    }
   ],
   "source": [
    "dxdy_mean, dx2_mean = dxdy.mean(), dx2.mean()\n",
    "b_fit = dxdy_mean/dx2_mean\n",
    "a_fit = y_mean - b_fit*x_mean\n",
    "print(\"a, b = {:.4f}, {:.4f}\".format(a_fit, b_fit))\n",
    "def fit_line(x):\n",
    "    return a_fit + x*b_fit"
   ]
  },
  {
   "cell_type": "code",
   "execution_count": 5,
   "metadata": {},
   "outputs": [
    {
     "data": {
      "image/png": "[encoded data removed]",
      "text/plain": [
       "<Figure size 1000x600 with 1 Axes>"
      ]
     },
     "metadata": {},
     "output_type": "display_data"
    }
   ],
   "source": [
    "plt.figure(figsize=(10, 6))\n",
    "plt.errorbar(x, y, yerr=sigma, fmt='o')\n",
    "plt.plot([x_min,x_max],[fit_line(x_min), fit_line(x_max)])\n",
    "plt.xlabel('x')\n",
    "plt.ylabel('y')\n",
    "plt.show()"
   ]
  },
  {
   "cell_type": "markdown",
   "metadata": {},
   "source": [
    "Calcolo dei valori interpolati e dei residui"
   ]
  },
  {
   "cell_type": "code",
   "execution_count": 6,
   "metadata": {},
   "outputs": [],
   "source": [
    "y_fit = fit_line(x)\n",
    "res = y - y_fit\n",
    "res2 = res*res"
   ]
  },
  {
   "cell_type": "markdown",
   "metadata": {},
   "source": [
    "Calcoliamo la stima degli errori. Il significato del $p$-value sarà definito nelle prossime lezioni."
   ]
  },
  {
   "cell_type": "code",
   "execution_count": 7,
   "metadata": {},
   "outputs": [
    {
     "name": "stdout",
     "output_type": "stream",
     "text": [
      "b = 1.421 ± 0.114\n",
      "a = 3.466 ± 0.689\n",
      "cov(a,b) = -0.06885694\n",
      "chi^2 = 17.280/18 ndof\n",
      "p = 0.504\n"
     ]
    }
   ],
   "source": [
    "x2 = x*x\n",
    "x2_mean = x2.mean()\n",
    "res2_mean = res2.mean()\n",
    "chi2 = res2_mean*n_points/(sigma*sigma)\n",
    "ndof = n_points-2\n",
    "var_b = res2_mean/dx2_mean/(n_points-2)\n",
    "var_a = var_b*x2_mean\n",
    "cov_ab = -var_b*x_mean\n",
    "err_b = math.sqrt(var_b)\n",
    "err_a = math.sqrt(var_a)\n",
    "print('b = {:.3f} ± {:.3f}'.format(b_fit, err_b))\n",
    "print('a = {:.3f} ± {:.3f}'.format(a_fit, err_a))\n",
    "print('cov(a,b) = {:.8f}'.format(cov_ab))\n",
    "print('chi^2 = {:.3f}/{:d} ndof'.format(chi2, ndof))\n",
    "print('p = {:.3f}'.format(1 - stats.chi2.cdf(chi2, ndof)))"
   ]
  },
  {
   "cell_type": "markdown",
   "metadata": {},
   "source": [
    "Confrontiamo con [```scipy.stats.linregress```](https://docs.scipy.org/doc/scipy/reference/generated/scipy.stats.linregress.html).\n",
    "\n",
    "<span style=\"color: blue\">Da notare che il $p$-value è relativo all'ipotesi che la pendenza sia zero, non è relativo al $\\chi^2$ del fit. Non va quindi confrontato con il precedente. Il significato del $p$-value sarà più chiaro nelle prossime lezioni.</span>\n",
    "\n",
    "<span style=\"color: red\">La funzione non implementa fit pesati.</span>"
   ]
  },
  {
   "cell_type": "code",
   "execution_count": 8,
   "metadata": {},
   "outputs": [
    {
     "name": "stdout",
     "output_type": "stream",
     "text": [
      "b =  1.4208760165789371\n",
      "a =  3.4658119226666315\n",
      "err =  0.11376443297417953\n",
      "R^2 =  0.8965463329745875\n",
      "p =  2.643793008706248e-10\n"
     ]
    }
   ],
   "source": [
    "slope, intercept, r_value, p_value, std_err = stats.linregress(x, y)\n",
    "print('b = ', slope)\n",
    "print('a = ', intercept)\n",
    "print('err = ', std_err)\n",
    "print('R^2 = ', r_value*r_value)\n",
    "print('p = ', p_value)"
   ]
  },
  {
   "cell_type": "markdown",
   "metadata": {},
   "source": [
    "Propagazione degli errori su $a$ e $b$, considerando il coefficiente di covarianza:\n",
    "\n",
    "$y = a + b x$\n",
    "\n",
    "$\\sigma_y^2 = \\sigma_a^2 + 2x\\,\\mathrm{cov}(a,b) + x^2\\sigma_b^2$"
   ]
  },
  {
   "cell_type": "code",
   "execution_count": 9,
   "metadata": {},
   "outputs": [],
   "source": [
    "y_err_fit = np.sqrt(var_a + 2*x*cov_ab + x2*var_b)\n",
    "y_lo_fit = y_fit - y_err_fit\n",
    "y_hi_fit = y_fit + y_err_fit"
   ]
  },
  {
   "cell_type": "code",
   "execution_count": 10,
   "metadata": {},
   "outputs": [
    {
     "data": {
      "image/png": "[encoded data removed]",
      "text/plain": [
       "<Figure size 1000x600 with 1 Axes>"
      ]
     },
     "metadata": {},
     "output_type": "display_data"
    }
   ],
   "source": [
    "plt.figure(figsize=(10, 6))\n",
    "plt.fill_between(x, y_lo_fit, y_hi_fit, facecolor='orange')\n",
    "plt.errorbar(x, y, yerr=sigma, fmt='o')\n",
    "plt.plot([x_min,x_max],[fit_line(x_min), fit_line(x_max)], color='darkred')\n",
    "plt.xlabel('x')\n",
    "plt.ylabel('y')\n",
    "plt.show()"
   ]
  },
  {
   "cell_type": "markdown",
   "metadata": {},
   "source": [
    "Possiamo costruzione un ```DataFrame``` pandas per visualizzazione della tabella e salvarlo in formato csv per poterlo importare in un foglio di calcolo."
   ]
  },
  {
   "cell_type": "code",
   "execution_count": 11,
   "metadata": {},
   "outputs": [
    {
     "data": {
      "text/html": [
       "<div>\n",
       "<style scoped>\n",
       "    .dataframe tbody tr th:only-of-type {\n",
       "        vertical-align: middle;\n",
       "    }\n",
       "\n",
       "    .dataframe tbody tr th {\n",
       "        vertical-align: top;\n",
       "    }\n",
       "\n",
       "    .dataframe thead th {\n",
       "        text-align: right;\n",
       "    }\n",
       "</style>\n",
       "<table border=\"1\" class=\"dataframe\">\n",
       "  <thead>\n",
       "    <tr style=\"text-align: right;\">\n",
       "      <th></th>\n",
       "      <th>x</th>\n",
       "      <th>y</th>\n",
       "      <th>dx</th>\n",
       "      <th>dy</th>\n",
       "      <th>x2</th>\n",
       "      <th>dxdy</th>\n",
       "      <th>dx2</th>\n",
       "      <th>y_fit</th>\n",
       "      <th>res</th>\n",
       "      <th>res2</th>\n",
       "      <th>y_err_fit</th>\n",
       "      <th>y_lo_fit</th>\n",
       "      <th>y_hi_fit</th>\n",
       "    </tr>\n",
       "  </thead>\n",
       "  <tbody>\n",
       "    <tr>\n",
       "      <th>0</th>\n",
       "      <td>0.367406</td>\n",
       "      <td>4.686044</td>\n",
       "      <td>-4.952876</td>\n",
       "      <td>-6.339230</td>\n",
       "      <td>0.134988</td>\n",
       "      <td>31.397424</td>\n",
       "      <td>24.530985</td>\n",
       "      <td>3.987851</td>\n",
       "      <td>0.698193</td>\n",
       "      <td>0.487474</td>\n",
       "      <td>0.652295</td>\n",
       "      <td>3.335556</td>\n",
       "      <td>4.640146</td>\n",
       "    </tr>\n",
       "    <tr>\n",
       "      <th>1</th>\n",
       "      <td>1.141102</td>\n",
       "      <td>4.113877</td>\n",
       "      <td>-4.179181</td>\n",
       "      <td>-6.911397</td>\n",
       "      <td>1.302114</td>\n",
       "      <td>28.883980</td>\n",
       "      <td>17.465552</td>\n",
       "      <td>5.087176</td>\n",
       "      <td>-0.973300</td>\n",
       "      <td>0.947312</td>\n",
       "      <td>0.577967</td>\n",
       "      <td>4.509209</td>\n",
       "      <td>5.665143</td>\n",
       "    </tr>\n",
       "    <tr>\n",
       "      <th>2</th>\n",
       "      <td>1.460556</td>\n",
       "      <td>5.587524</td>\n",
       "      <td>-3.859727</td>\n",
       "      <td>-5.437750</td>\n",
       "      <td>2.133223</td>\n",
       "      <td>20.988232</td>\n",
       "      <td>14.897495</td>\n",
       "      <td>5.541080</td>\n",
       "      <td>0.046444</td>\n",
       "      <td>0.002157</td>\n",
       "      <td>0.548461</td>\n",
       "      <td>4.992620</td>\n",
       "      <td>6.089541</td>\n",
       "    </tr>\n",
       "    <tr>\n",
       "      <th>3</th>\n",
       "      <td>1.510051</td>\n",
       "      <td>2.889650</td>\n",
       "      <td>-3.810231</td>\n",
       "      <td>-8.135625</td>\n",
       "      <td>2.280255</td>\n",
       "      <td>30.998613</td>\n",
       "      <td>14.517863</td>\n",
       "      <td>5.611408</td>\n",
       "      <td>-2.721758</td>\n",
       "      <td>7.407968</td>\n",
       "      <td>0.543963</td>\n",
       "      <td>5.067445</td>\n",
       "      <td>6.155371</td>\n",
       "    </tr>\n",
       "    <tr>\n",
       "      <th>4</th>\n",
       "      <td>1.819152</td>\n",
       "      <td>8.577553</td>\n",
       "      <td>-3.501131</td>\n",
       "      <td>-2.447721</td>\n",
       "      <td>3.309312</td>\n",
       "      <td>8.569792</td>\n",
       "      <td>12.257920</td>\n",
       "      <td>6.050601</td>\n",
       "      <td>2.526953</td>\n",
       "      <td>6.385490</td>\n",
       "      <td>0.516379</td>\n",
       "      <td>5.534222</td>\n",
       "      <td>6.566979</td>\n",
       "    </tr>\n",
       "    <tr>\n",
       "      <th>5</th>\n",
       "      <td>3.788089</td>\n",
       "      <td>9.442634</td>\n",
       "      <td>-1.532194</td>\n",
       "      <td>-1.582640</td>\n",
       "      <td>14.349615</td>\n",
       "      <td>2.424912</td>\n",
       "      <td>2.347619</td>\n",
       "      <td>8.848216</td>\n",
       "      <td>0.594418</td>\n",
       "      <td>0.353333</td>\n",
       "      <td>0.372000</td>\n",
       "      <td>8.476216</td>\n",
       "      <td>9.220217</td>\n",
       "    </tr>\n",
       "    <tr>\n",
       "      <th>6</th>\n",
       "      <td>3.834596</td>\n",
       "      <td>9.644235</td>\n",
       "      <td>-1.485687</td>\n",
       "      <td>-1.381039</td>\n",
       "      <td>14.704128</td>\n",
       "      <td>2.051791</td>\n",
       "      <td>2.207265</td>\n",
       "      <td>8.914298</td>\n",
       "      <td>0.729938</td>\n",
       "      <td>0.532809</td>\n",
       "      <td>0.369551</td>\n",
       "      <td>8.544747</td>\n",
       "      <td>9.283848</td>\n",
       "    </tr>\n",
       "    <tr>\n",
       "      <th>7</th>\n",
       "      <td>4.157056</td>\n",
       "      <td>10.058217</td>\n",
       "      <td>-1.163227</td>\n",
       "      <td>-0.967058</td>\n",
       "      <td>17.281115</td>\n",
       "      <td>1.124907</td>\n",
       "      <td>1.353097</td>\n",
       "      <td>9.372473</td>\n",
       "      <td>0.685744</td>\n",
       "      <td>0.470244</td>\n",
       "      <td>0.354278</td>\n",
       "      <td>9.018195</td>\n",
       "      <td>9.726751</td>\n",
       "    </tr>\n",
       "    <tr>\n",
       "      <th>8</th>\n",
       "      <td>5.385601</td>\n",
       "      <td>10.233342</td>\n",
       "      <td>0.065318</td>\n",
       "      <td>-0.791932</td>\n",
       "      <td>29.004694</td>\n",
       "      <td>-0.051727</td>\n",
       "      <td>0.004266</td>\n",
       "      <td>11.118083</td>\n",
       "      <td>-0.884741</td>\n",
       "      <td>0.782766</td>\n",
       "      <td>0.328718</td>\n",
       "      <td>10.789364</td>\n",
       "      <td>11.446801</td>\n",
       "    </tr>\n",
       "    <tr>\n",
       "      <th>9</th>\n",
       "      <td>5.476822</td>\n",
       "      <td>11.397894</td>\n",
       "      <td>0.156539</td>\n",
       "      <td>0.372620</td>\n",
       "      <td>29.995581</td>\n",
       "      <td>0.058330</td>\n",
       "      <td>0.024505</td>\n",
       "      <td>11.247697</td>\n",
       "      <td>0.150197</td>\n",
       "      <td>0.022559</td>\n",
       "      <td>0.329117</td>\n",
       "      <td>10.918581</td>\n",
       "      <td>11.576814</td>\n",
       "    </tr>\n",
       "    <tr>\n",
       "      <th>10</th>\n",
       "      <td>5.886430</td>\n",
       "      <td>13.230077</td>\n",
       "      <td>0.566147</td>\n",
       "      <td>2.204803</td>\n",
       "      <td>34.650058</td>\n",
       "      <td>1.248243</td>\n",
       "      <td>0.320523</td>\n",
       "      <td>11.829699</td>\n",
       "      <td>1.400378</td>\n",
       "      <td>1.961058</td>\n",
       "      <td>0.334886</td>\n",
       "      <td>11.494813</td>\n",
       "      <td>12.164586</td>\n",
       "    </tr>\n",
       "    <tr>\n",
       "      <th>11</th>\n",
       "      <td>6.037479</td>\n",
       "      <td>11.594590</td>\n",
       "      <td>0.717196</td>\n",
       "      <td>0.569315</td>\n",
       "      <td>36.451149</td>\n",
       "      <td>0.408311</td>\n",
       "      <td>0.514370</td>\n",
       "      <td>12.044321</td>\n",
       "      <td>-0.449731</td>\n",
       "      <td>0.202258</td>\n",
       "      <td>0.338611</td>\n",
       "      <td>11.705709</td>\n",
       "      <td>12.382932</td>\n",
       "    </tr>\n",
       "    <tr>\n",
       "      <th>12</th>\n",
       "      <td>7.015521</td>\n",
       "      <td>12.039764</td>\n",
       "      <td>1.695238</td>\n",
       "      <td>1.014489</td>\n",
       "      <td>49.217536</td>\n",
       "      <td>1.719801</td>\n",
       "      <td>2.873833</td>\n",
       "      <td>13.433998</td>\n",
       "      <td>-1.394234</td>\n",
       "      <td>1.943888</td>\n",
       "      <td>0.381044</td>\n",
       "      <td>13.052953</td>\n",
       "      <td>13.815042</td>\n",
       "    </tr>\n",
       "    <tr>\n",
       "      <th>13</th>\n",
       "      <td>7.033216</td>\n",
       "      <td>13.110932</td>\n",
       "      <td>1.712933</td>\n",
       "      <td>2.085658</td>\n",
       "      <td>49.466131</td>\n",
       "      <td>3.572593</td>\n",
       "      <td>2.934141</td>\n",
       "      <td>13.459140</td>\n",
       "      <td>-0.348208</td>\n",
       "      <td>0.121249</td>\n",
       "      <td>0.382067</td>\n",
       "      <td>13.077073</td>\n",
       "      <td>13.841207</td>\n",
       "    </tr>\n",
       "    <tr>\n",
       "      <th>14</th>\n",
       "      <td>7.100232</td>\n",
       "      <td>13.276014</td>\n",
       "      <td>1.779949</td>\n",
       "      <td>2.250739</td>\n",
       "      <td>50.413299</td>\n",
       "      <td>4.006202</td>\n",
       "      <td>3.168220</td>\n",
       "      <td>13.554362</td>\n",
       "      <td>-0.278348</td>\n",
       "      <td>0.077478</td>\n",
       "      <td>0.386011</td>\n",
       "      <td>13.168350</td>\n",
       "      <td>13.940373</td>\n",
       "    </tr>\n",
       "    <tr>\n",
       "      <th>15</th>\n",
       "      <td>7.471598</td>\n",
       "      <td>13.979760</td>\n",
       "      <td>2.151315</td>\n",
       "      <td>2.954486</td>\n",
       "      <td>55.824775</td>\n",
       "      <td>6.356030</td>\n",
       "      <td>4.628156</td>\n",
       "      <td>14.082026</td>\n",
       "      <td>-0.102266</td>\n",
       "      <td>0.010458</td>\n",
       "      <td>0.409756</td>\n",
       "      <td>13.672270</td>\n",
       "      <td>14.491782</td>\n",
       "    </tr>\n",
       "    <tr>\n",
       "      <th>16</th>\n",
       "      <td>8.544147</td>\n",
       "      <td>12.164201</td>\n",
       "      <td>3.223864</td>\n",
       "      <td>1.138926</td>\n",
       "      <td>73.002452</td>\n",
       "      <td>3.671744</td>\n",
       "      <td>10.393302</td>\n",
       "      <td>15.605986</td>\n",
       "      <td>-3.441785</td>\n",
       "      <td>11.845886</td>\n",
       "      <td>0.492457</td>\n",
       "      <td>15.113528</td>\n",
       "      <td>16.098443</td>\n",
       "    </tr>\n",
       "    <tr>\n",
       "      <th>17</th>\n",
       "      <td>8.613853</td>\n",
       "      <td>17.252902</td>\n",
       "      <td>3.293570</td>\n",
       "      <td>6.227628</td>\n",
       "      <td>74.198462</td>\n",
       "      <td>20.511128</td>\n",
       "      <td>10.847604</td>\n",
       "      <td>15.705029</td>\n",
       "      <td>1.547873</td>\n",
       "      <td>2.395911</td>\n",
       "      <td>0.498391</td>\n",
       "      <td>15.206638</td>\n",
       "      <td>16.203420</td>\n",
       "    </tr>\n",
       "    <tr>\n",
       "      <th>18</th>\n",
       "      <td>9.858123</td>\n",
       "      <td>19.069230</td>\n",
       "      <td>4.537840</td>\n",
       "      <td>8.043955</td>\n",
       "      <td>97.182582</td>\n",
       "      <td>36.502181</td>\n",
       "      <td>20.591990</td>\n",
       "      <td>17.472982</td>\n",
       "      <td>1.596248</td>\n",
       "      <td>2.548007</td>\n",
       "      <td>0.611972</td>\n",
       "      <td>16.861010</td>\n",
       "      <td>18.084954</td>\n",
       "    </tr>\n",
       "    <tr>\n",
       "      <th>19</th>\n",
       "      <td>9.904627</td>\n",
       "      <td>18.157047</td>\n",
       "      <td>4.584344</td>\n",
       "      <td>7.131772</td>\n",
       "      <td>98.101639</td>\n",
       "      <td>32.694500</td>\n",
       "      <td>21.016213</td>\n",
       "      <td>17.539059</td>\n",
       "      <td>0.617988</td>\n",
       "      <td>0.381909</td>\n",
       "      <td>0.616441</td>\n",
       "      <td>16.922618</td>\n",
       "      <td>18.155500</td>\n",
       "    </tr>\n",
       "  </tbody>\n",
       "</table>\n",
       "</div>"
      ],
      "text/plain": [
       "           x          y        dx        dy         x2       dxdy        dx2  \\\n",
       "0   0.367406   4.686044 -4.952876 -6.339230   0.134988  31.397424  24.530985   \n",
       "1   1.141102   4.113877 -4.179181 -6.911397   1.302114  28.883980  17.465552   \n",
       "2   1.460556   5.587524 -3.859727 -5.437750   2.133223  20.988232  14.897495   \n",
       "3   1.510051   2.889650 -3.810231 -8.135625   2.280255  30.998613  14.517863   \n",
       "4   1.819152   8.577553 -3.501131 -2.447721   3.309312   8.569792  12.257920   \n",
       "5   3.788089   9.442634 -1.532194 -1.582640  14.349615   2.424912   2.347619   \n",
       "6   3.834596   9.644235 -1.485687 -1.381039  14.704128   2.051791   2.207265   \n",
       "7   4.157056  10.058217 -1.163227 -0.967058  17.281115   1.124907   1.353097   \n",
       "8   5.385601  10.233342  0.065318 -0.791932  29.004694  -0.051727   0.004266   \n",
       "9   5.476822  11.397894  0.156539  0.372620  29.995581   0.058330   0.024505   \n",
       "10  5.886430  13.230077  0.566147  2.204803  34.650058   1.248243   0.320523   \n",
       "11  6.037479  11.594590  0.717196  0.569315  36.451149   0.408311   0.514370   \n",
       "12  7.015521  12.039764  1.695238  1.014489  49.217536   1.719801   2.873833   \n",
       "13  7.033216  13.110932  1.712933  2.085658  49.466131   3.572593   2.934141   \n",
       "14  7.100232  13.276014  1.779949  2.250739  50.413299   4.006202   3.168220   \n",
       "15  7.471598  13.979760  2.151315  2.954486  55.824775   6.356030   4.628156   \n",
       "16  8.544147  12.164201  3.223864  1.138926  73.002452   3.671744  10.393302   \n",
       "17  8.613853  17.252902  3.293570  6.227628  74.198462  20.511128  10.847604   \n",
       "18  9.858123  19.069230  4.537840  8.043955  97.182582  36.502181  20.591990   \n",
       "19  9.904627  18.157047  4.584344  7.131772  98.101639  32.694500  21.016213   \n",
       "\n",
       "        y_fit       res       res2  y_err_fit   y_lo_fit   y_hi_fit  \n",
       "0    3.987851  0.698193   0.487474   0.652295   3.335556   4.640146  \n",
       "1    5.087176 -0.973300   0.947312   0.577967   4.509209   5.665143  \n",
       "2    5.541080  0.046444   0.002157   0.548461   4.992620   6.089541  \n",
       "3    5.611408 -2.721758   7.407968   0.543963   5.067445   6.155371  \n",
       "4    6.050601  2.526953   6.385490   0.516379   5.534222   6.566979  \n",
       "5    8.848216  0.594418   0.353333   0.372000   8.476216   9.220217  \n",
       "6    8.914298  0.729938   0.532809   0.369551   8.544747   9.283848  \n",
       "7    9.372473  0.685744   0.470244   0.354278   9.018195   9.726751  \n",
       "8   11.118083 -0.884741   0.782766   0.328718  10.789364  11.446801  \n",
       "9   11.247697  0.150197   0.022559   0.329117  10.918581  11.576814  \n",
       "10  11.829699  1.400378   1.961058   0.334886  11.494813  12.164586  \n",
       "11  12.044321 -0.449731   0.202258   0.338611  11.705709  12.382932  \n",
       "12  13.433998 -1.394234   1.943888   0.381044  13.052953  13.815042  \n",
       "13  13.459140 -0.348208   0.121249   0.382067  13.077073  13.841207  \n",
       "14  13.554362 -0.278348   0.077478   0.386011  13.168350  13.940373  \n",
       "15  14.082026 -0.102266   0.010458   0.409756  13.672270  14.491782  \n",
       "16  15.605986 -3.441785  11.845886   0.492457  15.113528  16.098443  \n",
       "17  15.705029  1.547873   2.395911   0.498391  15.206638  16.203420  \n",
       "18  17.472982  1.596248   2.548007   0.611972  16.861010  18.084954  \n",
       "19  17.539059  0.617988   0.381909   0.616441  16.922618  18.155500  "
      ]
     },
     "execution_count": 11,
     "metadata": {},
     "output_type": "execute_result"
    }
   ],
   "source": [
    "df = pd.DataFrame({'x': x, 'y':y, 'dx': dx, 'dy': dy, 'x2': x2, 'dxdy': dxdy, 'dx2': dx2,\n",
    "    'y_fit': y_fit, 'res': res, 'res2': res2,\n",
    "    'y_err_fit': y_err_fit, 'y_lo_fit': y_lo_fit, 'y_hi_fit': y_hi_fit})\n",
    "df.to_csv('output/linear_regression.csv')\n",
    "df"
   ]
  },
  {
   "cell_type": "markdown",
   "metadata": {},
   "source": [
    "Implementazione con ```curve_fit```"
   ]
  },
  {
   "cell_type": "code",
   "execution_count": 13,
   "metadata": {},
   "outputs": [
    {
     "data": {
      "image/png": "[encoded data removed]",
      "text/plain": [
       "<Figure size 1000x600 with 1 Axes>"
      ]
     },
     "metadata": {},
     "output_type": "display_data"
    }
   ],
   "source": [
    "from scipy.optimize import curve_fit\n",
    "def model(x, a, b):\n",
    "    return a + b*x\n",
    "par, cov = curve_fit(model, x, y, p0=[0, 1])\n",
    "fig, ax = plt.subplots(figsize=(10, 6))\n",
    "ax.errorbar(x, y, xerr=0, yerr=sigma, marker='o', linestyle='')\n",
    "xs = np.linspace(df.x.values[0], df.x.values[-1], 100)\n",
    "ax.plot(xs, model(xs, *par), label='fit line')\n",
    "ax.set_xlabel('x')\n",
    "ax.set_ylabel('y')\n",
    "fig.show()"
   ]
  },
  {
   "cell_type": "code",
   "execution_count": null,
   "metadata": {},
   "outputs": [],
   "source": []
  }
 ],
 "metadata": {
  "kernelspec": {
   "display_name": "Python 3 (ipykernel)",
   "language": "python",
   "name": "python3"
  },
  "language_info": {
   "codemirror_mode": {
    "name": "ipython",
    "version": 3
   },
   "file_extension": ".py",
   "mimetype": "text/x-python",
   "name": "python",
   "nbconvert_exporter": "python",
   "pygments_lexer": "ipython3",
   "version": "3.11.6"
  }
 },
 "nbformat": 4,
 "nbformat_minor": 4
}
