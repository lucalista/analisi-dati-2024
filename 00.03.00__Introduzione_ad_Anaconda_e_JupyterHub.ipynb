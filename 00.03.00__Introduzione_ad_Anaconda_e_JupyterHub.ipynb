{
 "cells": [
  {
   "cell_type": "markdown",
   "metadata": {},
   "source": [
    "# Sviluppare con python in ambiente JupyterLab"
   ]
  },
  {
   "cell_type": "markdown",
   "metadata": {},
   "source": [
    "Come state vedendo, le lezioni sono preparate in formato jupyter notebook. Questo formato è supportato da diverse recenti piattaforme di sviluppo."
   ]
  },
  {
   "cell_type": "markdown",
   "metadata": {},
   "source": [
    "Esistono diversi sistemi gratuiti per sviluppare in rete, tra i quali quelli del [progetto jupyter](https://jupyter.org/).\n",
    "\n",
    "<img style=\"width: 150px;\" src=\"img/jupyter-logo.png\">\n",
    "\n",
    "In genere, però, a meno di non avere risorse di calcolo dedicate, questi sistemi possono essere abbastanza lenti."
   ]
  },
  {
   "cell_type": "markdown",
   "metadata": {},
   "source": [
    "Anche Google fornisce una piattaforma di sviluppo python, [colab](https://colab.research.google.com). Le risorse di calcolo sono disponibili direttamente in rete.\n",
    "\n",
    "<img style=\"width: 300px;\" src=\"img/colab-logo.png\">"
   ]
  },
  {
   "cell_type": "markdown",
   "metadata": {},
   "source": [
    "Il sistema che vi suggerisco di usare da casa è:\n",
    "\n",
    "<img style=\"width: 400px;\" src=\"img/anaconda-logo.png\">\n",
    "Anaconda (individual edition) fornisce il supporto locale per sviluppare python in ambiente Jupyter Hub\n",
    "\n",
    "* [Anaconda individual ed.](https://www.anaconda.com/products/individual)"
   ]
  },
  {
   "cell_type": "markdown",
   "metadata": {},
   "source": [
    "Per installare Anaconda:\n",
    "1. scaricare la versione per la propria piattaforma (>400MB; il download può richiedere un po' di tempo...)\n",
    "* installare il software  "
   ]
  },
  {
   "cell_type": "markdown",
   "metadata": {},
   "source": [
    "Per cominciare a sviluppare:\n",
    "1. avviare Anaconda navigator\n",
    "* far partire l'ambiente jupyter notebook o jupyter lab (richiede un browser web)\n",
    "* cerare un nuovo notebook python 3 (menu *New*)"
   ]
  },
  {
   "cell_type": "markdown",
   "metadata": {},
   "source": [
    "# Jupyter Notebook\n",
    "\n",
    "Lezioni, esempi e progetti useranno il formato jupyter notebook, come questo file.\n",
    "\n",
    "Trovate una serie di link utili sotto il menu 'Help'.\n",
    "\n",
    "Come al solito, cercare in rete può dare rapidamente risposta a gran parte delle domande teniche."
   ]
  },
  {
   "cell_type": "markdown",
   "metadata": {},
   "source": [
    "# LaTeX"
   ]
  },
  {
   "cell_type": "markdown",
   "metadata": {},
   "source": [
    "$$ A = \\int f(x)\\,\\mathrm{d}x$$"
   ]
  },
  {
   "cell_type": "markdown",
   "metadata": {},
   "source": [
    "# Codice python"
   ]
  },
  {
   "cell_type": "code",
   "execution_count": 5,
   "metadata": {},
   "outputs": [
    {
     "name": "stdout",
     "output_type": "stream",
     "text": [
      "0\n",
      "1\n",
      "2\n",
      "3\n",
      "4\n",
      "5\n",
      "6\n",
      "7\n",
      "8\n",
      "9\n"
     ]
    }
   ],
   "source": [
    "for j in range(10):\n",
    "    print(j)"
   ]
  },
  {
   "cell_type": "markdown",
   "metadata": {},
   "source": [
    "# Moduli python\n",
    "\n",
    "Per utilizzare librerie python che fornsicono funzionalità utili, sarà necessario includere [**moduli**](https://docs.python.org/3/tutorial/modules.html) python.\n",
    "\n",
    "Non tutti i moduli che useremo *sono installati di defaut*. Quindi l'import può fallire:"
   ]
  },
  {
   "cell_type": "code",
   "execution_count": 6,
   "metadata": {},
   "outputs": [
    {
     "ename": "ModuleNotFoundError",
     "evalue": "No module named 'unknown_module'",
     "output_type": "error",
     "traceback": [
      "\u001b[0;31m---------------------------------------------------------------------------\u001b[0m",
      "\u001b[0;31mModuleNotFoundError\u001b[0m                       Traceback (most recent call last)",
      "Cell \u001b[0;32mIn[6], line 1\u001b[0m\n\u001b[0;32m----> 1\u001b[0m \u001b[38;5;28;01mimport\u001b[39;00m \u001b[38;5;21;01munknown_module\u001b[39;00m\n",
      "\u001b[0;31mModuleNotFoundError\u001b[0m: No module named 'unknown_module'"
     ]
    }
   ],
   "source": [
    "import unknown_module"
   ]
  },
  {
   "cell_type": "markdown",
   "metadata": {},
   "source": [
    "Per installare un nuovo modulo si può procedere usando l'interfaccia grafica di Anaconda:\n",
    "\n",
    "1. andare nella sezione \"Environment\" nel menu a sinistra\n",
    "* selezionare nel menu in alto \"Not installed\"\n",
    "* cercare il pacchetto di interesse, ad esempio ```iminuit```, che useremo in seguito\n",
    "* se il pacchetto non appare, provare a cliccare su \"Update index...\"\n",
    "* se ancora non c'è, verficare che non sia già tra i pacchetti \"Installed\"\n",
    "* una volta trovato il pacchetto, cliccare la box\n",
    "* in basso a destra cliccare \"Apply\"\n",
    "\n",
    "Il pacchetto verrà scaricato, apparirà tra quelli \"Installed\", e sarà usabile all'interno dei notebook."
   ]
  },
  {
   "cell_type": "markdown",
   "metadata": {},
   "source": [
    "Il comando ```import``` dal notebook non darà più errore:"
   ]
  },
  {
   "cell_type": "code",
   "execution_count": 7,
   "metadata": {},
   "outputs": [],
   "source": [
    "import iminuit"
   ]
  },
  {
   "cell_type": "markdown",
   "metadata": {},
   "source": [
    "# Pacchetti che useremo\n",
    "\n",
    "Useremo i seguenti pacchetti che conviene installare da subito. Diversi potrebbero essere già presenti nell'installazione di default:\n",
    "* numpy\n",
    "* pandas\n",
    "* scipy\n",
    "* matplotlib\n",
    "* random\n",
    "* wget\n",
    "* iminuit"
   ]
  },
  {
   "cell_type": "markdown",
   "metadata": {},
   "source": [
    "# Git\n",
    "\n",
    "Git è un sistema complesso di gestione dello sviluppo di progetti software dove pià sviluppatori contribuiscono in modo concorrente. Tuttavia, per questo corso useremo solo funzionalità molto basilari di git.\n",
    "\n",
    "I notebook di questo corso sono rilasciati su un sistema [git](https://git-scm.com) e disponibili nel reposity GitHub:\n",
    "\n",
    "* [https://github.com/lucalista/analisi-dati-2024](https://github.com/lucalista/analisi-dati-2024).\n",
    "\n",
    "<img style=\"width: 200px;\" src=\"img/git-logo.png\">\n",
    "\n",
    "Sarà conveniente scaricare il software direttamente con ```git```. GitHub fornisce anche un [tool per desktop](https://desktop.github.com/) che funziona anchce su Windows con un'interfaccia grafica, ma recentemente richiede di essere registrati su GitHib.\n",
    "\n",
    "Esistono anche altre GUI per git, es.:\n",
    "   * https://git-scm.com/downloads/guis\n",
    "\n",
    "Su sistemi unix o mac si può scaricare l'intero reposotory con il comando:\n",
    "\n",
    "    git clone https://github.com/lucalista/analisi-dati-2024.git\n",
    "    \n",
    "Dopo ogni lezione ci saranno aggiornamenti che si possono scaricare con:\n",
    "\n",
    "    git pull"
   ]
  },
  {
   "cell_type": "markdown",
   "metadata": {},
   "source": [
    "# Spunti per esercizi\n",
    "\n",
    "* Provare ad installare, se non sono già presemti, i pacchetti sopra indicati"
   ]
  }
 ],
 "metadata": {
  "kernelspec": {
   "display_name": "Python 3 (ipykernel)",
   "language": "python",
   "name": "python3"
  },
  "language_info": {
   "codemirror_mode": {
    "name": "ipython",
    "version": 3
   },
   "file_extension": ".py",
   "mimetype": "text/x-python",
   "name": "python",
   "nbconvert_exporter": "python",
   "pygments_lexer": "ipython3",
   "version": "3.11.6"
  }
 },
 "nbformat": 4,
 "nbformat_minor": 4
}
