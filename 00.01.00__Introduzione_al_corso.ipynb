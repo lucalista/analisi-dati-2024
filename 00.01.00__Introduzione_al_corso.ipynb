{
 "cells": [
  {
   "cell_type": "markdown",
   "metadata": {},
   "source": [
    "## Introduzione al corso di:\n",
    "# Analisi Statistica dei Dati Sperimentali\n",
    "## Corso di Laurea triennale in Fisica\n",
    "### <a href=\"http://people.na.infn.it/~lista/\">Prof. Luca Lista</a>\n",
    "\n",
    "Il corso si propone di fornire **strumenti sia concettuali che pratici** per analizzare i dati sperimentali con **tecnologie moderne**.\n",
    "\n",
    "I concetti saranno introdotti insieme ad applicazioni basate sia su dati reali che su dati simulati.\n",
    "\n",
    "Tutti i risultati e gli esempi forniti durante il corso saranno replicabili dagli studenti, e potranno essere riiutilizzati per future applicazioni, inclusi i prossimi esami di laboratorio o, infine, la tesi di Laurea.\n",
    "\n",
    "L'analisi dei dati  è principalmente usata per **attività sperimentali** di laboratorio, ma l'analisi di dati provenienti da simulazioni ed il confronto dei dati sperimentali con i modelli teorici sono di crescente importanza anche per la **fisica teorica**."
   ]
  },
  {
   "cell_type": "markdown",
   "metadata": {},
   "source": [
    "## Come si svolgono le lezioni\n",
    "\n",
    "Le lezioni hanno una parte di presentazione frontale con *notebook* jupyter, come questa pagina, che potranno contenere formule, grafici e codice,\n",
    "e una parte interattiva dove gli studenti realizzeranno mini-progetti mettendo in pratica i concetti presentati.\n"
   ]
  },
  {
   "cell_type": "markdown",
   "metadata": {},
   "source": [
    "## Argomenti del corso\n",
    "\n",
    "Gli argomenti potranno cambiare leggermente durante lo svolgimento del corso in base a quelli che si dimostreranno gli interessi degli studenti, in base ai quali saranno di volta in volta aggiornati i contenuti di queste pagine.\n",
    "\n",
    "Le applicazioni pratiche consentiranno di seguire il progressivo livello di apprendimento e padronanza degli strumenti teorici e applicativi. In base a questo, saranno stabiliti i ritmi delle lezioni, piuttosto che rispetto ad una scaletta temporale prestabilita."
   ]
  },
  {
   "cell_type": "markdown",
   "metadata": {},
   "source": [
    "## 1. Probabilità\n",
    "\n",
    "Verrà introdotto il concetto di probabilità con diversi approcci, focalizzando l'attenzione sulle applicazioni scientifiche. La teoria della probabilità trova applicazione in due ambiti principali:\n",
    "\n",
    "* per trattare **fenomeni casuali**, ossia esperimenti che possono essere replicati mantenendo le stesse condizioni, ma dai quali si potrà ottenere un risultato ogni volta diverso e non prevedibile;\n",
    "* **ipotesi o fenomeni non noti o parzialmente noti**, la cui conoscenza potrà migliorare in base alle osservazioni di dati sperimentali, e ipotesi troveranno conferma o smentita. In questo senso, la teoria della probabilità è strettamente connessa con il **metodo scientifico**.\n"
   ]
  },
  {
   "cell_type": "markdown",
   "metadata": {},
   "source": [
    "## 2. Numeri casuali\n",
    "\n",
    "Impareremo a generare con algoritmi numeri (pseudo)casuali che seguono distribuzioni volute. \n",
    "\n",
    "Generare numeri casuali permette di fare esperimenti simulati complementari a quelle di laboratorio.\n",
    "\n",
    "Per fare questo, introdurremo i **generatori di numeri pseudocasuali** e le tecniche che prendono il nome di **Monte Carlo**."
   ]
  },
  {
   "cell_type": "markdown",
   "metadata": {},
   "source": [
    "## 3. Approcci Bayesiano e frequentista alla probabilità\n",
    "\n",
    "Avendo a disposizione generatori di numeri casuali, che ci forniscono un ambiente di laboratorio artificiale, partiremo dalla definzione di **probabilità classica** per poi introdurre due approcci complementari alla probabilità:\n",
    "* l'approccio **Bayesiano**, o soggettivo\n",
    "* l'approccio ééfrequentista**\n",
    "\n",
    "Comprenderemo i campi di applicazione dei due metodi e i limiti di ciascuno.\n",
    "\n",
    "Le proprietà generali della teoria della probabilità, qualsiasi sia la base concettuale sottostante, possono essere stabilite a partire dall'**approccio assiomatico dovuto a Kolmogorov**, valido per ogni approccio alla probabilità."
   ]
  },
  {
   "cell_type": "markdown",
   "metadata": {},
   "source": [
    "## 4. Distribuzioni di probabilità\n",
    "\n",
    "Definito concettualmente il significato di probabilità e l'uso nella pratica della probabilità secondo i diversi approcci, studieremo diverse distribuzioni di probabilità:\n",
    "* la distribuzione di Bernulli\n",
    "* la distribuzione Binomiale\n",
    "* la distribuzione uniforme\n",
    "* la distribuzione esponenziale\n",
    "* la distribuzione di Poisson\n",
    "* la distribuzione di Gauss\n",
    "* la distribuzione lognormale\n",
    "* la distribuzione Gamma\n",
    "* la distribuzione Beta\n",
    "\n",
    "Comprenderemo meglio le proprietà di queste distribuzioni e quando, in casi concreti, può essere applicata ciascuna di esse."
   ]
  },
  {
   "cell_type": "markdown",
   "metadata": {},
   "source": [
    "## 5. Stima dei parametri\n",
    "In fisica sperimentale è necessario determinare i parametri ignoti di alcune distribuzioni in seguito all'osservazione di risultati sperimentali.\n",
    "Questo problema prende il nome di **inferenza**, e si realizza in modo diverso negli approcci bayesiano e frequentista.\n",
    "\n",
    "Comprenderemo cosa significa **misurare una grandezza fisica** applicando l'inferenza bayesiana o frequentista, come assegnare correttamente un **errore** alla misura, e quindi come trasformare i dati sperimentali in conoscenza scientifica.\n",
    "\n",
    "Gli intervalli di incertezza assegnate ad una misura hanno significato molto diverso negli approcci bayesiano e frequentista. Si parla, rispettivamente, di **intervalli di credibilità** oppure di **intervalli di confidenza**. Ne comprenderemo il significato ed impareremo come valutarli."
   ]
  },
  {
   "cell_type": "markdown",
   "metadata": {},
   "source": [
    "## 6. Test di ipotesi\n",
    "\n",
    "I dati sperimentali consentono, oltre a misurare delle grandezze fisiche, a discriminare tra più ipotesi quale siano vere e quali siano false, o, almeno, quali siano più plausibili, oppure descrivano meglio i dati, e quali meno.\n",
    "\n",
    "Di nuovo, i due approcci bayesiano e frequentista forniscono metodi complementari per effettuare il test di ipotesi.\n",
    "\n",
    "Diversi algoritmi numerici possono essere usati per discriminare diverse ipotesi, con prestazioni diverse. Daremo anche una breve introduzione agli algoritmi di **machine learning** che permettono di ottenere prestazioni vicine ai livelli ottimali previsti dalla teoria."
   ]
  },
  {
   "cell_type": "markdown",
   "metadata": {},
   "source": [
    "## 7. Scoperte, limiti superiori o inferiori\n",
    "\n",
    "Se il tempo lo consentirà, faremo accenni a come si può dichiarare una scoperte di un nuovo fenomeno quando è presente un segnale nei dati sperimentali disponibili.\n",
    "\n",
    "Oppure, in assenza di un segnale che evidenzi un nuovo venomeno che si vuole cercare, come si possa escluderne la presenza almeno per certi intervalli dei valori dei parametri presenti nei modelli ipotizzati. Ad esempio, si può escludere l'esistenza di una particella fino ad un certo valore della sua massa."
   ]
  }
 ],
 "metadata": {
  "kernelspec": {
   "display_name": "Python 3 (ipykernel)",
   "language": "python",
   "name": "python3"
  },
  "language_info": {
   "codemirror_mode": {
    "name": "ipython",
    "version": 3
   },
   "file_extension": ".py",
   "mimetype": "text/x-python",
   "name": "python",
   "nbconvert_exporter": "python",
   "pygments_lexer": "ipython3",
   "version": "3.11.6"
  }
 },
 "nbformat": 4,
 "nbformat_minor": 4
}
