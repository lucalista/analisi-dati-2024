{
 "cells": [
  {
   "cell_type": "markdown",
   "metadata": {},
   "source": [
    "# Generatori di numeri pseudocasuali in python\n",
    "\n",
    "Cominciamo ad utilizzare il modulo ```random``` che contiene un algoritmo per la generazione di numeri casuali uniformi tra 0 e 1. \n",
    "\n",
    "Nel seguito introdurremo altre librerie che contengono generatori con distribuzioni non uniformi, dopo che avremo definito meglio cosa si intende per *distribuzione*.\n",
    "\n",
    "La documentazione si trova facilmente con Google. Di seguito alcuni link:\n",
    "* <a href=\"https://docs.python.org/3/library/random.html\">random</a> (python.org)\n",
    "* <a href=\"https://www.w3schools.com/python/module_random.asp\">Python Random Module</a> (W3School)"
   ]
  },
  {
   "cell_type": "code",
   "execution_count": 1,
   "metadata": {},
   "outputs": [
    {
     "name": "stdout",
     "output_type": "stream",
     "text": [
      "Help on built-in function random:\n",
      "\n",
      "random() method of random.Random instance\n",
      "    random() -> x in the interval [0, 1).\n",
      "\n"
     ]
    }
   ],
   "source": [
    "import random\n",
    "help(random.random)"
   ]
  },
  {
   "cell_type": "markdown",
   "metadata": {},
   "source": [
    "Da notare: usando lo stesso *seed* la sequenza è riproducibile.\n",
    "\n",
    "Se non si inizializza il *seed*, viene inizializzato dall'orario di sistema."
   ]
  },
  {
   "cell_type": "code",
   "execution_count": 2,
   "metadata": {},
   "outputs": [],
   "source": [
    "random.seed(12345)"
   ]
  },
  {
   "cell_type": "code",
   "execution_count": 3,
   "metadata": {},
   "outputs": [
    {
     "name": "stdout",
     "output_type": "stream",
     "text": [
      "0.41661987254534116\n",
      "0.010169169457068361\n",
      "0.8252065092537432\n",
      "0.2986398551995928\n",
      "0.3684116894884757\n",
      "0.19366134904507426\n",
      "0.5660081687288613\n",
      "0.1616878239293682\n",
      "0.12426688428353017\n",
      "0.4329362680099159\n"
     ]
    }
   ],
   "source": [
    "for i in range(10):\n",
    "    print(random.random())"
   ]
  },
  {
   "cell_type": "markdown",
   "metadata": {},
   "source": [
    "Per generare numeri casuali da un minimo $a$ ad un massimo $b$ basta:\n",
    "* generare un numero casuale con ```random.random()```\n",
    "* moltiplicare per $b-a$\n",
    "* sommare $a$\n",
    "Il risultato sarà compreso in $[a,\\,b)$"
   ]
  },
  {
   "cell_type": "code",
   "execution_count": 4,
   "metadata": {},
   "outputs": [
    {
     "name": "stdout",
     "output_type": "stream",
     "text": [
      "0.24831395230337172\n",
      "-1.3026257571050728\n",
      "0.21288434227731923\n",
      "-0.5803944546536051\n",
      "1.8322591403981945\n",
      "-1.6348236044930595\n",
      "1.9145599822816401\n",
      "-0.351522428242796\n",
      "0.015741472440149895\n",
      "-1.4074153242792433\n"
     ]
    }
   ],
   "source": [
    "def rnd_ab(a, b):\n",
    "    return a + (b - a)*random.random()\n",
    "for i in range(10):\n",
    "    print(rnd_ab(-2, 2))"
   ]
  },
  {
   "cell_type": "markdown",
   "metadata": {},
   "source": [
    "...ma questa funzionalità si ottiene dando $a$ e $b$ come argomenti della funzione ```random```:"
   ]
  },
  {
   "cell_type": "code",
   "execution_count": 5,
   "metadata": {},
   "outputs": [
    {
     "name": "stdout",
     "output_type": "stream",
     "text": [
      "0.8758685612035402\n",
      "-1.2401144851127186\n",
      "-0.6337582969057913\n",
      "-1.9059151274311978\n",
      "-0.6419289104083172\n",
      "1.8699298355194856\n",
      "1.9151938167426272\n",
      "0.9781201605641385\n",
      "-1.9861815569796177\n",
      "1.7609540123909713\n"
     ]
    }
   ],
   "source": [
    "for i in range(10):\n",
    "    print(random.uniform(-2, 2))"
   ]
  },
  {
   "cell_type": "markdown",
   "metadata": {},
   "source": [
    "... a questo punto, abbiamo degli strumenti per generare numeri casuali e simulare, quindi, i risultati di un esperimento.\n",
    "\n",
    "Però, dobbiamo definire meglio cosa significa:\n",
    "* Probabilità\n",
    "* Distrubuzione di probabilità"
   ]
  },
  {
   "cell_type": "markdown",
   "metadata": {},
   "source": [
    "# Spunti per esercizi\n",
    "\n",
    "Generare grafici delle distribuzioni d numeri casuali generati con il modulo ```random```:\n",
    "1. uniformi tra 0 e 1, come dalla funzione ```random()```\n",
    "* uniformi tra due valori $a$ e $b$, come indicato sopra\n",
    "* graficare la distribuzione di $x^2$, dove $x$ è un numero random uniformemente distribuito oppure di $e^x$ o $\\mathrm{log}(x)$ o $1/x$"
   ]
  },
  {
   "cell_type": "code",
   "execution_count": 6,
   "metadata": {},
   "outputs": [],
   "source": [
    "import numpy as np\n",
    "nrand = 100000\n",
    "x = np.array([random.random() for n in range(nrand)])"
   ]
  },
  {
   "cell_type": "code",
   "execution_count": 7,
   "metadata": {},
   "outputs": [],
   "source": [
    "import matplotlib.pyplot as plt\n",
    "import math"
   ]
  },
  {
   "cell_type": "code",
   "execution_count": 8,
   "metadata": {},
   "outputs": [
    {
     "data": {
      "image/png": "[encoded data removed]",
      "text/plain": [
       "<Figure size 1500x1000 with 1 Axes>"
      ]
     },
     "metadata": {},
     "output_type": "display_data"
    }
   ],
   "source": [
    "nbins = 100\n",
    "fig, ax = plt.subplots(figsize=(15, 10))\n",
    "n, bins, patches = ax.hist(x, nbins, range=(0,1))\n",
    "ax.set_xlabel('$x$')\n",
    "ax.set_ylabel('$\\Delta N$')\n",
    "plt.show()"
   ]
  },
  {
   "cell_type": "code",
   "execution_count": 9,
   "metadata": {},
   "outputs": [
    {
     "data": {
      "text/plain": [
       "array([1003., 1054.,  971., 1034., 1025., 1013., 1016., 1053.,  992.,\n",
       "        998., 1034.,  977., 1001.,  986., 1034.,  994.,  986.,  981.,\n",
       "       1023., 1028.,  989.,  980., 1028., 1014., 1072.,  969.,  987.,\n",
       "       1000.,  984., 1006., 1000., 1035.,  986., 1072.,  988.,  977.,\n",
       "       1013.,  963.,  996.,  970., 1010.,  967., 1032., 1015., 1009.,\n",
       "       1000.,  983.,  994., 1019., 1031.,  990., 1020.,  991.,  971.,\n",
       "        994.,  978., 1009., 1028., 1002.,  930.,  980., 1019.,  994.,\n",
       "        970.,  951.,  982.,  962., 1001.,  983.,  978.,  974.,  978.,\n",
       "        990., 1009.,  985., 1001.,  965.,  999.,  958.,  982.,  980.,\n",
       "       1019., 1011., 1024., 1022., 1012.,  994., 1019., 1013., 1024.,\n",
       "       1050.,  996., 1032.,  990.,  975.,  976., 1036.,  948., 1002.,\n",
       "       1011.])"
      ]
     },
     "execution_count": 9,
     "metadata": {},
     "output_type": "execute_result"
    }
   ],
   "source": [
    "n"
   ]
  },
  {
   "cell_type": "code",
   "execution_count": 10,
   "metadata": {},
   "outputs": [
    {
     "data": {
      "text/plain": [
       "100000.0"
      ]
     },
     "execution_count": 10,
     "metadata": {},
     "output_type": "execute_result"
    }
   ],
   "source": [
    "n.sum()"
   ]
  },
  {
   "cell_type": "code",
   "execution_count": 11,
   "metadata": {},
   "outputs": [
    {
     "data": {
      "text/plain": [
       "array([0.  , 0.01, 0.02, 0.03, 0.04, 0.05, 0.06, 0.07, 0.08, 0.09, 0.1 ,\n",
       "       0.11, 0.12, 0.13, 0.14, 0.15, 0.16, 0.17, 0.18, 0.19, 0.2 , 0.21,\n",
       "       0.22, 0.23, 0.24, 0.25, 0.26, 0.27, 0.28, 0.29, 0.3 , 0.31, 0.32,\n",
       "       0.33, 0.34, 0.35, 0.36, 0.37, 0.38, 0.39, 0.4 , 0.41, 0.42, 0.43,\n",
       "       0.44, 0.45, 0.46, 0.47, 0.48, 0.49, 0.5 , 0.51, 0.52, 0.53, 0.54,\n",
       "       0.55, 0.56, 0.57, 0.58, 0.59, 0.6 , 0.61, 0.62, 0.63, 0.64, 0.65,\n",
       "       0.66, 0.67, 0.68, 0.69, 0.7 , 0.71, 0.72, 0.73, 0.74, 0.75, 0.76,\n",
       "       0.77, 0.78, 0.79, 0.8 , 0.81, 0.82, 0.83, 0.84, 0.85, 0.86, 0.87,\n",
       "       0.88, 0.89, 0.9 , 0.91, 0.92, 0.93, 0.94, 0.95, 0.96, 0.97, 0.98,\n",
       "       0.99, 1.  ])"
      ]
     },
     "execution_count": 11,
     "metadata": {},
     "output_type": "execute_result"
    }
   ],
   "source": [
    "bins"
   ]
  },
  {
   "cell_type": "code",
   "execution_count": 12,
   "metadata": {},
   "outputs": [
    {
     "data": {
      "text/plain": [
       "array([1.  , 0.  , 0.01, 0.02, 0.03, 0.04, 0.05, 0.06, 0.07, 0.08, 0.09,\n",
       "       0.1 , 0.11, 0.12, 0.13, 0.14, 0.15, 0.16, 0.17, 0.18, 0.19, 0.2 ,\n",
       "       0.21, 0.22, 0.23, 0.24, 0.25, 0.26, 0.27, 0.28, 0.29, 0.3 , 0.31,\n",
       "       0.32, 0.33, 0.34, 0.35, 0.36, 0.37, 0.38, 0.39, 0.4 , 0.41, 0.42,\n",
       "       0.43, 0.44, 0.45, 0.46, 0.47, 0.48, 0.49, 0.5 , 0.51, 0.52, 0.53,\n",
       "       0.54, 0.55, 0.56, 0.57, 0.58, 0.59, 0.6 , 0.61, 0.62, 0.63, 0.64,\n",
       "       0.65, 0.66, 0.67, 0.68, 0.69, 0.7 , 0.71, 0.72, 0.73, 0.74, 0.75,\n",
       "       0.76, 0.77, 0.78, 0.79, 0.8 , 0.81, 0.82, 0.83, 0.84, 0.85, 0.86,\n",
       "       0.87, 0.88, 0.89, 0.9 , 0.91, 0.92, 0.93, 0.94, 0.95, 0.96, 0.97,\n",
       "       0.98, 0.99])"
      ]
     },
     "execution_count": 12,
     "metadata": {},
     "output_type": "execute_result"
    }
   ],
   "source": [
    "np.roll(bins, 1)"
   ]
  },
  {
   "cell_type": "code",
   "execution_count": 13,
   "metadata": {},
   "outputs": [
    {
     "data": {
      "text/plain": [
       "array([0.01, 0.01, 0.01, 0.01, 0.01, 0.01, 0.01, 0.01, 0.01, 0.01, 0.01,\n",
       "       0.01, 0.01, 0.01, 0.01, 0.01, 0.01, 0.01, 0.01, 0.01, 0.01, 0.01,\n",
       "       0.01, 0.01, 0.01, 0.01, 0.01, 0.01, 0.01, 0.01, 0.01, 0.01, 0.01,\n",
       "       0.01, 0.01, 0.01, 0.01, 0.01, 0.01, 0.01, 0.01, 0.01, 0.01, 0.01,\n",
       "       0.01, 0.01, 0.01, 0.01, 0.01, 0.01, 0.01, 0.01, 0.01, 0.01, 0.01,\n",
       "       0.01, 0.01, 0.01, 0.01, 0.01, 0.01, 0.01, 0.01, 0.01, 0.01, 0.01,\n",
       "       0.01, 0.01, 0.01, 0.01, 0.01, 0.01, 0.01, 0.01, 0.01, 0.01, 0.01,\n",
       "       0.01, 0.01, 0.01, 0.01, 0.01, 0.01, 0.01, 0.01, 0.01, 0.01, 0.01,\n",
       "       0.01, 0.01, 0.01, 0.01, 0.01, 0.01, 0.01, 0.01, 0.01, 0.01, 0.01,\n",
       "       0.01])"
      ]
     },
     "execution_count": 13,
     "metadata": {},
     "output_type": "execute_result"
    }
   ],
   "source": [
    "deltax = (bins - np.roll(bins,1))[1:]\n",
    "deltax"
   ]
  },
  {
   "cell_type": "code",
   "execution_count": 14,
   "metadata": {},
   "outputs": [
    {
     "data": {
      "text/plain": [
       "array([1.003, 1.054, 0.971, 1.034, 1.025, 1.013, 1.016, 1.053, 0.992,\n",
       "       0.998, 1.034, 0.977, 1.001, 0.986, 1.034, 0.994, 0.986, 0.981,\n",
       "       1.023, 1.028, 0.989, 0.98 , 1.028, 1.014, 1.072, 0.969, 0.987,\n",
       "       1.   , 0.984, 1.006, 1.   , 1.035, 0.986, 1.072, 0.988, 0.977,\n",
       "       1.013, 0.963, 0.996, 0.97 , 1.01 , 0.967, 1.032, 1.015, 1.009,\n",
       "       1.   , 0.983, 0.994, 1.019, 1.031, 0.99 , 1.02 , 0.991, 0.971,\n",
       "       0.994, 0.978, 1.009, 1.028, 1.002, 0.93 , 0.98 , 1.019, 0.994,\n",
       "       0.97 , 0.951, 0.982, 0.962, 1.001, 0.983, 0.978, 0.974, 0.978,\n",
       "       0.99 , 1.009, 0.985, 1.001, 0.965, 0.999, 0.958, 0.982, 0.98 ,\n",
       "       1.019, 1.011, 1.024, 1.022, 1.012, 0.994, 1.019, 1.013, 1.024,\n",
       "       1.05 , 0.996, 1.032, 0.99 , 0.975, 0.976, 1.036, 0.948, 1.002,\n",
       "       1.011])"
      ]
     },
     "execution_count": 14,
     "metadata": {},
     "output_type": "execute_result"
    }
   ],
   "source": [
    "n/deltax/n.sum()"
   ]
  },
  {
   "cell_type": "markdown",
   "metadata": {},
   "source": [
    "$\\displaystyle \\rho(x)=\\frac{1}{N}\\frac{\\mathrm{d}N}{\\mathrm{d}x}\\simeq\\frac{1}{N}\\frac{\\Delta N}{\\Delta x}=1$"
   ]
  }
 ],
 "metadata": {
  "kernelspec": {
   "display_name": "Python 3 (ipykernel)",
   "language": "python",
   "name": "python3"
  },
  "language_info": {
   "codemirror_mode": {
    "name": "ipython",
    "version": 3
   },
   "file_extension": ".py",
   "mimetype": "text/x-python",
   "name": "python",
   "nbconvert_exporter": "python",
   "pygments_lexer": "ipython3",
   "version": "3.11.6"
  }
 },
 "nbformat": 4,
 "nbformat_minor": 4
}
