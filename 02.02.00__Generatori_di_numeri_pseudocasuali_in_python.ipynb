{
 "cells": [
  {
   "cell_type": "markdown",
   "metadata": {},
   "source": [
    "# Generatori di numeri pseudocasuali in python\n",
    "\n",
    "Cominciamo ad utilizzare il modulo ```random``` che contiene un algoritmo per la generazione di numeri casuali uniformi tra 0 e 1. \n",
    "\n",
    "Nel seguito introdurremo altre librerie che contengono generatori con distribuzioni non uniformi, dopo che avremo definito meglio cosa si intende per *distribuzione*.\n",
    "\n",
    "La documentazione si trova facilmente con Google. Di seguito alcuni link:\n",
    "* <a href=\"https://docs.python.org/3/library/random.html\">random</a> (python.org)\n",
    "* <a href=\"https://www.w3schools.com/python/module_random.asp\">Python Random Module</a> (W3School)"
   ]
  },
  {
   "cell_type": "code",
   "execution_count": 1,
   "metadata": {},
   "outputs": [
    {
     "name": "stdout",
     "output_type": "stream",
     "text": [
      "Help on built-in function random:\n",
      "\n",
      "random() method of random.Random instance\n",
      "    random() -> x in the interval [0, 1).\n",
      "\n"
     ]
    }
   ],
   "source": [
    "import random\n",
    "help(random.random)"
   ]
  },
  {
   "cell_type": "markdown",
   "metadata": {},
   "source": [
    "Da notare: usando lo stesso *seed* la sequenza è riproducibile.\n",
    "\n",
    "Se non si inizializza il *seed*, viene inizializzato dall'orario di sistema."
   ]
  },
  {
   "cell_type": "code",
   "execution_count": 13,
   "metadata": {},
   "outputs": [],
   "source": [
    "random.seed(1234)"
   ]
  },
  {
   "cell_type": "code",
   "execution_count": 18,
   "metadata": {},
   "outputs": [
    {
     "name": "stdout",
     "output_type": "stream",
     "text": [
      "0.47282692534740633\n",
      "0.3773474407725964\n",
      "0.05417519864614284\n",
      "0.5875285081310694\n",
      "0.1640032237419612\n",
      "0.5573302374414681\n",
      "0.1442457216019083\n",
      "0.9373070846962247\n",
      "0.7709799715197749\n",
      "0.9569331223494054\n"
     ]
    }
   ],
   "source": [
    "for i in range(10):\n",
    "    print(random.random())"
   ]
  },
  {
   "cell_type": "markdown",
   "metadata": {},
   "source": [
    "Per generare numeri casuali da un minimo $a$ ad un massimo $b$ basta:\n",
    "* generare un numero casuale con ```random.random()```\n",
    "* moltiplicare per $b-a$\n",
    "* sommare $a$\n",
    "Il risultato sarà compreso in $[a,\\,b)$"
   ]
  },
  {
   "cell_type": "code",
   "execution_count": 19,
   "metadata": {},
   "outputs": [
    {
     "name": "stdout",
     "output_type": "stream",
     "text": [
      "-1.4350889423340019\n",
      "-0.7784291668492056\n",
      "-1.8416415030881534\n",
      "-0.8928652208332317\n",
      "1.2260500204624152\n",
      "-1.290627858886984\n",
      "-1.3817179411568414\n",
      "1.8188746228095796\n",
      "-1.381794399643828\n",
      "1.3355571766049272\n"
     ]
    }
   ],
   "source": [
    "def rnd_ab(a, b):\n",
    "    return a + (b - a)*random.random()\n",
    "for i in range(10):\n",
    "    print(rnd_ab(-2, 2))"
   ]
  },
  {
   "cell_type": "markdown",
   "metadata": {},
   "source": [
    "...ma questa funzionalità si ottiene dando $a$ e $b$ come argomenti della funzione ```random```:"
   ]
  },
  {
   "cell_type": "code",
   "execution_count": 20,
   "metadata": {},
   "outputs": [
    {
     "name": "stdout",
     "output_type": "stream",
     "text": [
      "-1.83574877491277\n",
      "-0.455265886656687\n",
      "-0.60163079214523\n",
      "-0.6331688289981847\n",
      "1.2658522268569214\n",
      "-0.09626036747308708\n",
      "1.1315611580896143\n",
      "-0.11663949876461954\n",
      "1.2693760274325672\n",
      "1.5262703946224256\n"
     ]
    }
   ],
   "source": [
    "for i in range(10):\n",
    "    print(random.uniform(-2, 2))"
   ]
  },
  {
   "cell_type": "markdown",
   "metadata": {},
   "source": [
    "... a questo punto, abbiamo degli strumenti per generare numeri casuali e simulare, quindi, i risultati di un esperimento.\n",
    "\n",
    "Però, dobbiamo definire meglio cosa significa:\n",
    "* Probabilità\n",
    "* Distrubuzione di probabilità"
   ]
  },
  {
   "cell_type": "markdown",
   "metadata": {},
   "source": [
    "# Spunti per esercizi\n",
    "\n",
    "Generare grafici delle distribuzioni d numeri casuali generati con il modulo ```random```:\n",
    "1. uniformi tra 0 e 1, come dalla funzione ```random()```\n",
    "1. uniformi tra due valori $a$ e $b$, come indicato sopra\n",
    "1. graficare la distribuzione di $x^2$, dove $x$ è un numero random uniformemente distribuito\n",
    "1. ...oppure di $e^x$ o $\\mathrm{log}(x)$ o $1/x$"
   ]
  },
  {
   "cell_type": "code",
   "execution_count": 23,
   "metadata": {},
   "outputs": [],
   "source": [
    "import numpy as np\n",
    "nrand = 100000\n",
    "x = np.array([random.random() for n in range(nrand)])"
   ]
  },
  {
   "cell_type": "code",
   "execution_count": null,
   "metadata": {},
   "outputs": [],
   "source": [
    "# sintassi alternativa meno \"python style\"\n",
    "#x = []\n",
    "#for n in range(nrand):\n",
    "#    x.append(random.random())\n",
    "#x = np.array(x)"
   ]
  },
  {
   "cell_type": "code",
   "execution_count": 25,
   "metadata": {},
   "outputs": [],
   "source": [
    "import matplotlib.pyplot as plt\n",
    "import math"
   ]
  },
  {
   "cell_type": "code",
   "execution_count": 26,
   "metadata": {},
   "outputs": [
    {
     "data": {
      "image/png": "[encoded data removed]",
      "text/plain": [
       "<Figure size 1000x400 with 1 Axes>"
      ]
     },
     "metadata": {},
     "output_type": "display_data"
    }
   ],
   "source": [
    "nbins = 100\n",
    "fig, ax = plt.subplots(figsize=(10, 4))\n",
    "n, bins, patches = ax.hist(x, nbins, range=(0, 1))\n",
    "ax.set_xlabel('$x$')\n",
    "ax.set_ylabel('$\\Delta N$')\n",
    "plt.show()"
   ]
  },
  {
   "cell_type": "code",
   "execution_count": 27,
   "metadata": {},
   "outputs": [
    {
     "data": {
      "text/plain": [
       "array([ 980., 1018.,  989., 1016.,  985.,  979., 1068., 1002., 1039.,\n",
       "       1020., 1023.,  967., 1037.,  978., 1040.,  956., 1019., 1005.,\n",
       "       1036.,  981., 1059., 1002., 1017.,  966., 1024., 1057.,  962.,\n",
       "        976., 1008., 1007., 1022.,  987.,  983., 1051., 1017.,  957.,\n",
       "        950.,  976., 1037., 1008.,  977.,  993., 1040., 1020., 1012.,\n",
       "       1014., 1023., 1021., 1003., 1029.,  940., 1013.,  972.,  930.,\n",
       "        981.,  994., 1006.,  989.,  967.,  976., 1018.,  987., 1041.,\n",
       "        993.,  972., 1033., 1006., 1057.,  964.,  929., 1055.,  991.,\n",
       "       1008., 1000.,  955.,  964., 1025.,  975.,  995., 1036., 1003.,\n",
       "        993., 1007.,  966.,  974., 1040.,  953.,  975., 1017.,  987.,\n",
       "        998.,  984.,  984.,  973., 1018.,  976., 1006.,  988., 1031.,\n",
       "       1019.])"
      ]
     },
     "execution_count": 27,
     "metadata": {},
     "output_type": "execute_result"
    }
   ],
   "source": [
    "n"
   ]
  },
  {
   "cell_type": "code",
   "execution_count": 28,
   "metadata": {},
   "outputs": [
    {
     "data": {
      "text/plain": [
       "100000.0"
      ]
     },
     "execution_count": 28,
     "metadata": {},
     "output_type": "execute_result"
    }
   ],
   "source": [
    "n.sum()"
   ]
  },
  {
   "cell_type": "code",
   "execution_count": 30,
   "metadata": {},
   "outputs": [
    {
     "data": {
      "text/plain": [
       "array([0.  , 0.01, 0.02, 0.03, 0.04, 0.05, 0.06, 0.07, 0.08, 0.09, 0.1 ,\n",
       "       0.11, 0.12, 0.13, 0.14, 0.15, 0.16, 0.17, 0.18, 0.19, 0.2 , 0.21,\n",
       "       0.22, 0.23, 0.24, 0.25, 0.26, 0.27, 0.28, 0.29, 0.3 , 0.31, 0.32,\n",
       "       0.33, 0.34, 0.35, 0.36, 0.37, 0.38, 0.39, 0.4 , 0.41, 0.42, 0.43,\n",
       "       0.44, 0.45, 0.46, 0.47, 0.48, 0.49, 0.5 , 0.51, 0.52, 0.53, 0.54,\n",
       "       0.55, 0.56, 0.57, 0.58, 0.59, 0.6 , 0.61, 0.62, 0.63, 0.64, 0.65,\n",
       "       0.66, 0.67, 0.68, 0.69, 0.7 , 0.71, 0.72, 0.73, 0.74, 0.75, 0.76,\n",
       "       0.77, 0.78, 0.79, 0.8 , 0.81, 0.82, 0.83, 0.84, 0.85, 0.86, 0.87,\n",
       "       0.88, 0.89, 0.9 , 0.91, 0.92, 0.93, 0.94, 0.95, 0.96, 0.97, 0.98,\n",
       "       0.99, 1.  ])"
      ]
     },
     "execution_count": 30,
     "metadata": {},
     "output_type": "execute_result"
    }
   ],
   "source": [
    "bins"
   ]
  },
  {
   "cell_type": "code",
   "execution_count": 31,
   "metadata": {},
   "outputs": [
    {
     "data": {
      "text/plain": [
       "array([1.  , 0.  , 0.01, 0.02, 0.03, 0.04, 0.05, 0.06, 0.07, 0.08, 0.09,\n",
       "       0.1 , 0.11, 0.12, 0.13, 0.14, 0.15, 0.16, 0.17, 0.18, 0.19, 0.2 ,\n",
       "       0.21, 0.22, 0.23, 0.24, 0.25, 0.26, 0.27, 0.28, 0.29, 0.3 , 0.31,\n",
       "       0.32, 0.33, 0.34, 0.35, 0.36, 0.37, 0.38, 0.39, 0.4 , 0.41, 0.42,\n",
       "       0.43, 0.44, 0.45, 0.46, 0.47, 0.48, 0.49, 0.5 , 0.51, 0.52, 0.53,\n",
       "       0.54, 0.55, 0.56, 0.57, 0.58, 0.59, 0.6 , 0.61, 0.62, 0.63, 0.64,\n",
       "       0.65, 0.66, 0.67, 0.68, 0.69, 0.7 , 0.71, 0.72, 0.73, 0.74, 0.75,\n",
       "       0.76, 0.77, 0.78, 0.79, 0.8 , 0.81, 0.82, 0.83, 0.84, 0.85, 0.86,\n",
       "       0.87, 0.88, 0.89, 0.9 , 0.91, 0.92, 0.93, 0.94, 0.95, 0.96, 0.97,\n",
       "       0.98, 0.99])"
      ]
     },
     "execution_count": 31,
     "metadata": {},
     "output_type": "execute_result"
    }
   ],
   "source": [
    "np.roll(bins, 1)"
   ]
  },
  {
   "cell_type": "code",
   "execution_count": 33,
   "metadata": {},
   "outputs": [
    {
     "data": {
      "text/plain": [
       "array([0.01, 0.01, 0.01, 0.01, 0.01, 0.01, 0.01, 0.01, 0.01, 0.01, 0.01,\n",
       "       0.01, 0.01, 0.01, 0.01, 0.01, 0.01, 0.01, 0.01, 0.01, 0.01, 0.01,\n",
       "       0.01, 0.01, 0.01, 0.01, 0.01, 0.01, 0.01, 0.01, 0.01, 0.01, 0.01,\n",
       "       0.01, 0.01, 0.01, 0.01, 0.01, 0.01, 0.01, 0.01, 0.01, 0.01, 0.01,\n",
       "       0.01, 0.01, 0.01, 0.01, 0.01, 0.01, 0.01, 0.01, 0.01, 0.01, 0.01,\n",
       "       0.01, 0.01, 0.01, 0.01, 0.01, 0.01, 0.01, 0.01, 0.01, 0.01, 0.01,\n",
       "       0.01, 0.01, 0.01, 0.01, 0.01, 0.01, 0.01, 0.01, 0.01, 0.01, 0.01,\n",
       "       0.01, 0.01, 0.01, 0.01, 0.01, 0.01, 0.01, 0.01, 0.01, 0.01, 0.01,\n",
       "       0.01, 0.01, 0.01, 0.01, 0.01, 0.01, 0.01, 0.01, 0.01, 0.01, 0.01,\n",
       "       0.01])"
      ]
     },
     "execution_count": 33,
     "metadata": {},
     "output_type": "execute_result"
    }
   ],
   "source": [
    "deltax = (bins - np.roll(bins,1))[1:]\n",
    "deltax"
   ]
  },
  {
   "cell_type": "code",
   "execution_count": 34,
   "metadata": {},
   "outputs": [
    {
     "data": {
      "text/plain": [
       "array([0.98 , 1.018, 0.989, 1.016, 0.985, 0.979, 1.068, 1.002, 1.039,\n",
       "       1.02 , 1.023, 0.967, 1.037, 0.978, 1.04 , 0.956, 1.019, 1.005,\n",
       "       1.036, 0.981, 1.059, 1.002, 1.017, 0.966, 1.024, 1.057, 0.962,\n",
       "       0.976, 1.008, 1.007, 1.022, 0.987, 0.983, 1.051, 1.017, 0.957,\n",
       "       0.95 , 0.976, 1.037, 1.008, 0.977, 0.993, 1.04 , 1.02 , 1.012,\n",
       "       1.014, 1.023, 1.021, 1.003, 1.029, 0.94 , 1.013, 0.972, 0.93 ,\n",
       "       0.981, 0.994, 1.006, 0.989, 0.967, 0.976, 1.018, 0.987, 1.041,\n",
       "       0.993, 0.972, 1.033, 1.006, 1.057, 0.964, 0.929, 1.055, 0.991,\n",
       "       1.008, 1.   , 0.955, 0.964, 1.025, 0.975, 0.995, 1.036, 1.003,\n",
       "       0.993, 1.007, 0.966, 0.974, 1.04 , 0.953, 0.975, 1.017, 0.987,\n",
       "       0.998, 0.984, 0.984, 0.973, 1.018, 0.976, 1.006, 0.988, 1.031,\n",
       "       1.019])"
      ]
     },
     "execution_count": 34,
     "metadata": {},
     "output_type": "execute_result"
    }
   ],
   "source": [
    "n/deltax/n.sum()"
   ]
  },
  {
   "cell_type": "markdown",
   "metadata": {},
   "source": [
    "$\\displaystyle \\rho(x)=\\frac{1}{N}\\frac{\\mathrm{d}N}{\\mathrm{d}x}\\simeq\\frac{1}{N}\\frac{\\Delta N}{\\Delta x}=1$"
   ]
  }
 ],
 "metadata": {
  "kernelspec": {
   "display_name": "Python 3 (ipykernel)",
   "language": "python",
   "name": "python3"
  },
  "language_info": {
   "codemirror_mode": {
    "name": "ipython",
    "version": 3
   },
   "file_extension": ".py",
   "mimetype": "text/x-python",
   "name": "python",
   "nbconvert_exporter": "python",
   "pygments_lexer": "ipython3",
   "version": "3.11.6"
  }
 },
 "nbformat": 4,
 "nbformat_minor": 4
}
