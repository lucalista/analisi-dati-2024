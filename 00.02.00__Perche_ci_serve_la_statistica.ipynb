{
 "cells": [
  {
   "cell_type": "markdown",
   "metadata": {},
   "source": [
    "# Perché ci serva la statistica?\n",
    "\n",
    "In Fisica ci sono diversi problemi che richiedono l'uso della statistica. Quelli principali sono:\n",
    "1. le misure, in particolare quelle di precisione\n",
    "1. la ricerca di nuovi fenomeni, in particolare nella speranza che questa porti a nuove scoperte"
   ]
  },
  {
   "cell_type": "markdown",
   "metadata": {},
   "source": [
    "<img style=\"width: 500px\" src=\"img/lep-zmass.png\">\n",
    "\n",
    "Misure dalle quali è stata determinata con precisione la massa della $Z$\n",
    "\n",
    "<img style=\"width: 500px\" src=\"img/cms-h2gg.png\">\n",
    "Spettro di massa di coppie di fotoni dal quale si è determinata evidenza del bosone di Higgs."
   ]
  },
  {
   "cell_type": "markdown",
   "metadata": {},
   "source": [
    "## Misure\n",
    "\n",
    "Le misure fatte in esperimenti sono spesso diverse l'una dall'altra, anche se un esperimento viene ripetuto mantenendo le stesse condizioni. I motivi sono molteplici.\n",
    "* Non si riesce a mantenere esattamente identiche le condizioni di lavoro di un esperimento. Ad es.: cambiano temperatura, umidità o altri parametri di lavoro.\n",
    "* Gli strumenti di misura usati (i rivelatori) hanno fluttuazioni intrinseche nel loro funzionamento. La risposta è caratterizzata da una *risoluzione sperimentale* non ideale, e/o l'efficienza più essere non perfetta.\n",
    "* La fisica stessa può avere casualità intrinseca: questo è inevitabile per fenomeni legati alla meccanica quantistica, ma anche fenomeni governati dalla fisica classica, possono avere fortissime dipendenze da piccolissime variazioni dei parametri di lavoro (effetti caotici).\n",
    "\n",
    "Anche se abbiamo *una singola misura*, per determinare una grandezza che ci interessa, spesso *non conosciamo* tutti gli effetti di cui dobbiamo tenere conto. Ad esempio, per la misura dell'accelerazione di gravità $g$, oltre ai numerosi effetti sperimentali che possono essere tenuti più o meno sotto controllo, la misura potrebbe dipendere dalla posizione in quell'istante del Sole e della Luna, il cui contributo andrebbe sottratto per determinare il solo contributo a $g$ dovuto alla Terra. Se le posizioni non si conoscono, si può stabilire il livello di precisione che si può ottenere se si ignorano questi effetti. Ad esempio, il contributo dovuto ad una massa esterna vale:\n",
    "\n",
    "$\\displaystyle g^\\prime = G\\frac{M}{r^2}\\ ,$\n",
    "\n",
    "dove $G=6.67\\times 10^{-11}{\\mathrm{N}^2\\mathrm{m}^2}/{\\mathrm{kg}^2}$, $M$ e $r$ sono la massa e la distanza della massa (es.: Sole o Luna). Nel nostro caso:\n",
    "\n",
    "$M_{\\mathrm{Luna}} = 7.342\\times 10^{22}\\,\\mathrm{kg},\\ \\ r_{\\mathrm{Luna}} = 3.64 - 4.05\\times 10^8\\,\\mathrm{m}$\n",
    "\n",
    "$M_{\\mathrm{Sole}} = 1.989\\times 10^{30}\\,\\mathrm{kg},\\ \\ r_{\\mathrm{Sole}} = 1.47-1.52 \\times 10^{11}\\,\\mathrm{m}$\n",
    "\n",
    "E quindi abbiamo i contributi:"
   ]
  },
  {
   "cell_type": "code",
   "execution_count": 2,
   "metadata": {},
   "outputs": [
    {
     "name": "stdout",
     "output_type": "stream",
     "text": [
      "g' moon = 0.000033 m/s²\n",
      "g' sun = 0.005896 m/s²\n"
     ]
    }
   ],
   "source": [
    "g_newton = 6.67e-11\n",
    "m_moon, r_moon = 7.342e22, 3.844e8\n",
    "m_sun, r_sun = 1.989e30, 1.50e11\n",
    "def g_prime(m, r): return g_newton * m / r**2\n",
    "g_moon = g_prime(m_moon, r_moon)\n",
    "g_sun = g_prime(m_sun, r_sun)\n",
    "print('g\\' moon = {:.6f} m/s²'.format(g_moon))\n",
    "print('g\\' sun = {:.6f} m/s²'.format(g_sun))"
   ]
  },
  {
   "cell_type": "markdown",
   "metadata": {},
   "source": [
    "Confrontando con l'accelerazione sulla terra, $g=9.81\\,\\mathrm{m}/\\mathrm{s}^2$, $g^\\prime$ potrebbe sommarsi o sottrarsi, anche parzialmente, a seconda se le direzioni di $\\vec{g}$ e $\\vec{g}^\\prime$ sono concordo o discordi, e in generale dell'angolo che formano, che non conosciamo. Quindi le variazioni relative entro le quali non è possibile misurare $g$ con ulteriore accuratezza sono:"
   ]
  },
  {
   "cell_type": "code",
   "execution_count": 3,
   "metadata": {},
   "outputs": [
    {
     "name": "stdout",
     "output_type": "stream",
     "text": [
      "Δg/g = 0.060%\n"
     ]
    }
   ],
   "source": [
    "g = 9.81\n",
    "dg_rel = (g_sun + g_moon)/g\n",
    "print('Δg/g = {:.3f}%'.format(dg_rel*100))"
   ]
  },
  {
   "cell_type": "markdown",
   "metadata": {},
   "source": [
    "Questo effetto è piccolo, ma in realtà ci sono molti effetti, più o meno piccoli, non noti, o noti entro certi livelli di incertezza, i cui controbuti possono essere determinanti per la misura di interesse, a seconda del contesto sperimentale che abbiamo."
   ]
  },
  {
   "cell_type": "markdown",
   "metadata": {},
   "source": [
    "## Confronto con la teoria\n",
    "\n",
    "Le distribuzioni delle quantità misurate sono previste da **modelli teorici** che in generale dipendono da **parametri**, come costanti fondamentali, ecc.\n",
    "\n",
    "Dato un campione di dati misurato vogliamo:\n",
    "* misurare parametri teorici\n",
    "    * la massa di una particella\n",
    "    * una costante di un'interazione fondamentale\n",
    "    * ...\n",
    "* rispondere a domande sulla natura dei dati:\n",
    "    * esiste il bosone di Higgs?\n",
    "    * esistono le onde gravitazionali?\n",
    "    * esiste la materia oscura?\n",
    "    * se non abbiamo evidenza di una particella, quale intervallo della sua massa possiamo escludere?\n",
    "    * ...\n",
    "    \n",
    "Per affrontare questi problemi dobbiamo:\n",
    "* innanzitutto avere sotto controllo una **teoria della probabilità** che descriva la casualità intrinseca dei nostri dati, oppure i parametri che influenzano la misura che *non conosciamo* (es.: l'effetto di Luna e Sole nella misura di $g$)\n",
    "* usare la teoria della probabilità per estrarre **informazioni** dal nostro campione di dati per rispondere alle nostre domande. Ad esempio:\n",
    "    * la massa del quark top vale: $m_\\mathrm{t} = 173.1 \\pm 1.3\\,\\mathrm{GeV}$\n",
    "    * il bosone di Higgs esiste; lo affermiamo perché la **significatività statistica** della misura è superiore ad ogni soglia ragionevole\n",
    "    \n",
    "Daremo significato alle affermazioni di cui sopra durante queste lezioni."
   ]
  },
  {
   "cell_type": "markdown",
   "metadata": {},
   "source": [
    "## Probabilità\n",
    "\n",
    "Dobbiamo quindi definire cosa intendiamo per probabilità e capirne le *leggi*. Questo sarà lo scopo delle prime lezioni di questo corso.\n",
    "\n",
    "Come prima cosa, capiremo cosa sono i fenomeni casuali e impareremo a simularli numericamente. In questo modo, avremo un laboratorio col quale esercitarci."
   ]
  },
  {
   "cell_type": "markdown",
   "metadata": {},
   "source": [
    "## Ma prima...\n",
    "\n",
    "... ma prima sarà necessario installare alcuni strumenti software per seguire meglio queste lezioni e per svolgere le parti interative e di esercitazioni."
   ]
  }
 ],
 "metadata": {
  "kernelspec": {
   "display_name": "Python 3 (ipykernel)",
   "language": "python",
   "name": "python3"
  },
  "language_info": {
   "codemirror_mode": {
    "name": "ipython",
    "version": 3
   },
   "file_extension": ".py",
   "mimetype": "text/x-python",
   "name": "python",
   "nbconvert_exporter": "python",
   "pygments_lexer": "ipython3",
   "version": "3.11.6"
  }
 },
 "nbformat": 4,
 "nbformat_minor": 4
}
